{
 "cells": [
  {
   "cell_type": "code",
   "execution_count": null,
   "id": "af107d0b",
   "metadata": {},
   "outputs": [],
   "source": [
    "\"\"\"Huckel Method\"\"\"\n",
    "\n",
    "__authors__ = [\"Olaseni Sode\"]\n",
    "__email__   = [\"osode@calstatela.edu\"]\n",
    "__date__      = \"2024-11-06\""
   ]
  },
  {
   "cell_type": "markdown",
   "id": "7e2ce318",
   "metadata": {},
   "source": [
    "## Part 1: Normal Huckel Theory\n",
    "\n",
    "###  Introduction to Huckel Theory\n",
    "Huckel Theory is a foundational concept in quantum chemistry that provides a simple and effective way to understand the electronic structure of conjugated systems, specifically focusing on π-electrons. It is especially useful for predicting the behavior and energy levels of molecules with alternating double and single bonds, like ethylene, butadiene, and benzene.\n"
   ]
  },
  {
   "cell_type": "code",
   "execution_count": null,
   "id": "0bc06444",
   "metadata": {},
   "outputs": [],
   "source": [
    "import numpy as np\n",
    "import matplotlib.pyplot as plt\n"
   ]
  },
  {
   "cell_type": "markdown",
   "id": "b9dc1152",
   "metadata": {},
   "source": [
    "#### Defining the Huckel Matrix\n",
    "The Huckel matrix is a simple representation of the energy interactions between π-electrons in a conjugated system. Each element in the matrix describes either the energy of a π-electron localized on a carbon atom (diagonal elements, α) or the interaction energy between adjacent carbon atoms (off-diagonal elements, β). Constructing the Huckel matrix for a molecule allows us to solve for the energy levels and understand the distribution of π-electrons."
   ]
  },
  {
   "cell_type": "code",
   "execution_count": null,
   "id": "fa16310b",
   "metadata": {},
   "outputs": [],
   "source": [
    "def huckel_matrix(n, alpha=0, beta=-1):\n",
    "    \"\"\"\n",
    "    Constructs the Hückel matrix for a linear polyene with n carbon atoms.\n",
    "\n",
    "    Parameters:\n",
    "    - n: Number of carbon atoms\n",
    "    - beta: Resonance integral (default -1)\n",
    "\n",
    "    Returns:\n",
    "    - H: Hückel matrix (n x n numpy array)\n",
    "    \"\"\"\n",
    "    H = np.zeros((n, n))\n",
    "    for i in range(n):\n",
    "        H[i, i] = alpha  # α is set to 0 for simplicity\n",
    "        if i > 0:\n",
    "            H[i, i - 1] = beta\n",
    "        if i < n - 1:\n",
    "            H[i, i + 1] = beta\n",
    "    return H\n"
   ]
  },
  {
   "cell_type": "markdown",
   "id": "900c1dd4",
   "metadata": {},
   "source": [
    "#### Constructing a Simple Huckel Matrix\n",
    "In this cell, we create the Huckel matrix for a simple system with two carbon atoms, ethene. This matrix will allow us to observe the basic structure and values within a Huckel matrix.\n",
    "\n",
    "The output will display the matrix, showing the Coulomb and Resonance integrals arranged according to the connectivity of the atoms."
   ]
  },
  {
   "cell_type": "code",
   "execution_count": null,
   "id": "4939588a",
   "metadata": {},
   "outputs": [],
   "source": [
    "H = huckel_matrix(2)\n",
    "print(H)"
   ]
  },
  {
   "cell_type": "markdown",
   "id": "3bfb0468",
   "metadata": {},
   "source": [
    "#### Solving the Huckel Matrix\n",
    "This function diagonalizes the Huckel matrix to find the orbital energies and molecular orbitals. This will provide insight into the electronic structure of the system."
   ]
  },
  {
   "cell_type": "code",
   "execution_count": null,
   "id": "dc1245d9",
   "metadata": {},
   "outputs": [],
   "source": [
    "def solve_huckel(H):\n",
    "    \"\"\"\n",
    "    Solves the eigenvalue problem for the Hückel matrix.\n",
    "\n",
    "    Parameters:\n",
    "    - H: Hückel matrix\n",
    "\n",
    "    Returns:\n",
    "    - energies: Array of eigenvalues (orbital energies)\n",
    "    - orbitals: Matrix of eigenvectors (molecular orbitals)\n",
    "    \"\"\"\n",
    "    energies, orbitals = np.linalg.eigh(H)\n",
    "    return energies, orbitals\n"
   ]
  },
  {
   "cell_type": "markdown",
   "id": "ef1ea219",
   "metadata": {},
   "source": [
    "#### Calculate Orbital Energies and Molecular Orbitals\n",
    "In this cell, we use the `solve_huckel` function to calculate the orbital energies and molecular orbitals for our Huckel matrix. The energies array contains the energy levels (eigenvalues) of the molecular orbitals, while the orbitals matrix contains the molecular orbitals themselves (eigenvectors). This step allows us to analyze the electronic structure of the molecule based on Huckel theory."
   ]
  },
  {
   "cell_type": "code",
   "execution_count": null,
   "id": "ae14a086",
   "metadata": {},
   "outputs": [],
   "source": [
    "energies, orbitals = solve_huckel(H)\n",
    "\n",
    "print(\"Orbital Energies:\")\n",
    "for i, energy in enumerate(energies):\n",
    "    print(f\"E_{i + 1} = {energy:.4f} β\")\n",
    "with np.printoptions(precision=3, suppress=True):\n",
    "    print(np.matrix(orbitals))"
   ]
  },
  {
   "cell_type": "markdown",
   "id": "f807cf38",
   "metadata": {},
   "source": [
    "#### Hückel Matrix for an 4-Carbon Linear Polyene\n",
    "In the cell below, create the Hückel matrix for linear polyenes with 4 carbon atoms. After constructing the matrix, solve for and print the orbital energies and eigenvectors (molecular orbitals)."
   ]
  },
  {
   "cell_type": "code",
   "execution_count": null,
   "id": "1e201f61",
   "metadata": {},
   "outputs": [],
   "source": [
    "## insert code to for linear polyene with 4 carbon atoms"
   ]
  },
  {
   "cell_type": "code",
   "execution_count": null,
   "id": "ff34ea8e",
   "metadata": {},
   "outputs": [],
   "source": [
    "H = huckel_matrix(3)\n",
    "energies, orbitals = solve_huckel(H)\n",
    "\n",
    "#print(energies.tolist())\n",
    "print(\"Orbital Energies:\")\n",
    "for i, energy in enumerate(energies):\n",
    "    print(f\"E_{i + 1} = {energy:.4f}\")\n",
    "with np.printoptions(precision=3, suppress=True):\n",
    "    print(np.matrix(orbitals))\n"
   ]
  },
  {
   "cell_type": "markdown",
   "id": "9d685dcc",
   "metadata": {},
   "source": [
    "#### Hückel Matrix for an 8-Carbon Linear Polyene\n",
    "\n",
    "In Hückel theory, the parameter $\\alpha$ represents the Coulomb integral for the carbon 2p orbital, describing the energy of an electron in a $\\pi$-orbital localized on a single carbon atom. Although often set to zero for simplicity, $\\alpha$ has a typical value of around $ -11\\ \\text{eV} $. The parameter $\\beta$ represents the resonance (or bonding) integral between adjacent $\\pi$-orbitals, with a typical value of approximately $-2.5\\ \\text{eV}$ for carbon systems, indicating a stabilizing bonding interaction.\n",
    "\n",
    "In the cell below:\n",
    "\n",
    "1. Construct the Hückel matrix for a linear polyene with 8 carbon atoms, incorporating the values $\\alpha = -11$ \\, $\\text{eV}$\\) and \\($\\beta = -2.5$ \\, $\\text{eV}$\\).\n",
    "2. Solve for the orbital energies and molecular orbitals by finding the eigenvalues and eigenvectors of this matrix.\n",
    "3. Print the resulting orbital energies and molecular orbitals.\n",
    "\n"
   ]
  },
  {
   "cell_type": "code",
   "execution_count": null,
   "id": "31cc20b9",
   "metadata": {},
   "outputs": [],
   "source": [
    "H = __________ ## insert code to for linear polyene with 4 carbon atoms\n",
    "energies, orbitals = solve_huckel(H)\n",
    "\n",
    "#print(energies.tolist())\n",
    "print(\"Orbital Energies:\")\n",
    "for i, energy in enumerate(energies):\n",
    "    print(f\"E_{i + 1} = {energy:.4f}\")\n",
    "with np.printoptions(precision=3, suppress=True):\n",
    "    print(np.matrix(orbitals))"
   ]
  },
  {
   "cell_type": "markdown",
   "id": "a57d225f",
   "metadata": {},
   "source": [
    "### Hückel Theory for Cyclic Polyenes: Benzene and Naphthalene\n",
    "\n",
    "Now that we have explored linear polyenes, let's apply Hückel theory to cyclic polyenes. In cyclic molecules, the ends of the carbon chain connect to form a closed loop, influencing the structure and symmetry of the Hückel matrix."
   ]
  },
  {
   "cell_type": "code",
   "execution_count": null,
   "id": "9ea4a460",
   "metadata": {
    "scrolled": true
   },
   "outputs": [],
   "source": [
    "### create Huckel matrix for benzene"
   ]
  },
  {
   "cell_type": "code",
   "execution_count": null,
   "id": "b26f9d67",
   "metadata": {},
   "outputs": [],
   "source": [
    "### calculate and print the eigenvalues and eigenvectors"
   ]
  },
  {
   "cell_type": "code",
   "execution_count": null,
   "id": "dc760f9d",
   "metadata": {},
   "outputs": [],
   "source": [
    "### create Huckel matrix for napthalene"
   ]
  },
  {
   "cell_type": "code",
   "execution_count": null,
   "id": "16fac550",
   "metadata": {},
   "outputs": [],
   "source": [
    "### calculate and print the eigenvalues and eigenvectors"
   ]
  },
  {
   "cell_type": "markdown",
   "id": "88b788c4",
   "metadata": {},
   "source": [
    "**Question: <span style=\"color:red\">What happens to the molecular orbital energies when you add carbons to a cyclic polyene (e.g., from benzene to naphthalene)?</span>**\n",
    "\n",
    "    \n",
    "**Answer:** "
   ]
  },
  {
   "cell_type": "markdown",
   "id": "d307187a",
   "metadata": {},
   "source": []
  },
  {
   "cell_type": "markdown",
   "id": "46c7810d",
   "metadata": {},
   "source": [
    "**Question: <span style=\"color:red\">How can the eigenvectors (molecular orbitals) tell us about the electron distribution across the molecule?</span>**\n",
    "\n",
    "    \n",
    "**Answer:** "
   ]
  },
  {
   "cell_type": "code",
   "execution_count": null,
   "id": "f6e404fc",
   "metadata": {},
   "outputs": [],
   "source": []
  },
  {
   "cell_type": "markdown",
   "id": "72f6f460",
   "metadata": {},
   "source": [
    "## Part 2: Extended Huckel Method"
   ]
  },
  {
   "cell_type": "markdown",
   "id": "da6677f4",
   "metadata": {},
   "source": [
    "Extended Hückel Method enhances basic Hückel theory by incorporating empirical values for ionization potentials on the Hamiltonian matrix's diagonal and overlap integrals for off-diagonal elements, providing a more accurate representation of electronic interactions between atomic orbitals. This approach improves the modeling of electronic properties, bond strengths, and molecular geometries in complex molecules, making it a useful method that bridges simple Hückel theory and more computationally intensive quantum methods."
   ]
  },
  {
   "cell_type": "markdown",
   "id": "b8c576ad",
   "metadata": {},
   "source": [
    "#### Instructions for EHM Simulation\n",
    "\n",
    "In this section, you’ll implement the EHM to calculate the electronic structure of a molecule. You’ll expand on the Hückel matrix you constructed earlier, introducing overlap integrals and empirical parameters to gain a more realistic view of molecular orbitals and energy levels.\n",
    "\n",
    "1. **Define the EHT Parameters**\n",
    "2. **Construct the Hamiltonian Matrix**\n",
    "3. **Define the Overlap Matrix**\n",
    "4. **Solve the Eigenvalue Problem**\n",
    "\n"
   ]
  },
  {
   "cell_type": "markdown",
   "id": "304c4abd",
   "metadata": {},
   "source": [
    "#### EHM Constants\n",
    "Let's start by defining some constants for the EHM. These include: the empirical K constant, which scales the off-diagonal elements in the Hamiltonian and the ionization potential for the hydrogen 1s orbital in electron volts (eV), which serves as the diagonal element for hydrogen atoms in the Hamiltonian"
   ]
  },
  {
   "cell_type": "code",
   "execution_count": null,
   "id": "db6eae54",
   "metadata": {},
   "outputs": [],
   "source": [
    "# Constants\n",
    "K = 3  # Empirical constant in extended Hückel method\n",
    "H_ii = -13.6  # Ionization potential of hydrogen 1s orbital in eV"
   ]
  },
  {
   "cell_type": "markdown",
   "id": "0377104d",
   "metadata": {},
   "source": [
    "The following cell defines a function to approximate the overlap integral S12  between two hydrogen 1s orbitals as a function of the distance R. The overlap integral quantifies how much two atomic orbitals overlap, which is important in determining molecular bonding characteristics. Here, a simple exponential decay is used as an approximation."
   ]
  },
  {
   "cell_type": "code",
   "execution_count": null,
   "id": "c87c71f3",
   "metadata": {},
   "outputs": [],
   "source": [
    "# Define a function to calculate the overlap integral S_12 between two 1s orbitals\n",
    "def overlap_1s(R):\n",
    "    \"\"\"\n",
    "    Approximate overlap integral between two hydrogen 1s orbitals as a function of distance R (in Ångströms).\n",
    "    We'll use a simple exponential decay function for demonstration purposes.\n",
    "    \"\"\"\n",
    "    S = np.exp(-R)  # Simplified overlap function\n",
    "    return S"
   ]
  },
  {
   "cell_type": "markdown",
   "id": "ca3b219f",
   "metadata": {},
   "source": [
    "This cell defines a function to calculate the off-diagonal Hamiltonian matrix element H12 using the extended Hückel method. In EHT, H12 depends on the overlap integral S12 a scaling factor K, and the average of the diagonal elements. This matrix element captures the interaction strength between the atomic orbitals, which influences bonding and molecular stability."
   ]
  },
  {
   "cell_type": "code",
   "execution_count": null,
   "id": "53e95ed0",
   "metadata": {},
   "outputs": [],
   "source": [
    "# Define a function to calculate H_12 using the extended Hückel method\n",
    "def H_12(S_12, Hii=0.0, Hjj=0.0):\n",
    "    \"\"\"\n",
    "    Calculate the off-diagonal Hamiltonian matrix element H_12 using the extended Hückel method.\n",
    "    \"\"\"\n",
    "    H12 = K * S_12 * (Hii + Hjj) / 2 \n",
    "    return H12"
   ]
  },
  {
   "cell_type": "markdown",
   "id": "47734212",
   "metadata": {},
   "source": [
    "#### EHM for Hydrogen molecule at range of bond lengths\n",
    "In this section, you’ll apply the EHM to calculate the electronic energy levels of the hydrogen molecule (H$_2$). By varying the bond length, R, we can observe how the ground state and excited state energies change.\n",
    "\n",
    "Complete the missing parts in the code below to perform the calculations."
   ]
  },
  {
   "cell_type": "code",
   "execution_count": null,
   "id": "5106b22c",
   "metadata": {},
   "outputs": [],
   "source": []
  },
  {
   "cell_type": "code",
   "execution_count": null,
   "id": "e0148bdb",
   "metadata": {},
   "outputs": [],
   "source": [
    "# Extended Hückel Method for the Hydrogen Molecule (H₂)\n",
    "\n",
    "import numpy as np\n",
    "import matplotlib.pyplot as plt\n",
    "\n",
    "# Range of bond lengths (from 0.3 Å to 5.0 Å)\n",
    "R_values = np.linspace(0.1, 5.0, 100)\n",
    "\n",
    "# Arrays to store energies\n",
    "E1_values = []  # Ground state energies\n",
    "E2_values = []  # Excited state energies\n",
    "  \n",
    "for R in R_values:\n",
    "    \n",
    "    # Calculate overlap integral\n",
    "    S12 = overlap_1s(R)\n",
    "    \n",
    "    # Students: Calculate H12 using the overlap integral and appropriate constants\n",
    "    # Hint: Use the H_12 function with the correct parameters\n",
    "    H12 = ________\n",
    "    \n",
    "    # Students: Build the Hamiltonian matrix H\n",
    "    # H = np.array([[..., ...],\n",
    "    #               [..., ...]])\n",
    "    H = ________\n",
    "    \n",
    "    # Students: Build the overlap matrix S\n",
    "    # S = np.array([[..., ...],\n",
    "    #               [..., ...]])\n",
    "    S = ________    \n",
    "\n",
    "\n",
    "    # Solve the generalized eigenvalue problem H * C = E * S * C\n",
    "    E, C = np.linalg.eig(np.linalg.inv(S).dot(H))\n",
    "\n",
    "    # Sort energies\n",
    "    E_sorted = np.sort(E)\n",
    "    E1_values.append(E_sorted[0])\n",
    "    E2_values.append(E_sorted[1])\n",
    "\n"
   ]
  },
  {
   "cell_type": "markdown",
   "id": "bde0264d",
   "metadata": {},
   "source": [
    "#### Plot the ground state and excited state energies"
   ]
  },
  {
   "cell_type": "code",
   "execution_count": null,
   "id": "347b7c1c",
   "metadata": {},
   "outputs": [],
   "source": [
    "# Convert lists to numpy arrays\n",
    "E1_values = np.array(E1_values)\n",
    "E2_values = np.array(E2_values)\n",
    "\n",
    "# Plot the energies as a function of bond length\n",
    "plt.figure(figsize=(10, 6))\n",
    "plt.plot(R_values, E1_values, label='Ground State Energy (E1)')\n",
    "plt.plot(R_values, E2_values, label='Excited State Energy (E2)')\n",
    "plt.xlabel('H-H Bond Length (Å)')\n",
    "plt.ylabel('Energy (eV)')\n",
    "plt.title('Energy Levels of H₂ Molecule vs. Bond Length')\n",
    "plt.legend()\n",
    "plt.grid(True)\n",
    "plt.show()"
   ]
  },
  {
   "cell_type": "code",
   "execution_count": null,
   "id": "45685700",
   "metadata": {},
   "outputs": [],
   "source": []
  },
  {
   "cell_type": "markdown",
   "id": "4f19bab2",
   "metadata": {},
   "source": [
    "**Question: <span style=\"color:red\">How does the choice of K affect the energy levels?</span>**\n",
    "\n",
    "    \n",
    "**Answer:** "
   ]
  },
  {
   "cell_type": "code",
   "execution_count": null,
   "id": "589b04fa",
   "metadata": {},
   "outputs": [],
   "source": []
  },
  {
   "cell_type": "markdown",
   "id": "404cdb62",
   "metadata": {},
   "source": [
    "**Question: <span style=\"color:red\">What happens to the overlap integral as the bond length increases?</span>**\n",
    "\n",
    "    \n",
    "**Answer:** "
   ]
  },
  {
   "cell_type": "code",
   "execution_count": null,
   "id": "246e58aa",
   "metadata": {},
   "outputs": [],
   "source": []
  },
  {
   "cell_type": "markdown",
   "id": "fa18830d",
   "metadata": {},
   "source": [
    "### Extended Hückel Method for the HeH$^+$ Molecule\n",
    "\n",
    "In this section, you'll apply the Extended Hückel Method (EHM) to model the electronic structure of the HeH$^+$ molecule. By adapting the code for $\\text{H}_2$ from above, you'll explore how the EHM handles differences in atomic properties within a molecule.\n",
    "\n",
    "Make sure change the ionization energy for helium (approx. 24.6 eV) copmared to hydrogen (approx. 13.6 eV). Compute the ground state and excited state energies at different distances like before.\n",
    "\n",
    "Don't forget to plot the energies and compare to the $\\text{H}_2$ molecule.\n"
   ]
  },
  {
   "cell_type": "code",
   "execution_count": null,
   "id": "8264185c",
   "metadata": {},
   "outputs": [],
   "source": []
  },
  {
   "cell_type": "markdown",
   "id": "7ec55dca",
   "metadata": {},
   "source": [
    "**Question: <span style=\"color:red\">How does the ground-state energy of HeH$^+$ compare to the H$_2$ molecule?</span>**\n",
    "\n",
    "    \n",
    "**Answer:** "
   ]
  },
  {
   "cell_type": "code",
   "execution_count": null,
   "id": "cd1751ec",
   "metadata": {},
   "outputs": [],
   "source": []
  },
  {
   "cell_type": "markdown",
   "id": "05b861ef",
   "metadata": {},
   "source": [
    "**Question: <span style=\"color:red\">Based on your energy plot, at what bond length (if any) do you expect HeH$^+$ to be most stable? Explain how this bond length compares to the experimental bond length of HeH$^+$.</span>**\n",
    "\n",
    "    \n",
    "**Answer:** "
   ]
  },
  {
   "cell_type": "code",
   "execution_count": null,
   "id": "66220dde",
   "metadata": {},
   "outputs": [],
   "source": []
  },
  {
   "cell_type": "code",
   "execution_count": null,
   "id": "1f378b40",
   "metadata": {},
   "outputs": [],
   "source": []
  },
  {
   "cell_type": "markdown",
   "id": "c0f02060",
   "metadata": {},
   "source": [
    "### Improved Extended Huckel Method\n",
    "\n",
    "There are several ways to enhance the accuracy of the Extended Hückel Method. For example, we can set distinct values for the ionization energies of different atoms, refine the overlap integral calculation, and include nuclear repulsion to compute the total energy.\n",
    "\n",
    "Among these improvements, refining the overlap calculation and incorporating nuclear repulsion are likely the most impactful. The cells below will guide you through implementing these changes and analyzing how they affect the computed energies.\n",
    "\n",
    "Let's start by creating a more accurate overlap integral. To do this, we'll need a few functions: the normalization constant and the updated overlap integral function."
   ]
  },
  {
   "cell_type": "markdown",
   "id": "8d04b762",
   "metadata": {},
   "source": [
    "#### Double factorial\n",
    "This function calculates the double factorial of a given integer n which is needed for the normalization constant"
   ]
  },
  {
   "cell_type": "code",
   "execution_count": null,
   "id": "7bcd2ea5",
   "metadata": {},
   "outputs": [],
   "source": [
    "def double_factorial(n):\n",
    "    \"\"\"\n",
    "    Computes the double factorial of n.\n",
    "    \"\"\"\n",
    "    if n == -1 or n == 0:\n",
    "        return 1\n",
    "    else:\n",
    "        return n * double_factorial(n - 2)\n"
   ]
  },
  {
   "cell_type": "markdown",
   "id": "47375e9c",
   "metadata": {},
   "source": [
    "#### Normalization constant\n",
    "This function calculates the normalization constant for a Gaussian atomic orbital with given exponent a and angular momentum quantum numbers l, m, n. The normalization ensures that the integral of the Gaussian over all space equals 1."
   ]
  },
  {
   "cell_type": "code",
   "execution_count": null,
   "id": "61687fa5",
   "metadata": {},
   "outputs": [],
   "source": [
    "def normalization_constant(a, l, m, n):\n",
    "    \"\"\"\n",
    "    Computes the normalization constant for a Gaussian function with exponents a and angular momentum l, m, n.\n",
    "\n",
    "    Args:\n",
    "        a (float): Exponent of the Gaussian.\n",
    "        l, m, n (int): Angular momentum quantum numbers.\n",
    "\n",
    "    Returns:\n",
    "        float: Normalization constant.\n",
    "    \"\"\"\n",
    "    import math\n",
    "\n",
    "    pre_factor = (2 * a / np.pi) ** (3 / 4)\n",
    "    l_factor = (2 ** l) * (a ** l) / double_factorial(2 * l - 1)\n",
    "    m_factor = (2 ** m) * (a ** m) / double_factorial(2 * m - 1)\n",
    "    n_factor = (2 ** n) * (a ** n) / double_factorial(2 * n - 1)\n",
    "    norm_const = pre_factor * np.sqrt(l_factor * m_factor * n_factor)\n",
    "    return norm_const"
   ]
  },
  {
   "cell_type": "markdown",
   "id": "1e219e4d",
   "metadata": {},
   "source": [
    "#### Calculating Hermite Gaussian Coefficients\n",
    "This function recursively computes the Hermite Gaussian coefficients needed to evaluate the overlap integrals between two Gaussian atomic orbitals with specified exponents and angular momentum numbers."
   ]
  },
  {
   "cell_type": "code",
   "execution_count": null,
   "id": "61652c91",
   "metadata": {},
   "outputs": [],
   "source": [
    "def Ef(i,j,t,Qx,a,b):\n",
    "    ''' Recursive definition of Hermite Gaussian coefficients.\n",
    "        Returns a float.\n",
    "        a: orbital exponent on Gaussian 'a' (e.g. alpha in the text)\n",
    "        b: orbital exponent on Gaussian 'b' (e.g. beta in the text)\n",
    "        i,j: orbital angular momentum number on Gaussian 'a' and 'b'\n",
    "        t: number nodes in Hermite (depends on type of integral, \n",
    "           e.g. always zero for overlap integrals)\n",
    "        Qx: distance between origins of Gaussian 'a' and 'b'\n",
    "    '''\n",
    "    p = a + b\n",
    "    q = a*b/p\n",
    "    if (t < 0) or (t > (i + j)):\n",
    "        # out of bounds for t  \n",
    "        return 0.0\n",
    "    elif i == j == t == 0:\n",
    "        # base case\n",
    "        return np.exp(-q*Qx*Qx) # K_AB\n",
    "    elif j == 0:\n",
    "        # decrement index i\n",
    "        return (1/(2*p))*Ef(i-1,j,t-1,Qx,a,b) - \\\n",
    "               (q*Qx/a)*Ef(i-1,j,t,Qx,a,b)    + \\\n",
    "               (t+1)*Ef(i-1,j,t+1,Qx,a,b)\n",
    "    else:\n",
    "        # decrement index j\n",
    "        return (1/(2*p))*Ef(i,j-1,t-1,Qx,a,b) + \\\n",
    "               (q*Qx/b)*Ef(i,j-1,t,Qx,a,b)    + \\\n",
    "               (t+1)*Ef(i,j-1,t+1,Qx,a,b)"
   ]
  },
  {
   "cell_type": "markdown",
   "id": "3d1190f4",
   "metadata": {},
   "source": [
    "#### Overlap integral\n",
    "This function computes the overlap integral between two Gaussian atomic orbitals centered at different points, A and B with given exponents a and b and angular momentum values lmn1 and lmn2 for each Gaussian."
   ]
  },
  {
   "cell_type": "code",
   "execution_count": null,
   "id": "50a4f444",
   "metadata": {},
   "outputs": [],
   "source": [
    "def overlap(a,lmn1,A,b,lmn2,B):\n",
    "    ''' Evaluates overlap integral between two Gaussians\n",
    "        Returns a float.\n",
    "        a:    orbital exponent on Gaussian 'a' (e.g. alpha in the text)\n",
    "        b:    orbital exponent on Gaussian 'b' (e.g. beta in the text)\n",
    "        lmn1: int tuple containing orbital angular momentum (e.g. (1,0,0))\n",
    "              for Gaussian 'a'\n",
    "        lmn2: int tuple containing orbital angular momentum for Gaussian 'b'\n",
    "        A:    list containing origin of Gaussian 'a', e.g. [1.0, 2.0, 0.0]\n",
    "        B:    list containing origin of Gaussian 'b'\n",
    "    '''\n",
    "    l1,m1,n1 = lmn1 # shell angular momentum on Gaussian 'a'\n",
    "    l2,m2,n2 = lmn2 # shell angular momentum on Gaussian 'b'\n",
    "    \n",
    "    N1 = normalization_constant(a, l1, m1, n1)\n",
    "    N2 = normalization_constant(b, l2, m2, n2)\n",
    "\n",
    "    \n",
    "    S1 = Ef(l1,l2,0,A[0]-B[0],a,b) # X\n",
    "    S2 = Ef(m1,m2,0,A[1]-B[1],a,b) # Y\n",
    "    S3 = Ef(n1,n2,0,A[2]-B[2],a,b) # Z\n",
    "    return N1*N2*S1*S2*S3*np.power(np.pi/(a+b),1.5)"
   ]
  },
  {
   "cell_type": "markdown",
   "id": "4845bf89",
   "metadata": {},
   "source": [
    "#### Nuclear repulsion\n",
    "Next, we need to add the nuclear repulsion term to compute the total energy of the molecule. This term accounts for the repulsive interaction between the positively charged atomic nuclei and is essential for obtaining the correct total energy in molecular calculations."
   ]
  },
  {
   "cell_type": "code",
   "execution_count": null,
   "id": "7cef4499",
   "metadata": {},
   "outputs": [],
   "source": [
    "# Constants\n",
    "e_charge = 1.602176634e-19  # Elementary charge in Coulombs\n",
    "epsilon_0 = 8.854187817e-12  # Vacuum permittivity in F/m\n",
    "eV_to_J = 1.602176634e-19    # Conversion factor from eV to Joules\n",
    "\n",
    "# Calculate nuclear-nuclear repulsion energy (in eV)\n",
    "def nuclear_repulsion(R, Za=1, Zb=1):\n",
    "    \"\"\"\n",
    "    Calculate the nuclear-nuclear repulsion energy for two protons at distance R (in Ångströms).\n",
    "    \"\"\"\n",
    "    R_meters = R * 1e-10  # Convert Å to meters\n",
    "    E_nuc = Za * Zb * (e_charge ** 2) / (4 * np.pi * epsilon_0 * R_meters)  # Energy in Joules\n",
    "    E_nuc_eV = E_nuc / eV_to_J  # Convert to eV\n",
    "    return E_nuc_eV"
   ]
  },
  {
   "cell_type": "code",
   "execution_count": null,
   "id": "0224ab8a",
   "metadata": {},
   "outputs": [],
   "source": []
  },
  {
   "cell_type": "markdown",
   "id": "6e82be25",
   "metadata": {},
   "source": [
    "Now, calculate the total energy of the hydrogen molecule by editing the cell below and incorporating the functions provided above. This will involve summing the electronic energies and adding the nuclear repulsion energy to obtain the molecule's total energy. Use the overlap integral and Hamiltonian matrix functions to build the Hamiltonian for the hydrogen system, and solve for the eigenvalues, which represent the energy levels."
   ]
  },
  {
   "cell_type": "code",
   "execution_count": null,
   "id": "82b8e99b",
   "metadata": {},
   "outputs": [],
   "source": [
    "import numpy as np\n",
    "import matplotlib.pyplot as plt\n",
    "\n",
    "# Constants\n",
    "K = 1.75  # Empirical constant in extended Hückel method\n",
    "H_ii = -13.6  # Ionization potential of hydrogen 1s orbital in eV\n",
    "\n",
    "# Range of bond lengths (from 0.3 Å to 5.0 Å)\n",
    "R_values = np.linspace(0.1, 10.0, 500)\n",
    "\n",
    "# Arrays to store energies\n",
    "E1_values = []  # Ground state energies\n",
    "E2_values = []  # Excited state energies\n",
    "E_total_values = []\n",
    "repulsion = []\n",
    "\n",
    "# Loop over bond lengths and calculate energies\n",
    "for R in R_values:\n",
    "    \n",
    "    A = np.array([0.0, 0.0, 0.0])\n",
    "    B = np.array([R, 0.0, 0.0])\n",
    "\n",
    "    # Set parameters for overlap integral (students need to define these values)\n",
    "    exponent_a = ______   # Define exponent for Gaussian centered at A\n",
    "    exponent_b = ______   # Define exponent for Gaussian centered at B\n",
    "    lmn = (0, 0, 0)\n",
    "    \n",
    "    # Calculate overlap integral (students need to call the function with appropriate parameters)\n",
    "    S12 = overlap(_______, _______, _______, _______, _______)\n",
    "    H12 = H_12(S12)\n",
    "    \n",
    "    # Students: Calculate H12 using the overlap integral and appropriate constants\n",
    "    # Hint: Use the H_12 function with the correct parameters\n",
    "    H12 = ________\n",
    "    \n",
    "    # Students: Build the Hamiltonian matrix H\n",
    "    # H = np.array([[..., ...],\n",
    "    #               [..., ...]])\n",
    "    H = ________\n",
    "    \n",
    "    # Students: Build the overlap matrix S\n",
    "    # S = np.array([[..., ...],\n",
    "    #               [..., ...]])\n",
    "    S = ________    \n",
    "\n",
    "    \n",
    "    # Build Hamiltonian matrix H and overlap matrix S\n",
    "    H = np.array([[H_ii, H_12(S12)],\n",
    "                  [H_12(S12), H_ii]])\n",
    "    S = np.array([[1.0, S12],\n",
    "                  [S12, 1.0]])\n",
    "    \n",
    "    # Solve the generalized eigenvalue problem H * C = E * S * C\n",
    "    nrg, C = np.linalg.eig(np.linalg.inv(S).dot(H))\n",
    "    \n",
    "    # Sort energies\n",
    "    E_sorted = np.sort(nrg)\n",
    "    E1_values.append(E_sorted[0])\n",
    "    E2_values.append(E_sorted[1])\n",
    "    \n",
    "    # Calculate nuclear repulsion and total energy (students need to call the function)\n",
    "    repulsion_energy = nuclear_repulsion(R)  # Call nuclear_repulsion function\n",
    "    repulsion.append(repulsion_energy)\n",
    "\n",
    "    E_total = ______  # Define total energy expression using E_sorted and repulsion_energy\n",
    "    E_total_values.append(E_total)\n",
    "\n",
    "# Convert lists to numpy arrays for plotting\n",
    "E1_values = np.array(E1_values)\n",
    "E2_values = np.array(E2_values)\n",
    "repulsion = np.array(repulsion)\n",
    "E_total_values = np.array(E_total_values)\n"
   ]
  },
  {
   "cell_type": "code",
   "execution_count": null,
   "id": "bb82f836",
   "metadata": {},
   "outputs": [],
   "source": [
    "# Plot the energies as a function of bond length\n",
    "plt.figure(figsize=(10, 6))\n",
    "plt.plot(R_values, E_total_values, label='Total Energy (ET)')\n",
    "plt.xlabel('H-H Bond Length (Å)')\n",
    "plt.ylabel('Energy (eV)')\n",
    "\n",
    "plt.title('Total Energy of H₂ Molecule vs. Bond Length')\n",
    "plt.legend()\n",
    "plt.grid(True)\n",
    "plt.show()"
   ]
  },
  {
   "cell_type": "code",
   "execution_count": null,
   "id": "737727f0",
   "metadata": {},
   "outputs": [],
   "source": []
  },
  {
   "cell_type": "code",
   "execution_count": null,
   "id": "c864105e",
   "metadata": {},
   "outputs": [],
   "source": []
  },
  {
   "cell_type": "markdown",
   "id": "4e7792cf",
   "metadata": {},
   "source": [
    "**Question: <span style=\"color:red\">How does including nuclear repulsion in the total energy calculation impact the predicted bond length and stability of the molecule?</span>**\n",
    "\n",
    "    \n",
    "**Answer:** "
   ]
  },
  {
   "cell_type": "code",
   "execution_count": null,
   "id": "a8261063",
   "metadata": {},
   "outputs": [],
   "source": []
  },
  {
   "cell_type": "markdown",
   "id": "f3be74a6",
   "metadata": {},
   "source": [
    "**Question: <span style=\"color:red\">In what scenarios might the simpler EHM be adequate, and when would the improvements become necessary?</span>**\n",
    "\n",
    "    \n",
    "**Answer:** "
   ]
  },
  {
   "cell_type": "code",
   "execution_count": null,
   "id": "945af285",
   "metadata": {},
   "outputs": [],
   "source": []
  }
 ],
 "metadata": {
  "kernelspec": {
   "display_name": "Python 3 (ipykernel)",
   "language": "python",
   "name": "python3"
  },
  "language_info": {
   "codemirror_mode": {
    "name": "ipython",
    "version": 3
   },
   "file_extension": ".py",
   "mimetype": "text/x-python",
   "name": "python",
   "nbconvert_exporter": "python",
   "pygments_lexer": "ipython3",
   "version": "3.9.7"
  }
 },
 "nbformat": 4,
 "nbformat_minor": 5
}
