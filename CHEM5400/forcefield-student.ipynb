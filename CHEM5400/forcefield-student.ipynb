{
 "cells": [
  {
   "cell_type": "code",
   "execution_count": null,
   "id": "ae145125",
   "metadata": {},
   "outputs": [],
   "source": [
    "\"\"\"Building a Molecular Mechanics Force Field\"\"\"\n",
    "\n",
    "__authors__ = [\"Olaseni Sode\",\"Paul Nerenberg\"]\n",
    "__email__   = [\"osode@calstatela.edu\",\"pnerenb@calstatela.edu\"]\n",
    "__date__      = \"2022-10-13\""
   ]
  },
  {
   "cell_type": "markdown",
   "id": "535f2e17",
   "metadata": {},
   "source": [
    "# Building a Force Field\n",
    "\n",
    "In this exercise you will examine a simple fixed-charge force field (GAFF2) for a simple molecule (ethane) and see how it is “coded” into an XML file for OpenMM.  You will then create an analogous XML file for simulating a similar molecule with OpenMM."
   ]
  },
  {
   "cell_type": "code",
   "execution_count": 1,
   "id": "a2bfb5d0",
   "metadata": {},
   "outputs": [],
   "source": [
    "# import the python modules that we will use\n",
    "import psi4\n",
    "import numpy as np\n",
    "# enable the output of plotting commands to be displayed in a Jupyter notebook\n",
    "%matplotlib inline\n",
    "import matplotlib.pyplot as plt"
   ]
  },
  {
   "cell_type": "markdown",
   "id": "580fe975",
   "metadata": {},
   "source": [
    "#### A brief recap of force fields\n",
    "\n",
    "As we discussed, a great many force fields have used the following functional form to describe intra- and intermolecular interactions:\n",
    "\n",
    "$$ U = U_{\\rm bond}+U_{\\rm angle}+U_{\\rm torsion}+U_{\\rm elec}+U_{\\rm vDW}$$\n",
    "\n",
    "where for individual bonds (between two atoms), angles (between atoms separated by two bonds), torsions (between atoms separated by three bonds), or atom pairs separated by three bonds/nonbonded atom pairs:\n",
    "\n",
    "$$U_{\\rm bond} = \\frac{1}{2}k_{l}(l-l_{eq})^2,$$\n",
    "$$U_{\\rm angle} = \\frac{1}{2}k_{\\theta}(\\theta - \\theta_{eq})^2,$$\n",
    "$$U_{\\rm torsion} = \\sum_n^{n_{\\rm max}} U_n [1 + (\\cos n\\phi - \\gamma_n)],$$\n",
    "$$U_{\\rm elec} = \\frac{k_e q_i q_j}{r_{ij}},$$  \n",
    "$$U_{\\rm vDW} = 4\\epsilon_{ij} \\left [ \\left ( \\frac{\\sigma_{ij}}{r_{ij}}\\right )^12 - \\left (\\frac{\\sigma_{ij}}{r_{ij}}\\right )^6 \\right ].$$"
   ]
  },
  {
   "cell_type": "markdown",
   "id": "df265130",
   "metadata": {},
   "source": [
    "## 1. Force Field for Ethane"
   ]
  },
  {
   "attachments": {
    "ethane.jpg": {
     "image/jpeg": "[encoded data removed]"
    }
   },
   "cell_type": "markdown",
   "id": "9cc5958d",
   "metadata": {},
   "source": [
    "To help make sense of these equations let’s examine ethane (${\\rm C_2H_6}$), which is perhaps the simplest molecule that requires all of these terms for accurate modeling.\n",
    "\n",
    "![ethane.jpg](attachment:ethane.jpg)\n",
    "\n",
    "From the 3D structure above (see also the [ethane PDB](#Ethane-PDB) at the end of this notebook), you can reason that in ethane there are two types of bonds (C-C and C-H), two types of angles (H-C-H and H-C-C), and one torsion (H-C-C-H).  By examining the symmetry of this molecule, it is reasonable to assume that the partial atomic charges ($q_i$) and van der Waals parameters ($\\epsilon_i$ and $\\sigma_i$) will be the same for both carbon atoms and likewise for all six hydrogen atoms.  The GAFF2 force field assigns the following SI parameters for all of these interactions:"
   ]
  },
  {
   "cell_type": "markdown",
   "id": "3248e6ef",
   "metadata": {},
   "source": [
    "| Interaction | Force Constants | Equilibrium |\n",
    "| :-- | :-- | :-- |\n",
    "| C-C bond | $k_r =$ 1.946 $\\times 10^5$ kJ/mol⋅nm$^2$ | $r_{eq} = $ 0.1538 nm |\n",
    "| C-H bond | $k_r =$ 3.146 $\\times 10^5$ kJ/mol⋅nm$^2$ | $r_{eq} = $ 0.1097 nm |\n",
    "| H-C-H angle | $k_{\\theta} =$ 326.0 kJ/mol⋅rad$^2$ | $\\theta_{eq} = $ 1.878 rad |\n",
    "| H-C-C angle | $k_{\\theta} =$ 391.8 kJ/mol⋅rad$^2$ | $\\theta_{eq} = $ 1.916 rad |\n",
    "| H-C-C-H torsion | $U_{3} =$ 0.5021 kJ/mol⋅rad$^2$ | $\\gamma_{3} = $ 0 rad | \n",
    "\n",
    "| Interaction | Partial Charges | Sigma | Epsilon |\n",
    "| :-- | :-- | :-- | :-- |\n",
    "| C atom (nonbonded) | $q_C =$ -0.0951e | $\\sigma_{C} = $ 0.3398 nm | $\\epsilon_C$ = 0.4510 kJ/mol |\n",
    "| H atom (nonbonded) | $q_H =$ 0.0317e | $\\sigma_{H} = $ 0.2600 nm | $\\epsilon_H$ = 0.0870 kJ/mol |"
   ]
  },
  {
   "cell_type": "markdown",
   "id": "3f5dac53",
   "metadata": {},
   "source": [
    "<span style=\"color:red\">Note the units for all of these values.</span>\n",
    "\n",
    "If you examine the cell below (which contains the `ethane.gaff2.xml` code), you will first see that we define two types of atoms (0 for the C atoms and 1 for the H atoms).  The next section describes which types apply to the atoms in ethane.  In addition, much like a PDB file, this XML file conveys connectivity/topology information by describing which atoms are bonded to each other.  Finally, you should see multiple sections that convey the force field information given above."
   ]
  },
  {
   "cell_type": "markdown",
   "id": "1a8efa06",
   "metadata": {},
   "source": [
    "#### ethane.gaff2.xml"
   ]
  },
  {
   "cell_type": "markdown",
   "id": "a93eea00",
   "metadata": {},
   "source": [
    "    <ForceField>\n",
    "     <AtomTypes>\n",
    "      <Type name=\"0\" class=\"c3\" element=\"C\" mass=\"12.01078\"/>\n",
    "      <Type name=\"1\" class=\"hc\" element=\"H\" mass=\"1.007947\"/>\n",
    "     </AtomTypes>\n",
    "     <Residues>\n",
    "      <Residue name=\"ETH\">\n",
    "       <Atom name=\"C1\" type=\"0\"/>\n",
    "       <Atom name=\"H11\" type=\"1\"/>\n",
    "       <Atom name=\"H12\" type=\"1\"/>\n",
    "       <Atom name=\"H13\" type=\"1\"/>\n",
    "       <Atom name=\"C2\" type=\"0\"/>\n",
    "       <Atom name=\"H21\" type=\"1\"/>\n",
    "       <Atom name=\"H22\" type=\"1\"/>\n",
    "       <Atom name=\"H23\" type=\"1\"/>\n",
    "       <Bond atomName1=\"C1\" atomName2=\"H11\"/>\n",
    "       <Bond atomName1=\"C1\" atomName2=\"H12\"/>\n",
    "       <Bond atomName1=\"C1\" atomName2=\"H13\"/>\n",
    "       <Bond atomName1=\"C1\" atomName2=\"C2\"/>\n",
    "       <Bond atomName1=\"C2\" atomName2=\"H21\"/>\n",
    "       <Bond atomName1=\"C2\" atomName2=\"H22\"/>\n",
    "       <Bond atomName1=\"C2\" atomName2=\"H23\"/>\n",
    "      </Residue>\n",
    "     </Residues>\n",
    "     <HarmonicBondForce>\n",
    "      <Bond class1=\"c3\" class2=\"c3\" length=\"0.15380\" k=\"194572.74\"/>\n",
    "      <Bond class1=\"c3\" class2=\"hc\" length=\"0.10970\" k=\"314568.76\"/>\n",
    "     </HarmonicBondForce>\n",
    "     <HarmonicAngleForce>\n",
    "      <Angle class1=\"c3\" class2=\"c3\" class3=\"hc\" angle=\"1.91637152\" k=\"391.756288\"/>\n",
    "      <Angle class1=\"hc\" class2=\"c3\" class3=\"hc\" angle=\"1.87762521\" k=\"326.01728\"/>\n",
    "     </HarmonicAngleForce>\n",
    "     <PeriodicTorsionForce>\n",
    "      <Proper class1=\"hc\" class2=\"c3\" class3=\"c3\" class4=\"hc\" periodicity1=\"3\" phase1=\"0.0\" k1=\"0.50208\"/>\n",
    "     </PeriodicTorsionForce>\n",
    "     <NonbondedForce coulomb14scale=\"0.833333\" lj14scale=\"0.5\">\n",
    "      <Atom type=\"0\" charge=\"-0.094100\" sigma=\"0.3397710\" epsilon=\"0.4510352\"/>\n",
    "      <Atom type=\"1\" charge=\"0.031700\" sigma=\"0.2600177\" epsilon=\"0.0870272\"/>\n",
    "     </NonbondedForce>\n",
    "    </ForceField>"
   ]
  },
  {
   "cell_type": "markdown",
   "id": "b8c8d8c6",
   "metadata": {},
   "source": [
    "**References:**\n",
    "The above force field parameters are taken from the GAFF2 dataset. Here are two papers if you are interested in learning more about this approach. [2004](https://onlinelibrary.wiley.com/doi/10.1002/jcc.20035), [2006](https://www.sciencedirect.com/science/article/pii/S1093326305001737?via%3Dihub)."
   ]
  },
  {
   "cell_type": "markdown",
   "id": "936cbec7",
   "metadata": {},
   "source": [
    "#### Setup ethane molecule\n",
    "\n",
    "Begin to setup your molecule by loading the geometry into Psi4. In the cell below a geometry is already given to you in the Z-matrix format, but you could just as easily use the Cartesian format. Next you will perform an initial energy calculation at the current geometry, followed by a geometry optimization and then a vibrational frequency calculation. All of the calculation will be perfomed at the `scf/cc-pVDZ` level of theory and basis set."
   ]
  },
  {
   "cell_type": "code",
   "execution_count": null,
   "id": "f8d5c16d",
   "metadata": {},
   "outputs": [],
   "source": [
    "# set the molecule name for your files and plots\n",
    "molecule_name = \"ethane\"\n",
    "\n",
    "# enter starting coordinates in z-matrix format\n",
    "geometry = \"\"\"\n",
    "C\n",
    "C 1 1.5307\n",
    "H 1 1.0936 2 111.3578\n",
    "H 1 1.0936 2 111.3578 3 120\n",
    "H 1 1.0936 2 111.3578 3 240\n",
    "H 2 1.0936 1 111.3578 3 60\n",
    "H 2 1.0936 1 111.3578 3 180\n",
    "H 2 1.0936 1 111.3578 3 300\n",
    "\"\"\"\n",
    "molecule = psi4.geometry(geometry)"
   ]
  },
  {
   "cell_type": "markdown",
   "id": "ea2d27ec",
   "metadata": {},
   "source": [
    "#### Energy calculation"
   ]
  },
  {
   "cell_type": "code",
   "execution_count": null,
   "id": "f96899b4",
   "metadata": {},
   "outputs": [],
   "source": [
    "# set the amount of memory and processes\n",
    "psi4.set_memory('2 GB')\n",
    "psi4.set_num_threads(2)\n",
    "\n",
    "# calculate the initial energy of the molecule using the HF method\n",
    "psi4.set_output_file(molecule_name + '_energy_initial.dat', False)\n",
    "E = psi4.energy('scf/cc-pVDZ')\n",
    "\n",
    "#print the energy out to the notebook\n",
    "print('The energy is: ', E)"
   ]
  },
  {
   "cell_type": "markdown",
   "id": "e0c9750d",
   "metadata": {},
   "source": [
    "#### Geometry optimization"
   ]
  },
  {
   "cell_type": "code",
   "execution_count": null,
   "id": "700c3705",
   "metadata": {},
   "outputs": [],
   "source": [
    "psi4.set_output_file(molecule_name + '_optimization.dat', False)\n",
    "psi4.set_options({'g_convergence': 'gau_tight'}) # this forces the optimizer to get close to the minimum\n",
    "energy, wfn = psi4.optimize('scf/cc-pVDZ', return_wfn=True, dertype='gradient')"
   ]
  },
  {
   "cell_type": "markdown",
   "id": "aea89feb",
   "metadata": {},
   "source": [
    "#### Vibrational frequency calculation"
   ]
  },
  {
   "cell_type": "code",
   "execution_count": null,
   "id": "c6c68400",
   "metadata": {},
   "outputs": [],
   "source": [
    "psi4.set_output_file(molecule_name + '_vibration.dat', False)\n",
    "energy, wfn = psi4.frequency('scf/cc-pVDZ', return_wfn=True, dertype='hessian')"
   ]
  },
  {
   "cell_type": "markdown",
   "id": "16fdac49",
   "metadata": {},
   "source": [
    "#### View output file in WebMO\n",
    "\n",
    "You will probably need to visualize the vibrational calculation, and the easiest way to do this is WebMO. You can log into the [WebMO demo server](https://www.webmo.net/demoserver/cgi-bin/webmo/login.cgi) and import a job (New Job --> Import Job). \n",
    "\n",
    "**But before doing this, execute the following code cell to make sure the following lines are added to your file ending in `_vibration.dat` so that the file will be correctly imported by WebMO.**"
   ]
  },
  {
   "cell_type": "code",
   "execution_count": null,
   "id": "4d195083",
   "metadata": {},
   "outputs": [],
   "source": [
    "beg_line = \"\"\"\n",
    "-----------------------------------------------------------------------\n",
    "          Psi4: An Open-Source Ab Initio Electronic Structure Package\n",
    "                               Psi4 1.6 release\\n\\n\n",
    "\n",
    "\"\"\"\n",
    "end_line = \"\\n*** Psi4 exiting successfully. Buy a developer a beer!\\n\"\n",
    "\n",
    "with open(molecule_name + '_vibration.dat', 'r+') as file:\n",
    "    content = file.read()\n",
    "    file.seek(0)\n",
    "    file.write(beg_line + content + end_line)\n",
    "    file.close()"
   ]
  },
  {
   "cell_type": "markdown",
   "id": "ef3df939",
   "metadata": {},
   "source": [
    "**Question 1: <span style=\"color:red\">From the WebMO output, what are the optimized equilibirum bonds? Use the table below to indicate your responses.</span>**\n",
    "\n",
    "**Answer:**\n",
    "\n",
    "| Interaction | Equilibrium values (nm) |\n",
    "| :-- | :-- |\n",
    "| C-C bond |  |\n",
    "| C-H bond |  |  \n",
    "| H-C-H angle |  |  \n",
    "| H-C-C angle |  | \n"
   ]
  },
  {
   "cell_type": "markdown",
   "id": "603c66c5",
   "metadata": {},
   "source": [
    "**Question 2: <span style=\"color:red\">From the WebMO output, can you tell what vibrational frequencies correspond to what bonds, angles or torsional motions? Use the table below to indicate your responses.</span>**\n",
    "\n",
    "**Answer:**\n",
    "\n",
    "| Interaction | Frequencies (cm$^{-1}$) |\n",
    "| :-- | :-- |\n",
    "| C-C bond |  |\n",
    "| C-H bond |  |  \n",
    "| H-C-H angle |  |  \n",
    "| H-C-C angle |  | \n",
    "| H-C-C-H torsion |  | \n"
   ]
  },
  {
   "cell_type": "markdown",
   "id": "85614d61",
   "metadata": {},
   "source": [
    "#### Convert force constants\n",
    "In the Psi4 output file, you will see the force constants for each vibrational frequency in units of mdyne angstrom$^{-1}$. However, the units for molecular mechanics force fields are typically in kcal mol$^{-1}$ angstrom$^{-2}$ or kJ mol$^{-1}$ nm$^{-2}$ and kcal mol$^{-1}$ radians$^{-2}$ or kJ mol$^{-1}$ radians$^{-2}$.\n",
    "\n",
    "For OpenMM, the units required are in kJ mol$^{-1}$. The following conversion factors are useful for converting from force constant units in electronic structure packages (like Psi4) to units in molecular dynamics software packages (like OpenMM). \n",
    "\n",
    "$${\\rm 1\\ \\frac{mdyne}{\\unicode{x212B}}  = 144.67\\ \\frac{kcal}{\\unicode{x212B}^{2}}} $$\n",
    "\n",
    "and\n",
    "\n",
    "$${\\rm 1\\ \\frac{mdyne}{\\unicode{x212B}}  = 143.92\\ \\frac{kcal}{rad^{2}}} $$\n",
    "\n",
    "The conversion factor from mdynes angstrom$^{-1}$ to kcal mol$^{-1}$ angstrom$^{-2}$"
   ]
  },
  {
   "cell_type": "markdown",
   "id": "d521f503",
   "metadata": {},
   "source": [
    "**Question 3: <span style=\"color:red\">From the Psi4 output, can you convert the force constants for each interaction into units of kJ mol$^{-1}$ nm$^{-2}$? Use the table below to indicate your responses.</span>**\n",
    "\n",
    "**Answer:**\n",
    "\n",
    "| Interaction | Force constants (kJ mol$^{-1}$ nm$^{-2}$ <br> or kJ mol$^{-1}$ rad$^{-2}$ ) |\n",
    "| :-- | :-- |\n",
    "| C-C bond |  |\n",
    "| C-H bond |  |  \n",
    "| H-C-H angle |  |  \n",
    "| H-C-C angle |  | \n",
    "| H-C-C-H torsion |  | "
   ]
  },
  {
   "cell_type": "markdown",
   "id": "4709e6b5",
   "metadata": {},
   "source": [
    "**Question 4: <span style=\"color:red\">How do your force constants and equilibrium values compare to the ethane force field file, [`ethane.gaff2.xml`](#ethane.gaff2.xml)? Try your best to explain why there are discrepancies between your results and the GAFF2 results, if they exist.</span>**\n",
    "\n",
    "**Answer:**\n"
   ]
  },
  {
   "cell_type": "code",
   "execution_count": null,
   "id": "19ea42e2",
   "metadata": {},
   "outputs": [],
   "source": []
  },
  {
   "cell_type": "code",
   "execution_count": null,
   "id": "a67567d5",
   "metadata": {},
   "outputs": [],
   "source": []
  },
  {
   "cell_type": "markdown",
   "id": "48e06ba2",
   "metadata": {},
   "source": [
    "## 2. Force Field for Halogen Butane Molecule"
   ]
  },
  {
   "cell_type": "markdown",
   "id": "0f79ee09",
   "metadata": {},
   "source": [
    "Next you will build your own [custom force field xml file](#Custom-Template-XML-File) from a [`butane.gaff2.xml`](#butane.gaff2.xml) template. However you will use the molecule assigned to you on Canvas which is some halogenated butane molecule. Start by building the molecule in [WebMO](https://www.webmo.net/demoserver/cgi-bin/webmo/login.cgi)."
   ]
  },
  {
   "cell_type": "markdown",
   "id": "a32a4442",
   "metadata": {},
   "source": [
    "#### butane.gaff2.xml"
   ]
  },
  {
   "cell_type": "markdown",
   "id": "da17bbf3",
   "metadata": {},
   "source": [
    "    <ForceField>\n",
    "     <AtomTypes>\n",
    "      <Type name=\"0\" class=\"c3\" element=\"C\" mass=\"12.01078\"/>\n",
    "      <Type name=\"1\" class=\"c3\" element=\"C\" mass=\"12.01078\"/>\n",
    "      <Type name=\"2\" class=\"hc\" element=\"H\" mass=\"1.007947\"/>\n",
    "      <Type name=\"3\" class=\"hc\" element=\"H\" mass=\"1.007947\"/>\n",
    "     </AtomTypes>\n",
    "     <Residues>\n",
    "      <Residue name=\"NBU\">\n",
    "       <Atom name=\"C1\" type=\"0\"/>\n",
    "       <Atom name=\"H11\" type=\"2\"/>\n",
    "       <Atom name=\"H12\" type=\"2\"/>\n",
    "       <Atom name=\"H13\" type=\"2\"/>\n",
    "       <Atom name=\"C2\" type=\"1\"/>\n",
    "       <Atom name=\"H21\" type=\"3\"/>\n",
    "       <Atom name=\"H22\" type=\"3\"/>\n",
    "       <Atom name=\"C3\" type=\"1\"/>\n",
    "       <Atom name=\"H31\" type=\"3\"/>\n",
    "       <Atom name=\"H32\" type=\"3\"/>\n",
    "       <Atom name=\"C4\" type=\"0\"/>\n",
    "       <Atom name=\"H41\" type=\"2\"/>\n",
    "       <Atom name=\"H42\" type=\"2\"/>\n",
    "       <Atom name=\"H43\" type=\"2\"/>\n",
    "       <Bond atomName1=\"C1\" atomName2=\"H11\"/>\n",
    "       <Bond atomName1=\"C1\" atomName2=\"H12\"/>\n",
    "       <Bond atomName1=\"C1\" atomName2=\"H13\"/>\n",
    "       <Bond atomName1=\"C1\" atomName2=\"C2\"/>\n",
    "       <Bond atomName1=\"C2\" atomName2=\"H21\"/>\n",
    "       <Bond atomName1=\"C2\" atomName2=\"H22\"/>\n",
    "       <Bond atomName1=\"C2\" atomName2=\"C3\"/>\n",
    "       <Bond atomName1=\"C3\" atomName2=\"H31\"/>\n",
    "       <Bond atomName1=\"C3\" atomName2=\"H32\"/>\n",
    "       <Bond atomName1=\"C3\" atomName2=\"C4\"/>\n",
    "       <Bond atomName1=\"C4\" atomName2=\"H41\"/>\n",
    "       <Bond atomName1=\"C4\" atomName2=\"H42\"/>\n",
    "       <Bond atomName1=\"C4\" atomName2=\"H43\"/>\n",
    "      </Residue>\n",
    "     </Residues>\n",
    "     <HarmonicBondForce>\n",
    "      <Bond class1=\"c3\" class2=\"c3\" length=\"0.15380\" k=\"1945727.36\"/>\n",
    "      <Bond class1=\"c3\" class2=\"hc\" length=\"0.10970\" k=\"3145687.56\"/>\n",
    "     </HarmonicBondForce>\n",
    "     <HarmonicAngleForce>\n",
    "      <Angle class1=\"c3\" class2=\"c3\" class3=\"c3\" angle=\"1.94621665\" k=\"542.982784\"/>\n",
    "      <Angle class1=\"c3\" class2=\"c3\" class3=\"hc\" angle=\"1.91637152\" k=\"391.756288\"/>\n",
    "      <Angle class1=\"hc\" class2=\"c3\" class3=\"hc\" angle=\"1.87762521\" k=\"326.01728\"/>\n",
    "     </HarmonicAngleForce>\n",
    "     <PeriodicTorsionForce>\n",
    "      <Proper class1=\"hc\" class2=\"c3\" class3=\"c3\" class4=\"hc\" periodicity1=\"3\" phase1=\"0.0\" k1=\"0.50208\"/>\n",
    "      <Proper class1=\"c3\" class2=\"c3\" class3=\"c3\" class4=\"hc\" periodicity1=\"3\" phase1=\"0.0\" k1=\"0.3347\"/>\n",
    "      <Proper class1=\"c3\" class2=\"c3\" class3=\"c3\" class4=\"c3\" \n",
    "       periodicity1=\"1\" phase1=\"0.0\" k1=\"0.4602\"\n",
    "       periodicity2=\"2\" phase2=\"3.141593\" k2=\"1.2134\" \n",
    "       periodicity3=\"3\" phase3=\"0.0\" k3=\"0.5439\"/>\n",
    "     </PeriodicTorsionForce>\n",
    "     <NonbondedForce coulomb14scale=\"0.833333\" lj14scale=\"0.5\">\n",
    "      <Atom type=\"0\" charge=\"-0.0932\" sigma=\"0.3397710\" epsilon=\"0.4510352\"/>\n",
    "      <Atom type=\"1\" charge=\"-0.0814\" sigma=\"0.3397710\" epsilon=\"0.4510352\"/>\n",
    "      <Atom type=\"2\" charge=\"0.0324\" sigma=\"0.2600177\" epsilon=\"0.0870272\"/>\n",
    "      <Atom type=\"3\" charge=\"0.0387\" sigma=\"0.2600177\" epsilon=\"0.0870272\"/>\n",
    "     </NonbondedForce>\n",
    "    </ForceField>"
   ]
  },
  {
   "cell_type": "markdown",
   "id": "58aea832",
   "metadata": {},
   "source": [
    "**References:**\n",
    "The above force field parameters are taken from the GAFF2 dataset. Here are two papers if you are interested in learning more about this approach. [2004](https://onlinelibrary.wiley.com/doi/10.1002/jcc.20035), [2006](https://www.sciencedirect.com/science/article/pii/S1093326305001737?via%3Dihub)."
   ]
  },
  {
   "cell_type": "markdown",
   "id": "c646d504",
   "metadata": {},
   "source": [
    "#### Setup halogenated butane molecule\n",
    "\n",
    "Don't forget to name your molecule."
   ]
  },
  {
   "cell_type": "code",
   "execution_count": 8,
   "id": "536ec7d2",
   "metadata": {},
   "outputs": [],
   "source": [
    "# set the molecule name for your files and plots\n",
    "molecule_name2 = \"### INSERT TEXT HERE ###\"\n",
    "\n",
    "# enter starting coordinates in z-matrix format\n",
    "geometry2 = \"\"\"\n",
    "### INSERT MOLECULE GEOMETRY HERE ###\n",
    "\"\"\"\n",
    "\n",
    "molecule2 = psi4.geometry(geometry2)"
   ]
  },
  {
   "cell_type": "markdown",
   "id": "9da46052",
   "metadata": {},
   "source": [
    "#### Energy calculation"
   ]
  },
  {
   "cell_type": "code",
   "execution_count": 9,
   "id": "b5ddc5dd",
   "metadata": {},
   "outputs": [
    {
     "name": "stdout",
     "output_type": "stream",
     "text": [
      "The energy is:  -7521.198933294378\n"
     ]
    }
   ],
   "source": [
    "# set the amount of memory and processes\n",
    "psi4.set_memory('2 GB')\n",
    "psi4.set_num_threads(2)\n",
    "\n",
    "# calculate the initial energy of the molecule using the HF method\n",
    "psi4.set_output_file(molecule_name2 + '_energy_initial.dat', False)\n",
    "E2 = psi4.energy('scf/3-21g')\n",
    "\n",
    "#print the energy out to the notebook\n",
    "print('The energy is: ', E2)"
   ]
  },
  {
   "cell_type": "markdown",
   "id": "5f177a77",
   "metadata": {},
   "source": [
    "#### Geometry optimization "
   ]
  },
  {
   "cell_type": "code",
   "execution_count": 10,
   "id": "7c3eb527",
   "metadata": {},
   "outputs": [
    {
     "name": "stdout",
     "output_type": "stream",
     "text": [
      "Optimizer: Optimization complete!\n"
     ]
    },
    {
     "data": {
      "text/plain": [
       "-7523.402707600231"
      ]
     },
     "execution_count": 10,
     "metadata": {},
     "output_type": "execute_result"
    }
   ],
   "source": [
    "psi4.set_output_file(molecule_name2 + '_optimization.dat', False)\n",
    "psi4.optimize('scf/3-21g', dertype='gradient')"
   ]
  },
  {
   "cell_type": "markdown",
   "id": "7808200a",
   "metadata": {},
   "source": [
    "#### Vibrational frequency calculation"
   ]
  },
  {
   "cell_type": "code",
   "execution_count": 11,
   "id": "7bc312d7",
   "metadata": {},
   "outputs": [
    {
     "name": "stdout",
     "output_type": "stream",
     "text": [
      "Warning: thermodynamics relations excluded imaginary frequencies: ['94.3525i']\n",
      "Warning: used thermodynamics relations inappropriate for low-frequency modes: ['58.1599' '110.2580' '134.8434' '167.5185' '370.6714' '409.6653'\n",
      " '583.8537']\n"
     ]
    }
   ],
   "source": [
    "psi4.set_output_file(molecule_name2 + '_vibration.dat', False)\n",
    "energy2, wfn2 = psi4.frequency('scf/3-21g', return_wfn=True, dertype='hessian')"
   ]
  },
  {
   "cell_type": "markdown",
   "id": "961d7a5b",
   "metadata": {},
   "source": [
    "#### View output file in WebMO\n",
    "\n",
    "Again, make sure to execute the following code cell to ensure your `_vibration.dat` file is properly imported into WebMO."
   ]
  },
  {
   "cell_type": "code",
   "execution_count": 12,
   "id": "ff6203e1",
   "metadata": {},
   "outputs": [],
   "source": [
    "beg_line = \"\"\"\n",
    "-----------------------------------------------------------------------\n",
    "          Psi4: An Open-Source Ab Initio Electronic Structure Package\n",
    "                               Psi4 1.6 release\\n\\n\n",
    "\n",
    "\"\"\"\n",
    "end_line = \"\\n*** Psi4 exiting successfully. Buy a developer a beer!\\n\"\n",
    "\n",
    "with open(molecule_name2 + '_vibration.dat', 'r+') as file:\n",
    "    content = file.read()\n",
    "    file.seek(0)\n",
    "    file.write(beg_line + content + end_line)\n",
    "    file.close()"
   ]
  },
  {
   "cell_type": "markdown",
   "id": "709969fd",
   "metadata": {},
   "source": [
    "**Question 5: <span style=\"color:red\">From the WebMO output, what are the optimized equilibirum bonds for all the unique values? Use the table below to indicate your responses. The `X` and `Y` term represent the halogen atoms.</span>**\n",
    "\n",
    "**Answer:**\n",
    "\n",
    "| Interaction | Equilibrium values (nm) |\n",
    "| :-- | :-- |  \n",
    "| C-X bond |  |  \n",
    "| C-C-X angle |  | \n",
    "| C-Y bond |  |  \n",
    "| C-C-Y angle |  | "
   ]
  },
  {
   "cell_type": "markdown",
   "id": "f1238ed0",
   "metadata": {},
   "source": [
    "**Question 6: <span style=\"color:red\"> From the WebMO output, can you tell what vibrational frequencies correspond to what bonds or angles? Use the table below to indicate your responses. Ignore the torsional terms. The `X` and `Y` terms represent the halogen atoms.</span>**\n",
    "\n",
    "**Answer:**\n",
    "\n",
    "| Interaction | Frequencies (cm$^{-1}$) |\n",
    "| :-- | :-- | \n",
    "| C-X bond |  |  \n",
    "| C-C-X angle |  | \n",
    "| C-Y bond |  |  \n",
    "| C-C-Y angle |  | "
   ]
  },
  {
   "cell_type": "markdown",
   "id": "bb0425b5",
   "metadata": {},
   "source": [
    "**Question 7: <span style=\"color:red\"> From the Psi4 output, can you convert the force constants for each interaction into units of kJ mol$^{-1}$ nm$^{-2}$ or kJ mol$^{-1}$ rad$^{-2}$? Use the table below to indicate your responses. Again, ignore the torsional terms. The `X` and `Y` terms represent the halogen atoms.</span>**\n",
    "\n",
    "**Answer:**\n",
    "\n",
    "| Interaction | Force constants (kJ mol$^{-1}$ nm$^{-2}$ <br> or kJ mol$^{-1}$ rad$^{-2}$ ) |\n",
    "| :-- | :-- | \n",
    "| C-X bond |  |    \n",
    "| C-C-X angle |  | \n",
    "| C-Y bond |  |    \n",
    "| C-C-Y angle |  | "
   ]
  },
  {
   "cell_type": "markdown",
   "id": "b40ddd15",
   "metadata": {},
   "source": [
    "#### Periodic Torsion Forces\n",
    "\n",
    "For the periodic torsions, you won't have to determine these yourselves. Instead these will be given to you below. Depending on your molecule, add the appropriate torsion force to the Periodic Torsion Force section of the Custom Template XML File below."
   ]
  },
  {
   "cell_type": "markdown",
   "id": "8eba0c32",
   "metadata": {},
   "source": [
    "**Flourine**\n",
    "    \n",
    "     <Proper class1=\"hc\" class2=\"c3\" class3=\"c3\" class4=\"f\"\n",
    "     periodicity1=\"3\" phase1=\"0.0\" k1=\"0.9204800000000001\" \n",
    "     periodicity2=\"1\" phase2=\"3.141592653589793\" k2=\"8.24248\"/>\n",
    "\n",
    "\n",
    "**Bromine**\n",
    "\n",
    "    <Proper class1=\"hc\" class2=\"c3\" class3=\"c3\" class4=\"br\" \n",
    "     periodicity1=\"3\" phase1=\"0.0\" k1=\"0.87864\" \n",
    "     periodicity2=\"1\" phase2=\"0.0\" k2=\"0.33472\"/>\n",
    "  \n",
    "  \n",
    "**Chlorine**\n",
    "\n",
    "    <Proper class1=\"hc\" class2=\"c3\" class3=\"c3\" class4=\"cl\" \n",
    "     periodicity1=\"3\" phase1=\"0.0\" k1=\"0.9204800000000001\" \n",
    "     periodicity2=\"1\" phase2=\"3.141592653589793\" k2=\"1.046\"/> \n",
    "**Iodine**\n",
    "\n",
    "    <Proper type1=\"hc\" type2=\"c3\" type3=\"c3\" type4=\"i\"\n",
    "     periodicity1=\"3\" phase1=\"0.0\" k1=\"0.87864\"/>"
   ]
  },
  {
   "cell_type": "markdown",
   "id": "563def0e",
   "metadata": {},
   "source": [
    "#### Nonbonded Forces\n",
    "\n",
    "Lastly, you need to add the charges and Lennard-Jones parameters to your custom template xml file. I have provided the sigma and epsilon values for each halogen. But you will need to get the charges from the your Psi4 job. \n",
    "\n",
    "**Charges:** Partial charges for atoms in molecules are usually computed when an SCF job is performed. You can get these values with the following command "
   ]
  },
  {
   "cell_type": "code",
   "execution_count": 14,
   "id": "35ea16bd",
   "metadata": {},
   "outputs": [
    {
     "name": "stdout",
     "output_type": "stream",
     "text": [
      "Atom ID Symbol   Charges      \n",
      "      1 C        -0.5225362934\n",
      "      2 C        -0.4273488644\n",
      "      3 C        -0.4517868557\n",
      "      4 C        -0.4898822154\n",
      "      5 H         0.2673973984\n",
      "      6 H         0.2673973984\n",
      "      7 I        -0.0938899691\n",
      "      8 H         0.2459826304\n",
      "      9 H         0.2459826304\n",
      "     10 H         0.2483647914\n",
      "     11 H         0.2483647914\n",
      "     12 H         0.2796600386\n",
      "     13 H         0.2796600386\n",
      "     14 CL       -0.0973655195\n"
     ]
    }
   ],
   "source": [
    "psi4.oeprop(wfn2, \"MULLIKEN_CHARGES\")\n",
    "\n",
    "charg = np.array(wfn2.atomic_point_charges())\n",
    "\n",
    "print(f\"{'Atom ID':7s} {'Symbol':6s} {'  Charges':15s}\")\n",
    "for i in range(molecule2.natom()):\n",
    "    print(f\"{i+1:7d} {molecule2.symbol(i):6s} {charg[i]:15.10f}\")\n",
    "\n"
   ]
  },
  {
   "cell_type": "markdown",
   "id": "c3d274f6",
   "metadata": {},
   "source": [
    "| Atom | Charge | Sigma | Epsilon | \n",
    "| :-- | :-- | :-- | :-- | \n",
    "| F  |  | 0.3034222 | 0.3481088 |   \n",
    "| Cl |  | 0.3465952 | 1.1037392 | \n",
    "| Br |  | 0.3612594 | 1.6451488 | \n",
    "| I  |  | 0.3841199 | 2.0731720 |"
   ]
  },
  {
   "cell_type": "markdown",
   "id": "0b1f1cc6",
   "metadata": {},
   "source": [
    "#### Custom Template XML File\n",
    "\n",
    "You need to modify this xml file with the correct halogen atom that you are using and the correct bond, angle, torsion and nonbonded parameters that are missing. Make sure to replace the `X` chemical symbol with the correct chemical symbol for your molecule. Be careful about how you name the atoms and how you make the bonds in your file.\n",
    "\n",
    "**Also you will need to change the residue name so that it matches your PDB file below. This will likely be `UNK`, but you want to double check.**\n",
    "\n",
    "**<span style=\"color:red\">Once you are done updating the file. Copy all of the below cell into a new file in your Jupyter notebook directory. Give the file an appropriate name, e.g., fluorobutane.xml and save it.</span>**"
   ]
  },
  {
   "cell_type": "markdown",
   "id": "6735969b",
   "metadata": {},
   "source": [
    "    <ForceField>\n",
    "     <AtomTypes>\n",
    "      <Type name=\"0\" class=\"c3\" element=\"C\" mass=\"12.01078\"/>\n",
    "      <Type name=\"1\" class=\"c3\" element=\"C\" mass=\"12.01078\"/>\n",
    "      <Type name=\"2\" class=\"hc\" element=\"H\" mass=\"1.007947\"/>\n",
    "      <Type name=\"3\" class=\"hc\" element=\"H\" mass=\"1.007947\"/>\n",
    "      <Type name=\"4\" class=\"x\"  element=\"X\" mass=\"### ENTER MASS HERE ###\"/>\n",
    "      <Type name=\"5\" class=\"y\"  element=\"Y\" mass=\"### ENTER MASS HERE ###\"/>\n",
    "     </AtomTypes>\n",
    "     <Residues>\n",
    "      <Residue name=\"### ENTER RESIDUE NAME ###\">\n",
    "       <Atom name=\"C1\" type=\"0\"/>\n",
    "       <Atom name=\"H11\" type=\"2\"/>\n",
    "       <Atom name=\"H12\" type=\"2\"/>\n",
    "       <Atom name=\"Y\" type=\"4\"/>\n",
    "       <Atom name=\"C2\" type=\"1\"/>\n",
    "       <Atom name=\"H21\" type=\"3\"/>\n",
    "       <Atom name=\"H22\" type=\"3\"/>\n",
    "       <Atom name=\"C3\" type=\"1\"/>\n",
    "       <Atom name=\"H31\" type=\"3\"/>\n",
    "       <Atom name=\"H32\" type=\"3\"/>\n",
    "       <Atom name=\"C4\" type=\"0\"/>\n",
    "       <Atom name=\"H41\" type=\"2\"/>\n",
    "       <Atom name=\"H42\" type=\"2\"/>\n",
    "       <Atom name=\"X\" type=\"5\"/>\n",
    "       <Bond atomName1=\"C1\" atomName2=\"H11\"/>\n",
    "       <Bond atomName1=\"C1\" atomName2=\"H12\"/>\n",
    "       ### ENTER HALOGEN BOND HERE ###\n",
    "       <Bond atomName1=\"C1\" atomName2=\"C2\"/>\n",
    "       <Bond atomName1=\"C2\" atomName2=\"H21\"/>\n",
    "       <Bond atomName1=\"C2\" atomName2=\"H22\"/>\n",
    "       <Bond atomName1=\"C2\" atomName2=\"C3\"/>\n",
    "       <Bond atomName1=\"C3\" atomName2=\"H31\"/>\n",
    "       <Bond atomName1=\"C3\" atomName2=\"H32\"/>\n",
    "       <Bond atomName1=\"C3\" atomName2=\"C4\"/>\n",
    "       <Bond atomName1=\"C4\" atomName2=\"H41\"/>\n",
    "       <Bond atomName1=\"C4\" atomName2=\"H42\"/>\n",
    "       ### ENTER HALOGEN BOND HERE ###\n",
    "      </Residue>\n",
    "     </Residues>\n",
    "     <HarmonicBondForce>\n",
    "      <Bond class1=\"c3\" class2=\"c3\" length=\"0.15380\" k=\"194572.736\"/>\n",
    "      <Bond class1=\"c3\" class2=\"hc\" length=\"0.10970\" k=\"314568.56\"/>\n",
    "      <Bond class1=\"c3\" class2=\"x\"  length=\"### BOND EQUIL ###\" k=\"### BOND FORCE ###\"/>\n",
    "      <Bond class1=\"c3\" class2=\"y\"  length=\"### BOND EQUIL ###\" k=\"### BOND FORCE ###\"/>\n",
    "     </HarmonicBondForce>\n",
    "     <HarmonicAngleForce>\n",
    "      <Angle class1=\"c3\" class2=\"c3\" class3=\"c3\" angle=\"1.94621665\" k=\"542.982784\"/>\n",
    "      <Angle class1=\"c3\" class2=\"c3\" class3=\"hc\" angle=\"1.91637152\" k=\"391.756288\"/>\n",
    "      <Angle class1=\"hc\" class2=\"c3\" class3=\"hc\" angle=\"1.87762521\" k=\"326.01728\"/>\n",
    "      <Angle class1=\"c3\" class2=\"c3\" class3=\"x\"  angle=\"### ANGLE EQUIL ###\" k=\"### ANGLE FORCE ###\"/>\n",
    "      <Angle class1=\"c3\" class2=\"c3\" class3=\"y\"  angle=\"### ANGLE EQUIL ###\" k=\"### ANGLE FORCE ###\"/>\n",
    "     </HarmonicAngleForce>\n",
    "     <PeriodicTorsionForce>\n",
    "      <Proper class1=\"hc\" class2=\"c3\" class3=\"c3\" class4=\"hc\" periodicity1=\"3\" phase1=\"0.0\" k1=\"0.50208\"/>\n",
    "      <Proper class1=\"c3\" class2=\"c3\" class3=\"c3\" class4=\"hc\" periodicity1=\"3\" phase1=\"0.0\" k1=\"0.33472\"/>\n",
    "      <Proper class1=\"c3\" class2=\"c3\" class3=\"c3\" class4=\"c3\" \n",
    "       periodicity1=\"1\" phase1=\"0.0\" k1=\"0.4602\"\n",
    "       periodicity2=\"2\" phase2=\"3.141593\" k2=\"1.2134\" \n",
    "       periodicity3=\"3\" phase3=\"0.0\" k3=\"0.5439\"/>\n",
    "      ### ENTER HALOGEN TORSION FORCE HERE ###\n",
    "     </PeriodicTorsionForce>\n",
    "     <NonbondedForce coulomb14scale=\"0.833333\" lj14scale=\"0.5\">\n",
    "      <Atom type=\"0\" charge=\"### ENTER CHARGE HERE ###\" sigma=\"0.3397710\" epsilon=\"0.4510352\"/>\n",
    "      <Atom type=\"1\" charge=\"### ENTER CHARGE HERE ###\" sigma=\"0.3397710\" epsilon=\"0.4510352\"/>\n",
    "      <Atom type=\"2\" charge=\"### ENTER CHARGE HERE ###\" sigma=\"0.2600177\" epsilon=\"0.0870272\"/>\n",
    "      <Atom type=\"3\" charge=\"### ENTER CHARGE HERE ###\" sigma=\"0.2600177\" epsilon=\"0.0870272\"/>\n",
    "      <Atom type=\"4\" charge=\"### ENTER CHARGE HERE ###\" sigma=\"### ENTER SIGMA HERE ###\" epsilon=\"### ENTER EPSILON HERE ###\"/>\n",
    "      <Atom type=\"5\" charge=\"### ENTER CHARGE HERE ###\" sigma=\"### ENTER SIGMA HERE ###\" epsilon=\"### ENTER EPSILON HERE ###\"/>\n",
    "     </NonbondedForce>\n",
    "    </ForceField>"
   ]
  },
  {
   "cell_type": "markdown",
   "id": "8fd4c728",
   "metadata": {},
   "source": [
    "### Save Ethane PDB File"
   ]
  },
  {
   "cell_type": "markdown",
   "id": "00d1807c",
   "metadata": {},
   "source": [
    "#### Ethane PDB "
   ]
  },
  {
   "cell_type": "markdown",
   "id": "ec54d2c4",
   "metadata": {},
   "source": [
    "    ATOM      1  C1  ETH     1      -3.553   2.382   0.000  1.00  0.00           C  \n",
    "    ATOM      2  H11 ETH     1      -3.940   1.922   0.912  1.00  0.00           H  \n",
    "    ATOM      3  H12 ETH     1      -3.941   1.831  -0.859  1.00  0.00           H  \n",
    "    ATOM      4  H13 ETH     1      -3.919   3.410  -0.053  1.00  0.00           H  \n",
    "    ATOM      5  C2  ETH     1      -2.016   2.361   0.000  1.00  0.00           C  \n",
    "    ATOM      6  H21 ETH     1      -1.649   1.333   0.053  1.00  0.00           H  \n",
    "    ATOM      7  H22 ETH     1      -1.627   2.912   0.859  1.00  0.00           H  \n",
    "    ATOM      8  H23 ETH     1      -1.629   2.821  -0.912  1.00  0.00           H  "
   ]
  },
  {
   "cell_type": "markdown",
   "id": "fd4b73cb",
   "metadata": {},
   "source": [
    "### Make Halogen Butane PDB File\n",
    "\n",
    "Lastly, you need to make a PDB file for the halogen butane molecule that you are working with. You can do this with WebMO. With your molecule loaded into WebMO, select File --> Export Molecule --> PDB Format. Copy the contents of the newly generated PDB file into the cell below.\n",
    "\n",
    "You'll want to name the atoms according to their connectivity. Look at the ethane example for how this should be. Also note that the column formatting is important in PDB files. So if you add a character to a line, make sure you delete one space, for example.\n",
    "\n",
    "Once you have finished editing the PDB file, save a copy of it to your Jupyter notebook folder and give it an appropriate name, e.g., fluorobutane.pdb.\n",
    "\n"
   ]
  },
  {
   "cell_type": "code",
   "execution_count": null,
   "id": "4ce1fb6d",
   "metadata": {},
   "outputs": [],
   "source": []
  },
  {
   "cell_type": "markdown",
   "id": "59a73512",
   "metadata": {},
   "source": [
    "## 3. Simulate your Halogen Butane Molecule"
   ]
  },
  {
   "cell_type": "markdown",
   "id": "1c467dff",
   "metadata": {},
   "source": [
    "\n",
    "Using the cells below, you will carry out two separate simulations of your molecule using the PDB and force field files you've created:\n",
    "\n",
    "1. **Gas-Phase Simulation**: Simulate your molecule in the gas phase.\n",
    "2. **Condensed-Phase Simulation**: Simulate your molecule in the condensed phase (e.g., solvated in water).\n",
    "\n",
    "#### **Instructions:**\n",
    "\n",
    "- **Energy Minimization**: Perform energy minimization for **100 steps** to remove any bad contacts and prepare the system for dynamics.\n",
    "- **Equilibration**: Heat your system to **298 K** over at least **10 ps** to equilibrate the temperature.\n",
    "- **Production Run**: Run the production simulation for at least **400 ps** to collect sufficient data for analysis.\n",
    "\n",
    "#### **Post-Simulation Analysis:**\n",
    "\n",
    "- **Visualize Trajectories**: Use appropriate visualization tools (e.g., `mdtraj`, `nglview`) to observe the motion of your molecule over time.\n",
    "- **Dihedral Angle Analysis**:\n",
    "  - Compute the distribution of **C-C-C-C dihedral angles** from your simulations.\n",
    "  - **Compare** your results with the distribution obtained from the bromobutane simulations conducted earlier.\n",
    "  - Analyze any differences or similarities and consider how the halogen substitution and phase (gas vs. condensed) affect the dihedral angle distribution.\n",
    "\n",
    "**Note**: Ensure that you document each step of your simulation process and include any relevant code, outputs, and observations in your notebook.\n"
   ]
  },
  {
   "cell_type": "code",
   "execution_count": null,
   "id": "670977d6",
   "metadata": {},
   "outputs": [],
   "source": []
  },
  {
   "cell_type": "code",
   "execution_count": null,
   "id": "7570a738",
   "metadata": {},
   "outputs": [],
   "source": []
  },
  {
   "cell_type": "code",
   "execution_count": null,
   "id": "f94e1d6b",
   "metadata": {},
   "outputs": [],
   "source": []
  },
  {
   "cell_type": "code",
   "execution_count": null,
   "id": "ea9d8ee8",
   "metadata": {},
   "outputs": [],
   "source": []
  },
  {
   "cell_type": "code",
   "execution_count": null,
   "id": "402564d8",
   "metadata": {},
   "outputs": [],
   "source": []
  },
  {
   "cell_type": "code",
   "execution_count": null,
   "id": "d9c8bae4",
   "metadata": {},
   "outputs": [],
   "source": []
  },
  {
   "cell_type": "code",
   "execution_count": null,
   "id": "158b4ace",
   "metadata": {},
   "outputs": [],
   "source": []
  },
  {
   "cell_type": "code",
   "execution_count": null,
   "id": "6c0f1ed4",
   "metadata": {},
   "outputs": [],
   "source": []
  }
 ],
 "metadata": {
  "kernelspec": {
   "display_name": "Python 3 (ipykernel)",
   "language": "python",
   "name": "python3"
  },
  "language_info": {
   "codemirror_mode": {
    "name": "ipython",
    "version": 3
   },
   "file_extension": ".py",
   "mimetype": "text/x-python",
   "name": "python",
   "nbconvert_exporter": "python",
   "pygments_lexer": "ipython3",
   "version": "3.9.7"
  }
 },
 "nbformat": 4,
 "nbformat_minor": 5
}
