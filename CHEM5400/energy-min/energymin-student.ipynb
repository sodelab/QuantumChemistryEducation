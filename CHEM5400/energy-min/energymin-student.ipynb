{
 "cells": [
  {
   "cell_type": "code",
   "execution_count": null,
   "metadata": {},
   "outputs": [],
   "source": [
    "\"\"\"Energy Minimization in Quantum Chemistry\"\"\"\n",
    "\n",
    "__authors__ = [\"Olaseni Sode\",\"Paul Nerenberg\",\"Heidi Hendrickson\",\"Theresa Windus\"]\n",
    "__email__   = [\"osode@calstatela.edu\",\"pnerenb@calstatela.edu\",\"hendrihe@lafayette.edu\",\"twindus@iastate.edu\"]\n",
    "__date__      = \"2024-08-28\""
   ]
  },
  {
   "cell_type": "markdown",
   "metadata": {},
   "source": [
    "## Energy Minimization in Quantum Chemistry"
   ]
  },
  {
   "cell_type": "code",
   "execution_count": null,
   "metadata": {
    "code_folding": []
   },
   "outputs": [],
   "source": [
    "# import the python modules that we will use\n",
    "import psi4\n",
    "import numpy as np\n",
    "# enable the output of plotting commands to be displayed in a Jupyter notebook\n",
    "%matplotlib inline\n",
    "import matplotlib.pyplot as plt"
   ]
  },
   "cell_type": "markdown",
   "metadata": {},
   "source": [
    "## Obtaining cartesian coordinates for your nucleuoside\n",
    "\n",
    "[WebMO](https://www.webmo.net/features/pro.html) is an online molecular editor that provides a straightforward interface for building molecular structures and obtaining Cartesian coordinates. \n",
    "\n",
    "1. **Access WebMO:**\n",
    "   \n",
    "    Visit the [WebMO website](https://www.webmo.net/demoserver/cgi-bin/webmo/login.cgi) and either log into the demo server. You can use the username: guest and the password: guest. You can *Create New Job* from the *New Job* drop down menu.\n",
    "\n",
    "\n",
    "2. **Import a Nucleoside:**\n",
    "\n",
    "    Click on Lookup > Import by > Name...  and then enter the name of your nucleosde into the *Lookup molecule by name:* field. This should produce your nucleoside in the Build Molecule window. Next export the cartesian coordinates of your molecule by going to File > Export Molecule and selecting the xyz format. This should save a text file ending in xyz that you can open to see the cartesian coordinates. and use the editor to draw the nucleoside structure. "
   ]
  },
  {
   "cell_type": "markdown",
   "metadata": {},
   "source": [
    "## Setting up the molecule\n",
    "The first code block will set up your molecule as an object in Psi4 using the function psi4.geometry(). You will need to add in the coordinates of your molecule in order for Psi4 to know what all of the atoms are and where they are in relation to each other. Once you have the molecule built, you can use Psi4 to calculate different attributes of the molecule using the basis set that we specify. In this case we will use the Hartree-Fock method and the sto-3g basis set. (In Psi4, the Hartree-Fock method is denoted as SCF; in other packages, it is typically denoted as HF. SCF stands for Self-Consistent Field, which more generally specifies an approximation used in electronic structure methods.)\n",
    "\n",
    "You will calculate the energy of the molecule and print it to a file called 'energy_initial', since this is the initial structure of your molecule. It turns out that this command gives more than just the molecule's energy.\n",
    "\n",
    "You can also print the positions of all the atoms at any time using molecule.print_out_in_angstrom() and all of the interatomic distances using molecule.print_distances(). You will print these to a file called 'geometry_initial' as an example of Psi4's functionality (but you don't really need this information right now).\n",
    "\n",
    "Add the molecular geometry of your amino acid to the cell below. Make sure to add the molecule name too. "
   ]
  },
  {
   "cell_type": "code",
   "execution_count": null,
   "metadata": {},
   "outputs": [],
   "source": [
    "# set the amount of memory that you will need\n",
    "psi4.set_memory('2 GB')\n",
    "\n",
    "# set the number of threads (processes) for Psi4 to use\n",
    "# (~all modern computers can handle 2 threads)\n",
    "psi4.set_num_threads(2)\n",
    "\n",
    "# set the molecule name for your files and plots\n",
    "molecule_name = \"butane\"\n",
    "\n",
    "# enter the charge, multiplicity, and starting coordinates of the atoms in your molecule\n",
    "molecule = psi4.geometry(\"\"\"\n",
    " C                 -2.70100499    0.89195979    0.00000000\n",
    " C                 -1.19428699    0.89195979    0.00000000\n",
    " H                 -3.08961599    1.93885279    0.00000000\n",
    " H                 -3.09551799    0.36932679   -0.90484200\n",
    " H                 -3.09543999    0.36946079    0.90497600\n",
    " C                 -0.63669599   -0.51589121    0.00017800\n",
    " H                 -0.81709299    1.44199779   -0.90243600\n",
    " H                 -0.82069399    1.42254479    0.91549200\n",
    " C                  0.87003801   -0.51586321    0.00011300\n",
    " H                 -1.01387099   -1.06591521    0.90259600\n",
    " H                 -1.01393499   -1.06611621   -0.90209700\n",
    " H                  1.25884001   -1.56265921    0.00026200\n",
    " H                  1.26434901    0.00676279   -0.90484300\n",
    " H                  1.26442901    0.00705379    0.90486600\n",
    "\"\"\")\n",
    "\n",
    "# calculate the initial energy of the molecule using the Hartree-Fock method \n",
    "# and the sto-3g basis set; print this output to a file\n",
    "psi4.set_output_file(molecule_name + '_energy_initial.dat', False)\n",
    "psi4.energy('scf/sto-3g')\n",
    "\n",
    "# print atomic coordinates and interatomic distances to a file\n",
    "psi4.set_output_file(molecule_name + '_geometry_initial.dat', False)\n",
    "molecule.print_out_in_angstrom()\n",
    "molecule.print_distances()"
   ]
  },
  {
   "cell_type": "markdown",
   "metadata": {},
   "source": [
    "## Geometry optimization\n",
    "\n",
    "Now that you have the molecule setup, you will perform the geometry optimization. The `psi4.optimize()` function performs the optimization, and we need to tell it what method (SCF) and basis set (sto-3g) to use and what molecule to optimize. As the optimization runs, information will be printed to the 'geometry_optimization' file at each step.\n",
    "\n",
    "**Note:** Although Psi4's default settings should work fine for most reasonable starting geometries, you may need to modify the maximum number of SCF iterations and/or the maximum number of geometry optimization iterations.  To modify the maximum number of SCF interations (e.g., to 500), you can do so with `psi4.set_module_options('scf', {'maxiter': 500})`. Similarly, to modify the maximum number of geometry optimization iterations (e.g., to 100), you can do so with `psi4.set_options({'geom_maxiter': 100})`.\n",
    "\n",
    "After the optimization is complete, you print the atomic coordinates and interatomic distances again, to the 'geometry_final' file."
   ]
  },
  {
   "cell_type": "code",
   "execution_count": null,
   "metadata": {},
   "outputs": [],
   "source": [
    "# optimize the molecular geometry\n",
    "psi4.set_output_file(molecule_name + '_geometry_optimization.dat', False)\n",
    "psi4.set_options({'geom_maxiter': 100})\n",
    "psi4.optimize('scf/sto-3g', molecule=molecule)\n",
    "\n",
    "# print the optimized atomic coordinates and interatomic distances\n",
    "psi4.set_output_file(molecule_name + '_geometry_final.dat', False)\n",
    "molecule.print_out_in_angstrom()\n",
    "molecule.print_distances()"
   ]
  },
  {
   "cell_type": "code",
   "execution_count": null,
   "metadata": {},
   "outputs": [],
   "source": [
    "import nglview as nv\n",
    "\n",
    "structure = nv.Psi4Structure(molecule)\n",
    "image = nv.NGLWidget(structure)\n",
    "image"
   ]
  },
  {
   "cell_type": "markdown",
   "metadata": {},
   "source": [
    "### Reading bond distances from the geometry optimization file\n",
    "\n",
    "Below is a function that will pull out the bond distances for any two atoms in the molecule from the geometry optimization output file. This way you can look at how the bond distances change during the optimization process. I won't explain how the function works here, but you can see the information in the 'geometry_optimization' file in the lines that begin with **R(a,b)**, where a and b are the numbers for the two atoms that form a bond."
   ]
  },
  {
   "cell_type": "code",
   "execution_count": null,
   "metadata": {
    "code_folding": []
   },
   "outputs": [],
   "source": [
    "# function to find the bond distance for two specific atoms in the optimization file\n",
    "def plot_R(a, b):\n",
    "    with open(molecule_name + '_geometry_optimization.dat') as f:\n",
    "        pair_notation = 'R(' + str(a) + ',' + str(b) + ')'\n",
    "        rows_with_R_pairs = [line.split() for line in f if line.find(pair_notation) > 1 and \n",
    "                             line.strip().split()[1].startswith(pair_notation)]\n",
    "        bond_distances = []\n",
    "        bond_distances.append(float(rows_with_R_pairs[0][3]))\n",
    "        for item in rows_with_R_pairs:\n",
    "            bond_distances.append(float(item[6]))\n",
    "        return bond_distances"
   ]
  },
  {
   "cell_type": "markdown",
   "metadata": {},
   "source": [
    "## Plotting how bond distances change during optimization\n",
    "\n",
    "Using the function above, you will find the bond distances between two atoms at each step of the optimization and store them in the list `bond_distances`.  You also need to find what the largest and smallest values of the bond distance are during optimization so that you know what range to use for plotting on the y-axis.\n",
    "\n",
    "Then, you will plot how that distance changes at each step of the optimization process. You should see it change from the initial value and then level out to the optimal bond distance based on the Hartree-Fock method and the sto-3g basis set.\n",
    "\n",
    "Determine the atom index for the alpha carbon and the nitrogen atom on your amino acid. You can use the WebMO or iQmol to visualize the molecule and identify each atom index."
   ]
  },
  {
   "cell_type": "code",
   "execution_count": null,
   "metadata": {
    "code_folding": []
   },
   "outputs": [],
   "source": [
    "# find the bond distance for atoms Calpha and N\n",
    "bond_distances = plot_R(1, 15)\n",
    "# determine an appropriate range for plotting\n",
    "dist_range = max(bond_distances) - min(bond_distances) # check out np.ptp(), too!\n",
    "\n",
    "# plot the bond distances at each iteration of geometry optimization\n",
    "plt.scatter(np.arange(len(bond_distances)), bond_distances)\n",
    "plt.ylim(top = max(bond_distances) + dist_range*0.15, \n",
    "         bottom = min(bond_distances) - dist_range*0.15)\n",
    "plt.xlabel(\"iteration\")\n",
    "plt.ylabel(\"distance (angstroms)\")\n",
    "plt.title(molecule_name + \" bond distance\")\n",
    "plt.show()"
   ]
  },
  {
   "cell_type": "markdown",
   "metadata": {},
   "source": [
    "### Reading energies from the geometry optimization file\n",
    "\n",
    "Below is a function that will extract the molecular energies from the geometry optimization output file. This way you can look at how the energy changes during the optimization process. In the 'geometry_optimization' file you can find this information on lines that begin with **Current energy**.\n",
    "\n",
    "Another way to define `energy_values` in this example is provided in the comments. You can compare these methods by commenting/uncommenting the different versions and comparing the output you get in the next cell."
   ]
  },
  {
   "cell_type": "code",
   "execution_count": null,
   "metadata": {},
   "outputs": [],
   "source": [
    "# function to find the energy in the optimization file\n",
    "def plot_energy():\n",
    "    with open(molecule_name + '_geometry_optimization.dat') as f:\n",
    "        energy_values = [ float(line.split()[3]) for line in f if line.strip().startswith('Current energy') ]\n",
    "        ## Another option for defining energy_values\n",
    "        #energy_string = 'Current energy'\n",
    "        #energy_values = [ fjloat(line.split()[3]) for line in f if line.strip().startswith(energy_string) ]\n",
    "        return energy_values"
   ]
  },
  {
   "cell_type": "markdown",
   "metadata": {},
   "source": [
    "## Plotting how energy changes during optimization\n",
    "\n",
    "Using the function above, we will find the molecule's energy at each step of the optimization and store them in the list `energy_values`. Then, we will plot how the energy changes at each step of the optimization process. "
   ]
  },
  {
   "cell_type": "markdown",
   "metadata": {},
   "source": [
    "#### Question: \n",
    "**<span style=\"color:red\">What trend do you expect to see? Why?</span>**\n",
    "#### Answer:"
   ]
  },
  {
   "cell_type": "code",
   "execution_count": null,
   "metadata": {},
   "outputs": [],
   "source": []
  },
  {
   "cell_type": "markdown",
   "metadata": {},
   "source": [
    "#### Question: \n",
    "**<span style=\"color:red\">Regarding the code in this last cell, how is `energy_values` defined here different than `energy_values` defined in the `plot_energy()` function? In other words, we use the same name for two different things...why is this ok to do?</span>**\n",
    "#### Answer:"
   ]
  },
  {
   "cell_type": "code",
   "execution_count": null,
   "metadata": {},
   "outputs": [],
   "source": []
  },
  {
   "cell_type": "code",
   "execution_count": null,
   "metadata": {},
   "outputs": [],
   "source": [
    "# find the energies from this optimization file\n",
    "energy_values = plot_energy()\n",
    "# determine an appropriate range for plotting\n",
    "energy_range = max(energy_values) - min(energy_values)\n",
    "\n",
    "# plot the energies at each iteration\n",
    "plt.scatter(np.arange(len(energy_values)), energy_values)\n",
    "plt.ylim(top = max(energy_values) + energy_range*0.15, \n",
    "         bottom = min(energy_values) - energy_range*0.15)\n",
    "plt.xlabel(\"iteration\")\n",
    "plt.ylabel(\"energy (Hartrees)\")\n",
    "plt.title(molecule_name + \" energy\")\n",
    "plt.show()"
   ]
  },
  {
   "cell_type": "markdown",
   "metadata": {},
   "source": [
    "#### Question: \n",
    "**<span style=\"color:red\">About how many iterations did it take for your molecule to converge?</span>**\n",
    "#### Answer:"
   ]
  },
  {
   "cell_type": "code",
   "execution_count": null,
   "metadata": {},
   "outputs": [],
   "source": []
  },
  {
   "cell_type": "markdown",
   "metadata": {},
   "source": [
    "#### Question: \n",
    "**<span style=\"color:red\">Look at optmization output file. What are the convergence criteria? Are all of these criteria active?</span>**\n",
    "#### Answer:"
   ]
  },
  {
   "cell_type": "code",
   "execution_count": null,
   "metadata": {},
   "outputs": [],
   "source": []
  },
  {
   "cell_type": "markdown",
   "metadata": {
    "code_folding": []
   },
   "source": [
    "#### Question:\n",
    "**<span style=\"color:red\">The energy plot shows how the molecular energy changes with each iteration of optimization. Why does the energy typically decrease and then level off? What physical principle does this reflect?</span>**\n",
    "#### Answer:"
   ]
  },
  {
   "cell_type": "code",
   "execution_count": null,
   "metadata": {},
   "outputs": [],
   "source": []
  }
 ],
 "metadata": {
  "kernelspec": {
   "display_name": "Python 3 (ipykernel)",
   "language": "python",
   "name": "python3"
  },
  "language_info": {
   "codemirror_mode": {
    "name": "ipython",
    "version": 3
   },
   "file_extension": ".py",
   "mimetype": "text/x-python",
   "name": "python",
   "nbconvert_exporter": "python",
   "pygments_lexer": "ipython3",
   "version": "3.9.7"
  },
  "latex_envs": {
   "LaTeX_envs_menu_present": true,
   "autoclose": false,
   "autocomplete": true,
   "bibliofile": "biblio.bib",
   "cite_by": "apalike",
   "current_citInitial": 1,
   "eqLabelWithNumbers": true,
   "eqNumInitial": 1,
   "hotkeys": {
    "equation": "Ctrl-E",
    "itemize": "Ctrl-I"
   },
   "labels_anchors": false,
   "latex_user_defs": false,
   "report_style_numbering": true,
   "user_envs_cfg": true
  }
 },
 "nbformat": 4,
 "nbformat_minor": 2
}
