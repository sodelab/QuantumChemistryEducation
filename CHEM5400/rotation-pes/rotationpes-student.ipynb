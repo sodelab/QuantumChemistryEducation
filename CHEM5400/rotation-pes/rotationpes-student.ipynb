{
 "cells": [
  {
   "cell_type": "code",
   "execution_count": null,
   "metadata": {},
   "outputs": [],
   "source": [
    "\"\"\"Rotational Barriers\"\"\"\n",
    "\n",
    "__authors__ = [\"Olaseni Sode\"]\n",
    "__email__   = [\"osode@calstatela.edu\"]\n",
    "__date__    = \"2024-09-10\""
   ]
  },
  {
   "cell_type": "markdown",
   "metadata": {},
   "source": [
    "## Rotational Barrier Potential Energy Scan"
   ]
  },
  {
   "cell_type": "markdown",
   "metadata": {},
   "source": [
    "In this exercise, you will create one-dimensional potential energy surfaces (PES) of the rotational barrier for ethane and butane. This will help you visualize the Born-Oppenheimer potential energy surface of a molecule and identify global and local minima and maxima. You will use Python and Psi4 to perform electronic structure calculations and generate PES plots."
   ]
  },
  {
   "cell_type": "code",
   "execution_count": null,
   "metadata": {},
   "outputs": [],
   "source": [
    "# import the python modules that we will use\n",
    "import psi4\n",
    "import numpy as np"
   ]
  },
  {
   "cell_type": "markdown",
   "metadata": {},
   "source": [
    "## 1. Rigid Potential Energy Scan\n",
    "\n",
    "\n",
    "#### Step 1: Define Ethane Molecule in Z-Matrix Format\n",
    "\n",
    "To begin, we need to construct the ethane molecule in Z-matrix format. A Z-matrix is a way of specifying molecular geometry that uses internal coordinates (bond lengths, bond angles, and dihedral angles) rather than Cartesian coordinates (x, y, z)."
   ]
  },
  {
   "cell_type": "code",
   "execution_count": null,
   "metadata": {},
   "outputs": [],
   "source": [
    "# set the molecule name for your files and plots\n",
    "molecule_name = \"ethane\"\n",
    "\n",
    "# enter starting coordinates in z-matrix format\n",
    "geometry = \"\"\"\n",
    "C\n",
    "C 1 1.5307\n",
    "H 1 1.0936 2 111.3578\n",
    "H 1 1.0936 2 111.3578 3 120\n",
    "H 1 1.0936 2 111.3578 3 240\n",
    "H 2 1.0936 1 111.3578 3 60\n",
    "H 2 1.0936 1 111.3578 3 180\n",
    "H 2 1.0936 1 111.3578 3 300\n",
    "\"\"\"\n",
    "molecule = psi4.geometry(geometry)"
   ]
  },
  {
   "cell_type": "markdown",
   "metadata": {},
   "source": [
    "#### Step 2: Perform Energy Calculation\n",
    "\n",
    "Now that the ethane molecule is set up, we can run a quick Hartree-Fock calculation to obtain its energy.\n"
   ]
  },
  {
   "cell_type": "code",
   "execution_count": null,
   "metadata": {},
   "outputs": [],
   "source": [
    "# set the amount of memory that you will need\n",
    "psi4.set_memory('2 GB')\n",
    "\n",
    "# set the number of threads (processes) for Psi4 to use\n",
    "# (~all modern computers can handle 2 threads)\n",
    "psi4.set_num_threads(2)\n",
    "\n",
    "# calculate the initial energy of the molecule using the Hartree-Fock method \n",
    "# and the cc-pVDZ basis set; print this output to a file\n",
    "psi4.set_output_file(molecule_name + '_energy_initial.dat', False)\n",
    "E = psi4.energy('scf/cc-pVDZ')\n",
    "\n",
    "#print the energy out to the notebook\n",
    "print('The energy is: ', E)"
   ]
  },
  {
   "cell_type": "markdown",
   "metadata": {},
   "source": [
    "#### Step 3: Define the Dihedral Scan Parameters\n",
    "\n",
    "Now you will rotate the central C-C torsion angle (a.k.a. $\\phi$) steadily increasing from 0$^\\circ$ to 360$^\\circ$ in increments of 5$^\\circ$ (i.e., a total of 72 calculations).  To do this we will use a `for` loop to iterate over the range of values of $\\phi$, calculating and recording the energy value at each iteration.\n",
    "\n",
    "These calculations will take a bit of time, so be patient! To help speed up the process, we are going to switch to using the 3-21G basis set, which is considerably smaller than the cc-pVDZ basis set that we have used up to this point. You will know all of the computations are complete when you see \"All calculations complete!\".\n",
    "\n",
    "**Potentially useful documentation links**\n",
    "- The Python function `range()`: https://docs.python.org/3/library/stdtypes.html?highlight=range#range)\n",
    "- Python list examples: https://docs.python.org/3/tutorial/datastructures.html#using-lists-as-stacks"
   ]
  },
  {
   "cell_type": "code",
   "execution_count": null,
   "metadata": {},
   "outputs": [],
   "source": [
    "x = []\n",
    "y = []\n",
    "\n",
    "dihedrals = np.arange (0,360, 5)\n",
    "for d in dihedrals:\n",
    "    geometry = f\"\"\"\n",
    "    C\n",
    "    C 1 1.5307\n",
    "    H 1 1.0936 2 111.3578\n",
    "    H 1 1.0936 2 111.3578 3 120\n",
    "    H 1 1.0936 2 111.3578 3 240\n",
    "    H 2 1.0936 1 111.3578 3 {d}\n",
    "    H 2 1.0936 1 111.3578 3 {d+120}\n",
    "    H 2 1.0936 1 111.3578 3 {d+240}\n",
    "    \"\"\"\n",
    "\n",
    "    ethane = psi4.geometry(geometry)\n",
    "    E = psi4.energy('scf/cc-pVDZ',molecule=ethane)\n",
    "\n",
    "    x.append(d)\n",
    "    y.append(E)\n",
    "    \n",
    "print('All calculations complete!')"
   ]
  },
  {
   "cell_type": "markdown",
   "metadata": {},
   "source": [
    "#### Step 4: Plotting the Potential Energy Surface\n",
    "\n",
    "Since you have all of the necessary information, you can plot how the energy changes at each value of $\\phi$. To make the data more human-understandable, before creating the plot, write code that does the following:\n",
    "\n",
    "1. Create a new variable `y_kcal` that gives the *relative* energies in kcal/mol by:\n",
    " * subtracting off the minimum energy value from the list of energies\n",
    " * multiplying the resulting relative energies by the conversion factor of 627.5 (see: https://cccbdb.nist.gov/hartree.asp)\n",
    "**Hint:** To make life easier, it is recommended to convert `y` into a NumPy array: `np.array(y)`\n",
    "\n",
    "\n",
    "2. Create a scatter plot of relative energy (*y* axis) vs. phi (*x* axis). Make this plot look professional by customizing your axes limits, ticks, and labels using functions like `plt.xlim()`, `plt.xticks()`, and `plt.xlabel()` (and the analogous functions for the *y* axis)."
   ]
  },
  {
   "cell_type": "code",
   "execution_count": null,
   "metadata": {},
   "outputs": [],
   "source": [
    "%matplotlib inline\n",
    "import matplotlib.pyplot as plt\n",
    "\n",
    "# write code to convert absolute energies to relative energies\n",
    "# by subtracting the minimum energy from the set; then convert\n",
    "# from Hartrees to kcal/mol\n",
    "\n",
    "y_kcal = y\n",
    "\n",
    "# create a scatter plot of relative energy vs. phi\n",
    "plt.scatter(x, y_kcal, color='MediumVioletRed')\n",
    "plt.xlim(0, 360)\n",
    "\n",
    "# beautify the plot by adding labels\n",
    "plt.xlabel(\"### INSERT X LABEL ###\")\n",
    "plt.ylabel(\"### INSERT Y LABEL ###\")\n",
    "plt.title(\"### INSERT TITLE ###\")\n",
    "plt.show()"
   ]
  },
  {
   "cell_type": "markdown",
   "metadata": {},
   "source": [
    "#### Step 5: Visualize the molecule"
   ]
  },
  {
   "cell_type": "code",
   "execution_count": null,
   "metadata": {},
   "outputs": [],
   "source": [
    "import nglview as nv\n",
    "\n",
    "structure = nv.Psi4Structure(ethane)\n",
    "image = nv.NGLWidget(structure)\n",
    "image"
   ]
  },
  {
   "cell_type": "markdown",
   "metadata": {},
   "source": [
    "#### Question: **<span style=\"color:red\">Can you identify the stationary states for the ethane molecule?</span>**\n",
    "#### Answer:"
   ]
  },
  {
   "cell_type": "code",
   "execution_count": null,
   "metadata": {},
   "outputs": [],
   "source": []
  },
  {
   "cell_type": "markdown",
   "metadata": {},
   "source": [
    "## 2. Relaxed Potential Energy Scan\n",
    "\n",
    "A relaxed potential energy scan (PES) allows us to study how the energy of a molecule changes as a specific dihedral angle is varied, while allowing all other geometric parameters (like bond lengths and bond angles) to adjust to their lowest energy configuration at each step. This method provides a more realistic picture of the rotational barrier compared to a rigid scan, where only one dihedral is modified while everything else is held constant.\n",
    "\n",
    "#### Step 1: Setting up the Butane Molecule\n",
    "\n",
    "**Build the Butane Molecule:** \n",
    "   - Open WebMO or IQMol, which are molecular modeling tools that allow you to construct molecules interactively.\n",
    "   - Select the option to create a new molecule and start by placing the four carbon atoms in a straight chain to represent the butane backbone. \n",
    "   - Add the appropriate number of hydrogen atoms to each carbon to satisfy their valency (each carbon should have four bonds in total).\n",
    "\n",
    "**Example Z-Matrix for Butane:**\n",
    "   \n",
    "Here is an example Z-matrix for a generic molecule. Make sure to replace this with your Z-matrix for butane.\n",
    "\n",
    "`\n",
    "C\n",
    "C 1 B1\n",
    "C 2 B2 1 A1\n",
    "C 3 B3 2 A2 1 D1\n",
    "H 1 B4 2 A3 3 D2\n",
    "H 1 B5 2 A4 3 D3\n",
    "H 1 B6 2 A5 3 D4\n",
    "...\n",
    "`\n",
    "\n",
    "**Key Components:**\n",
    "  - Bond Lengths (B1, B2, B3, etc.): The distances between atoms, measured in Angstroms.\n",
    "  - Bond Angles (A1, A2, A3, etc.): The angles between three connected atoms, measured in degrees.\n",
    "  - Dihedral Angles (D1, D2, D3, etc.): The angles between two planes formed by four atoms, which we will scan in the next steps.\n",
    "\n",
    "**Verify the Z-Matrix:**\n",
    "   - Double-check the Z-matrix to ensure that all atoms are correctly defined and that there are no mistakes in the bond lengths, bond angles, or dihedral angles.\n",
    "   - If there are errors, correct them before proceeding to the next step.\n",
    "\n",
    "By following these steps, you will set up the butane molecule correctly for the relaxed potential energy scan. The accuracy of this setup is crucial because any errors in the molecular geometry will directly affect the calculated potential energy surface."
   ]
  },
  {
   "cell_type": "code",
   "execution_count": null,
   "metadata": {},
   "outputs": [],
   "source": [
    "# set the molecule name for your files and plots\n",
    "molecule_name = \"butane\"\n",
    "\n",
    "# enter starting coordinates in z-matrix format\n",
    "geometry = \"\"\"\n",
    "### ADD ZMATRIX HERE ###\n",
    "\"\"\"\n",
    "butane = psi4.geometry(geometry)\n",
    "E = psi4.optimize('scf/3-21g', molecule=butane)"
   ]
  },
  {
   "cell_type": "markdown",
   "metadata": {},
   "source": [
    "#### Step 2. Visualize the molecule"
   ]
  },
  {
   "cell_type": "code",
   "execution_count": null,
   "metadata": {},
   "outputs": [],
   "source": [
    "import nglview as nv\n",
    "\n",
    "structure = nv.Psi4Structure(butane)\n",
    "image = nv.NGLWidget(structure)\n",
    "image"
   ]
  },
  {
   "cell_type": "markdown",
   "metadata": {},
   "source": [
    "#### Step 3. Setup and run relaxed scan\n",
    "Now you will run a series of geometry optimizations to with the angle of the central C-C torsion (a.k.a. $\\psi$) steadily increasing from 0$^\\circ$ to 180$^\\circ$ in increments of 5$^\\circ$ (i.e., a total of 36 calculations). To do this we will use a `for` loop to iterate over the range of values of $\\psi$, calculating and recording the energy value at each iteration.\n",
    "\n",
    "These calculations will take a bit of time, so be patient! To help speed up the process, we are going to switch to using the 3-21G basis set, which is considerably smaller than the cc-pVDZ basis set that we have used up to this point. You will know all of the computations are complete when you see \"All optimizations complete!\"."
   ]
  },
  {
   "cell_type": "code",
   "execution_count": null,
   "metadata": {},
   "outputs": [],
   "source": [
    "# set the atoms involved in the C-C torsion\n",
    "torsion = \"1 2 3 4\""
   ]
  },
  {
   "cell_type": "code",
   "execution_count": null,
   "metadata": {
    "scrolled": false
   },
   "outputs": [],
   "source": [
    "\n",
    "x = []\n",
    "y = []\n",
    "\n",
    "start_angle = butane.get_variable(\"D1\")\n",
    "\n",
    "dihedrals = np.arange (0,181, 5)\n",
    "for d in dihedrals:\n",
    "    psi4.core.clean()\n",
    "    \n",
    "    butane.set_variable(\"D1\",start_angle + d)\n",
    "    torsion_constraint = torsion +\" \"+str(d + start_angle) \n",
    "    \n",
    "    # sets the torsion constraint\n",
    "    psi4.set_options({'optking__fixed_dihedral': torsion_constraint})\n",
    "    \n",
    "    # gau_loose convergence shortens the optimization time\n",
    "    psi4.set_options({'optking__g_convergence': 'gau_loose'}) \n",
    "    \n",
    "    E = psi4.optimize('scf/3-21g', molecule=butane)\n",
    "\n",
    "    x.append(d + start_angle)\n",
    "    y.append(E)\n",
    "    \n",
    "    print(d,E)\n",
    "    \n",
    "print('All optimizations complete!')"
   ]
  },
  {
   "cell_type": "code",
   "execution_count": null,
   "metadata": {},
   "outputs": [],
   "source": [
    "structure = nv.Psi4Structure(butane)\n",
    "image = nv.NGLWidget(structure)\n",
    "image"
   ]
  },
  {
   "cell_type": "markdown",
   "metadata": {},
   "source": [
    "#### Step. 4 Plotting how energy changes during the potential energy scan\n",
    "\n",
    "Again, you can plot how the energy changes at each value of $\\psi$. Before creating the plot, write code that gives the *relative* energies in kcal/mol.\n",
    "\n",
    "Create a scatter plot of relative energy (*y* axis) vs. phi (*x* axis). Make this plot look professional by customizing your axes limits, ticks, and labels using functions like `plt.xlim()`, `plt.xticks()`, and `plt.xlabel()` (and the analogous functions for the *y* axis)."
   ]
  },
  {
   "cell_type": "code",
   "execution_count": null,
   "metadata": {},
   "outputs": [],
   "source": [
    "%matplotlib inline\n",
    "import matplotlib.pyplot as plt\n",
    "\n",
    "\n",
    "# write code to convert absolute energies to relative energies\n",
    "# by subtracting the minimum energy from the set; then convert\n",
    "# from Hartrees to kcal/mol\n",
    "\n",
    "y_kcal = _______________\n",
    "\n",
    "# create a scatter plot of relative energy vs. phi\n",
    "plt.scatter(x, y_kcal, color='MediumBlue')\n",
    "\n",
    "# beautify the plot by adding labels\n",
    "plt.xlabel(\"### INSERT X LABEL ###\")\n",
    "plt.ylabel(\"### INSERT Y LABEL ###\")\n",
    "plt.title(\"### INSERT TITLE ###\")\n",
    "plt.show()"
   ]
  },
  {
   "cell_type": "markdown",
   "metadata": {},
   "source": [
    "#### Question: **<span style=\"color:red\">Why did you only scan the dihedral angle from 0$^\\circ$ to 180$^\\circ$ instead of 0$^\\circ$ to 360$^\\circ$? What would the 0$^\\circ$ to 360$^\\circ$ plot look like compared to the one you plotted?</span>**\n",
    "\n",
    "#### Answer:"
   ]
  },
  {
   "cell_type": "code",
   "execution_count": null,
   "metadata": {},
   "outputs": [],
   "source": []
  },
  {
   "cell_type": "markdown",
   "metadata": {},
   "source": [
    "#### Question: **<span style=\"color:red\">Why was a relaxed scan used for the butane molecule and a rigid scan used for the ethane molecule?</span>**\n",
    "#### Answer:"
   ]
  },
  {
   "cell_type": "code",
   "execution_count": null,
   "metadata": {},
   "outputs": [],
   "source": []
  }
 ],
 "metadata": {
  "kernelspec": {
   "display_name": "Python 3 (ipykernel)",
   "language": "python",
   "name": "python3"
  },
  "language_info": {
   "codemirror_mode": {
    "name": "ipython",
    "version": 3
   },
   "file_extension": ".py",
   "mimetype": "text/x-python",
   "name": "python",
   "nbconvert_exporter": "python",
   "pygments_lexer": "ipython3",
   "version": "3.9.7"
  },
  "latex_envs": {
   "LaTeX_envs_menu_present": true,
   "autoclose": false,
   "autocomplete": true,
   "bibliofile": "biblio.bib",
   "cite_by": "apalike",
   "current_citInitial": 1,
   "eqLabelWithNumbers": true,
   "eqNumInitial": 1,
   "hotkeys": {
    "equation": "Ctrl-E",
    "itemize": "Ctrl-I"
   },
   "labels_anchors": false,
   "latex_user_defs": false,
   "report_style_numbering": true,
   "user_envs_cfg": true
  }
 },
 "nbformat": 4,
 "nbformat_minor": 2
}
