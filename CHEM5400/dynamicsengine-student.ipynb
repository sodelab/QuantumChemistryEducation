{
 "cells": [
  {
   "cell_type": "code",
   "execution_count": null,
   "id": "3986f802",
   "metadata": {},
   "outputs": [],
   "source": [
    "\"\"\"Liquid Argon Dynamics Simulation\"\"\"\n",
    "\n",
    "__authors__ = [\"Olaseni Sode\"]\n",
    "__email__   = [\"osode@calstatela.edu\"]\n",
    "__date__      = \"2024-10-09\""
   ]
  },
  {
   "cell_type": "markdown",
   "id": "89674f71",
   "metadata": {},
   "source": [
    "# Liquid Argon Simulation\n",
    "\n",
    "In this assignment, you will build your own molecular dynamics (MD) simulation engine to model the behavior of a simple molecular system—liquid argon. By constructing the simulation from scratch, you will gain a deeper understanding of how molecular systems are sampled through phase space and how microscopic interactions give rise to macroscopic properties.\n",
    "\n",
    "Objective: Implement a molecular dynamics simulation that computes the motion of argon atoms using the Lennard-Jones potential, applies periodic boundary conditions, and analyzes the system's properties over time.\n",
    "\n",
    "### Assignment Overview:\n",
    "1. Setting Up the Simulation Environment\n",
    "2. Defining Essential Functions\n",
    "3. Initializing the Simulation\n",
    "4. Run the Simulation Loop\n",
    "5. Visualization of the Simulation\n",
    "6. Implement a Thermostat (Optional)\n",
    "7. Compute Radial Distribution Function (Optional)"
   ]
  },
  {
   "cell_type": "markdown",
   "id": "301eeb90",
   "metadata": {},
   "source": [
    "### 1. Setting up Simulation Environment"
   ]
  },
  {
   "cell_type": "markdown",
   "id": "e5aacd49",
   "metadata": {},
   "source": [
    "#### Import libraries"
   ]
  },
  {
   "cell_type": "code",
   "execution_count": null,
   "id": "a26b06df",
   "metadata": {},
   "outputs": [],
   "source": [
    "import numpy as np\n",
    "import matplotlib.pyplot as plt\n",
    "from random import random\n",
    "from tqdm import tqdm  # For progress bars during simulation"
   ]
  },
  {
   "cell_type": "markdown",
   "id": "a72b064b",
   "metadata": {},
   "source": [
    "#### Define simulation parameters\n",
    "Set the fundamental constants and simulation parameters for argon."
   ]
  },
  {
   "cell_type": "code",
   "execution_count": null,
   "id": "6ca4f154",
   "metadata": {},
   "outputs": [],
   "source": [
    "# Constants for Argon\n",
    "mass = 39.948  # Atomic mass units (amu)\n",
    "epsilon = 0.996  # Depth of potential well (kJ/mol)\n",
    "sigma = 0.3405  # Finite distance at which the interparticle potential is zero (nm)"
   ]
  },
  {
   "cell_type": "markdown",
   "id": "0b1d33bc",
   "metadata": {},
   "source": [
    "### 2. Defining Essential Functions"
   ]
  },
  {
   "cell_type": "markdown",
   "id": "ebbdca74",
   "metadata": {},
   "source": [
    "#### Define a Lennard-Jones energy function\n",
    "The Lennard-Jones energy function is used to calculate the potential energy experience between pairs of particles. It is defined as, \n",
    "\n",
    "$$U_{ lj} = 4\\epsilon \\left[ \\left( \\frac{\\sigma}{r} \\right)^{12} - \\left( \\frac{\\sigma}{r} \\right)^6 \\right] $$\n",
    "\n",
    "Implement this equation into the `e_lj` function in the cell below"
   ]
  },
  {
   "cell_type": "code",
   "execution_count": null,
   "id": "00dda130",
   "metadata": {},
   "outputs": [],
   "source": [
    "def e_lj(r, epsilon, sigma):\n",
    "    lj = ___________ \n",
    "    return lj\n"
   ]
  },
  {
   "cell_type": "markdown",
   "id": "c8ba6091",
   "metadata": {},
   "source": [
    "#### Force Calculation Function\n",
    "Implement the function to compute forces analytically using the Lennard-Jones potential. (This function is already completed for you)."
   ]
  },
  {
   "cell_type": "code",
   "execution_count": null,
   "id": "ad10bedb",
   "metadata": {},
   "outputs": [],
   "source": [
    "def compute_forces(positions, L, epsilon, sigma):\n",
    "    N = len(positions)\n",
    "    forces = np.zeros_like(positions)\n",
    "    \n",
    "    for i in range(N):\n",
    "        for j in range(i + 1, N):\n",
    "            delta = positions[j] - positions[i]\n",
    "            # Apply minimum image convention\n",
    "            delta = delta - L * np.rint(delta / L)\n",
    "            r = np.sqrt(np.dot(delta, delta))\n",
    "            \n",
    "            # Skip if distance is zero (avoid division by zero)\n",
    "            if r == 0:\n",
    "                continue\n",
    "            \n",
    "            # Compute force magnitude\n",
    "            r_inv = 1.0 / r\n",
    "            r_inv6 = (sigma * r_inv) ** 6\n",
    "            r_inv12 = r_inv6 ** 2\n",
    "            force_scalar = 24 * epsilon * r_inv * (2 * r_inv12 - r_inv6)\n",
    "            force_vector = force_scalar * delta / r  # Normalize delta\n",
    "            \n",
    "            # Update forces\n",
    "            forces[i] += force_vector\n",
    "            forces[j] -= force_vector  # Newton's third law\n",
    "    return forces\n"
   ]
  },
  {
   "cell_type": "markdown",
   "id": "41f29ee7",
   "metadata": {},
   "source": [
    "#### Define potential, kinetic and total energy for the system\n",
    "Let's now write functions that will compute the overall potential energy and kinetic energy for our system. The equations for these terms are given below as, \n",
    "\n",
    "$${\\rm PE} = \\sum_{j>i}^N U_{lj}(i,j) $$\n",
    "\n",
    "$${\\rm KE} = \\frac{1}{2}\\sum^N_i m_i {\\boldsymbol v}_i^2$$\n",
    "\n",
    "The function for the kinetic energy is already given to you, but you will need to write out a function for the potential energy."
   ]
  },
  {
   "cell_type": "code",
   "execution_count": null,
   "id": "83adc694",
   "metadata": {},
   "outputs": [],
   "source": [
    "def kinetic(velocity, mass):\n",
    "    # Constants for unit conversion\n",
    "    amu_to_kg = 1.66053906660e-27  # kg per amu\n",
    "    nmps_to_mps = 1e3  # m/s per nm/ps\n",
    "    Na = 6.02214076e23  # Avogadro's number\n",
    "    \n",
    "    # Convert mass from amu to kg\n",
    "    mass_kg = mass * amu_to_kg\n",
    "    \n",
    "    # Convert velocity from nm/ps to m/s\n",
    "    velocity_m_s = velocity * nmps_to_mps\n",
    "    \n",
    "    # Compute kinetic energy in joules\n",
    "    ke_joule = 0.5 * mass_kg * np.sum(velocity_m_s ** 2)\n",
    "    \n",
    "    # Convert kinetic energy to kJ/mol\n",
    "    ke_kj_per_mol = (ke_joule * Na) / 1000  # Divide by 1000 to convert J to kJ\n",
    "    \n",
    "    return ke_kj_per_mol\n"
   ]
  },
  {
   "cell_type": "markdown",
   "id": "1a14ade6",
   "metadata": {},
   "source": [
    "For the potential energy expression don't forget about the minimum image convention for periodic boundary conditions.\n",
    "\n",
    "**What is the Minimum Image Convention?**\n",
    "- The minimum image convention ensures that when calculatinginteractions between particles in a periodic system, each particle only interacts with the closest image of every other particle. This means that even though particles have infinite periodic images due to the boundary conditions, we consider only the nearest one for each pairwise interaction.\n",
    "\n",
    "**Why is it Important?**\n",
    "- *Physical Accuracy:* Without applying the minimum image convention, particles might interact with distant images of other particles, leading to unrealistic representations of the system. The convention ensures that the simulation mimics an infinite system while keeping interactions physically meaningful.\n",
    "\n",
    "- *Computational Efficiency:* It reduces computational load by limiting the number of interactions that need to be calculated, as only the nearest images are considered."
   ]
  },
  {
   "cell_type": "code",
   "execution_count": null,
   "id": "e7b938cd",
   "metadata": {},
   "outputs": [],
   "source": [
    "def potential(positions, L, eps, sig):\n",
    "    \"\"\"\n",
    "    Calculate the total potential energy of the system using the Lennard-Jones potential\n",
    "    and applying the minimum image convention to account for periodic boundary conditions.\n",
    "\n",
    "    Parameters:\n",
    "    positions -- (N, 3) NumPy array containing the positions of N particles\n",
    "                 Each row corresponds to the x, y, z coordinates of a particle.\n",
    "    L         -- Length of the simulation box (assuming a cubic box)\n",
    "    eps       -- Depth of the Lennard-Jones potential well (epsilon)\n",
    "    sig       -- Finite distance at which the interparticle potential is zero (sigma)\n",
    "\n",
    "    Returns:\n",
    "    energy    -- Total potential energy of the system\n",
    "    \"\"\"\n",
    "    \n",
    "    # Initialize the total potential energy to zero\n",
    "    energy = 0.0\n",
    "    \n",
    "    # number of atoms\n",
    "    N = len(coordinate)\n",
    "    \n",
    "    for i in range(1,N):\n",
    "        for j in range(i+1,N):\n",
    "\n",
    "            # Compute the displacement vector between atoms i and j\n",
    "            dvect = ___________ \n",
    "            \n",
    "            # Apply the minimum image convention to the displacement vector\n",
    "            # This adjusts the vector to account for periodic boundary conditions,\n",
    "            # ensuring that we consider the shortest possible distance between particles\n",
    "            # find nearest image of atom pair distance \n",
    "            dvect = ___________ \n",
    "            \n",
    "            # Compute the distance between atoms i and j using the adjusted displacement vector\n",
    "            d = ___________\n",
    "            \n",
    "            # Calculate the Lennard-Jones potential energy for this pair of atoms\n",
    "            # e_lj is the Lennard-Jones potential function, which depends on the distance d,\n",
    "            # and the Lennard-Jones parameters epsilon (eps) and sigma (sig)\n",
    "            energy += e_lj(d, eps, sig)\n",
    "    \n",
    "    # Return the total potential energy of the system\n",
    "    return energy"
   ]
  },
  {
   "cell_type": "markdown",
   "id": "52af0977",
   "metadata": {},
   "source": [
    "#### Temperature Calculation Function\n",
    "Implement the function to calculate the temperature of the system. (This function is already completed for you)."
   ]
  },
  {
   "cell_type": "code",
   "execution_count": null,
   "id": "2052e7a8",
   "metadata": {},
   "outputs": [],
   "source": [
    "import numpy as np\n",
    "\n",
    "def temperature(velocity, mass):\n",
    "    \"\"\"\n",
    "    Calculate the temperature of a system of particles based on their velocities\n",
    "    using the equipartition theorem of kinetic energy.\n",
    "\n",
    "    Parameters:\n",
    "    velocity -- (N, 3) NumPy array containing the velocities of N particles\n",
    "                Each row corresponds to the velocity in x, y, z directions for a particle (in nm/ps).\n",
    "    mass     -- Mass of the particles (in atomic mass units, amu)\n",
    "\n",
    "    Returns:\n",
    "    T        -- Temperature of the system in Kelvin (K)\n",
    "    \"\"\"\n",
    "    # Number of particles in the system (N)\n",
    "    N = len(velocity)\n",
    "\n",
    "    # Constants\n",
    "    k_B = 1.380649e-23  # Boltzmann constant in Joules per Kelvin (J/K)\n",
    "    amu_to_kg = 1.66053906660e-27  # Conversion factor from amu to kilograms (kg/amu)\n",
    "    nmps_to_mps = 1e3  # Conversion factor from nm/ps to meters per second (m/s)\n",
    "\n",
    "    # 1. **Convert mass to kilograms**:\n",
    "    # Mass of the particles is given in atomic mass units (amu).\n",
    "    # Convert it to SI units (kg) for the energy calculations.\n",
    "    mass_kg = mass * amu_to_kg  # kg\n",
    "\n",
    "    # 2. **Convert velocities to meters per second (m/s)**:\n",
    "    # The velocities are initially in nanometers per picosecond (nm/ps).\n",
    "    # Convert them to meters per second (m/s), which is the standard unit for velocity.\n",
    "    velocity_m_s = velocity * nmps_to_mps  # m/s\n",
    "\n",
    "    # 3. **Calculate the total kinetic energy**:\n",
    "    # Kinetic energy is given by the formula: KE = 0.5 * m * v^2.\n",
    "    # Here, we sum the squared velocities of all particles, multiply by the mass,\n",
    "    # and calculate the total kinetic energy of the system.\n",
    "    ke_joule = 0.5 * mass_kg * np.sum(velocity_m_s ** 2)  # Joules (J)\n",
    "\n",
    "    # 4. **Compute the temperature**:\n",
    "    # According to the equipartition theorem, the temperature of the system is related to\n",
    "    # the kinetic energy by the formula: KE = (3/2) * N * k_B * T.\n",
    "    # Rearranging this formula, we can solve for the temperature: T = (2 * KE) / (3 * N * k_B).\n",
    "    T = (2 * ke_joule) / (3 * N * k_B)  # Temperature in Kelvin (K)\n",
    "\n",
    "    # 5. **Return the computed temperature**:\n",
    "    return T\n"
   ]
  },
  {
   "cell_type": "markdown",
   "id": "f2591cfb",
   "metadata": {},
   "source": [
    "### 3. Initialize the Simulation"
   ]
  },
  {
   "cell_type": "markdown",
   "id": "ccd4528f",
   "metadata": {},
   "source": [
    "#### Set Simulation Parameters\n",
    "Define the number of atoms, the size of the simulation box, and the time step. Try initially 20 atoms, a box length of 5 nm, a time step of 0.005 ps, and 5000 simulation steps."
   ]
  },
  {
   "cell_type": "code",
   "execution_count": null,
   "id": "78a58f4a",
   "metadata": {},
   "outputs": [],
   "source": [
    "N = ___________   # Number of atoms\n",
    "L = ___________   # Box length in nm\n",
    "dt = ___________   # Time step in ps\n",
    "nsteps = ___________   # Number of simulation steps\n"
   ]
  },
  {
   "cell_type": "markdown",
   "id": "23d9967b",
   "metadata": {},
   "source": [
    "#### Initialize Positions\n",
    "The `get_sphere_distribution` function generates a set of n random points (particle positions) within a box of specified dimensions Ls, ensuring that no two points are closer than a specified minimum distance dmin. This helps in initializing a molecular dynamics simulation with particles that are well-distributed and avoids overlaps that could cause unrealistic forces."
   ]
  },
  {
   "cell_type": "code",
   "execution_count": null,
   "id": "1e9657c3",
   "metadata": {},
   "outputs": [],
   "source": [
    "def get_sphere_distribution(n, dmin, Ls, maxiter=1e4, allow_wall=True):\n",
    "    \"\"\"Get random points in a box with given dimensions and minimum separation.\n",
    "    \n",
    "    Parameters:\n",
    "      \n",
    "    - n: number of points\n",
    "    - dmin: minimum distance\n",
    "    - Ls: dimensions of box, shape (3,) array \n",
    "    - maxiter: maximum number of iterations.\n",
    "    - allow_wall: whether to allow points on wall; \n",
    "       (if False: points need to keep distance dmin/2 from the walls.)\n",
    "        \n",
    "    Return:\n",
    "        \n",
    "    - ps: array (n, 3) of point positions, \n",
    "      with 0 <= ps[:, i] < Ls[i]\n",
    "    - n_iter: number of iterations\n",
    "    - dratio: average nearest-neighbor distance, divided by dmin.\n",
    "    \n",
    "    Note: with a fill density (sphere volume divided by box volume) above about\n",
    "    0.53, it takes very long. (Random close-packed spheres have a fill density\n",
    "    of 0.64).\n",
    "    \n",
    "    Author: Han-Kwang Nienhuys (2020)\n",
    "    Copying: BSD, GPL, LGPL, CC-BY, CC-BY-SA\n",
    "    See Stackoverflow: https://stackoverflow.com/a/62895898/6228891 \n",
    "    \"\"\"\n",
    "    Ls = np.array(Ls).reshape(3)\n",
    "    if not allow_wall:\n",
    "        Ls -= dmin\n",
    "    \n",
    "    # filling factor; 0.64 is for random close-packed spheres\n",
    "    # This is an estimate because close packing is complicated near the walls.\n",
    "    # It doesn't work well for small L/dmin ratios.\n",
    "    sphere_vol = np.pi/6*dmin**3\n",
    "    box_vol = np.prod(Ls + 0.5*dmin)\n",
    "    fill_dens = n*sphere_vol/box_vol\n",
    "    if fill_dens > 0.64:\n",
    "        msg = f'Too many to fit in the volume, density {fill_dens:.3g}>0.64'\n",
    "        raise ValueError(msg)\n",
    "    \n",
    "    # initial try   \n",
    "    ps = np.random.uniform(size=(n, 3)) * Ls\n",
    "    \n",
    "    # distance-squared matrix (diagonal is self-distance, don't count)\n",
    "    dsq = ((ps - ps.reshape(n, 1, 3))**2).sum(axis=2)\n",
    "    dsq[np.arange(n), np.arange(n)] = np.infty\n",
    "\n",
    "    for iter_no in range(int(maxiter)):\n",
    "        # find points that have too close neighbors\n",
    "        close_counts = np.sum(dsq < dmin**2, axis=1)  # shape (n,)\n",
    "        n_close = np.count_nonzero(close_counts)\n",
    "        if n_close == 0:\n",
    "            break\n",
    "        \n",
    "        # Move the one with the largest number of too-close neighbors\n",
    "        imv = np.argmax(close_counts)\n",
    "        \n",
    "        # new positions\n",
    "        newp = np.random.uniform(size=3)*Ls\n",
    "        ps[imv]= newp\n",
    "        \n",
    "        # update distance matrix\n",
    "        new_dsq_row = ((ps - newp.reshape(1, 3))**2).sum(axis=-1)\n",
    "        dsq[imv, :] = dsq[:, imv] = new_dsq_row\n",
    "        dsq[imv, imv] = np.inf\n",
    "    else:\n",
    "        raise RuntimeError(f'Failed after {iter_no+1} iterations.')\n",
    "\n",
    "    if not allow_wall:\n",
    "        ps += dmin/2\n",
    "    \n",
    "    dratio = (np.sqrt(dsq.min(axis=1))/dmin).mean()\n",
    "    return ps, iter_no+1, dratio\n",
    "\n",
    "\n",
    "positions, n_iter, dration = get_sphere_distribution(N,1.0,(L,L,L))"
   ]
  },
  {
   "cell_type": "markdown",
   "id": "1809d24c",
   "metadata": {},
   "source": [
    "#### Initialize Velocities\n",
    "Set initial velocities close to zero or sample from a Maxwell-Boltzmann distribution."
   ]
  },
  {
   "cell_type": "code",
   "execution_count": null,
   "id": "45ff042b",
   "metadata": {},
   "outputs": [],
   "source": [
    "def set_velocities_near_zero(N, magnitude=1e-5):\n",
    "    velocities = np.random.uniform(-magnitude, magnitude, (N, 3))\n",
    "    return velocities\n",
    "\n",
    "velocities = set_velocities_near_zero(N)"
   ]
  },
  {
   "cell_type": "markdown",
   "id": "88cb1563",
   "metadata": {},
   "source": [
    "#### Remove Net Momentum\n",
    "Ensure that the system has no net momentum."
   ]
  },
  {
   "cell_type": "code",
   "execution_count": null,
   "id": "5786116b",
   "metadata": {},
   "outputs": [],
   "source": [
    "def remove_net_momentum(velocities, mass):\n",
    "    total_mass = N * mass\n",
    "    momentum = np.sum(velocities * mass, axis=0)\n",
    "    velocity_correction = momentum / total_mass\n",
    "    velocities -= velocity_correction\n",
    "    return velocities\n",
    "\n",
    "velocities = remove_net_momentum(velocities, mass)"
   ]
  },
  {
   "cell_type": "markdown",
   "id": "5fb8a957",
   "metadata": {},
   "source": [
    "#### Compute Initial Forces\n",
    "Calculate the initial forces acting on the particles."
   ]
  },
  {
   "cell_type": "code",
   "execution_count": null,
   "id": "c8fc3c38",
   "metadata": {},
   "outputs": [],
   "source": [
    "forces = compute_forces(positions, L, epsilon, sigma)"
   ]
  },
  {
   "cell_type": "markdown",
   "id": "59665aff",
   "metadata": {},
   "source": [
    "### 4. Implement Velocity Verlet Algorithm and Run the Simulation Loop\n",
    "\n",
    "To propagate our system forward in time, we use the Velocity Verlet algorithm, which updates both the positions and velocities of the particles at each simulation step. The Velocity Verlet algorithm is widely used in molecular dynamics simulations due to its simplicity, stability, and good energy conservation properties.\n",
    "\n",
    "The Velocity Verlet algorithm consists of the following steps:\n",
    "1. **Position Update**\n",
    "$${\\bf r}^{n+1} = {\\bf r}^{n} + {\\bf v}^{n}\\Delta t + {\\bf a}^n\\frac{\\Delta t^2}{2},      \\qquad(1)  $$\n",
    "\n",
    "2. **Force and Acceration Calculation**\n",
    "- Compute the forces ${\\bf F}^{n+1}$ acting on the particles at the new positions ${\\bf r}^{n+1}$.\n",
    "- Update the accelerations: \n",
    "$${\\bf a}^{n+1} = \\frac{{\\bf F}^{n+1}}{m},      \\qquad(2)  $$\n",
    "\n",
    "3. **Velocity Update**\n",
    "$${\\bf v}^{n+1} = {\\bf v}^{n} + \\frac{1}{2} ({\\bf a}^{n} + {\\bf a}^{n+1} ) \\Delta t.      \\qquad(3)  $$\n"
   ]
  },
  {
   "cell_type": "code",
   "execution_count": null,
   "id": "eecb2537",
   "metadata": {
    "code_folding": []
   },
   "outputs": [],
   "source": [
    "# Arrays to store energy and temperature for analysis\n",
    "energies = []\n",
    "temperatures = []\n",
    "\n",
    "print(\"Starting simulation...\")\n",
    "for step in tqdm(range(nsteps)):\n",
    "    # **Update positions using the Velocity Verlet algorithm**\n",
    "    positions = ____________  # TODO: Implement position update here\n",
    "    \n",
    "    # **Apply periodic boundary conditions to positions**\n",
    "    positions = ____________  # TODO: Apply periodic boundary conditions to positions\n",
    "    \n",
    "    # **Store current forces before computing new ones**\n",
    "    forces_old = ____________  # TODO: Store the current forces\n",
    "    \n",
    "    # **Compute new forces based on updated positions**\n",
    "    forces = ____________  # TODO: Compute new forces using compute_forces function\n",
    "    \n",
    "    # **Update velocities using the Velocity Verlet algorithm**\n",
    "    velocities = ____________  # TODO: Implement velocity update here\n",
    "    \n",
    "    # **Calculate kinetic and potential energies**\n",
    "    ke = ____________  # TODO: Implement potential energy calculation using potential function\n",
    "    pe = ____________  # TODO: Implement potential energy calculation using potential function\n",
    "    total_energy = ke + pe\n",
    "    energies.append(total_energy)\n",
    "    \n",
    "    # **Calculate temperature of the system**\n",
    "    temp = ____________  # TODO: Implement temperature calculation using temperature function\n",
    "    temperatures.append(temp)\n",
    "    \n",
    "    \n",
    "print(\"Simulation completed.\")"
   ]
  },
  {
   "cell_type": "markdown",
   "id": "370321f5",
   "metadata": {},
   "source": [
    "**Question: <span style=\"color:red\">Explain how the Lennard-Jones potential leads to both attractive and repulsive forces between argon atoms.</span>**\n",
    "\n",
    "    \n",
    "**Answer:** "
   ]
  },
  {
   "cell_type": "code",
   "execution_count": null,
   "id": "6ed18ac7",
   "metadata": {},
   "outputs": [],
   "source": []
  },
  {
   "cell_type": "markdown",
   "id": "221d8adc",
   "metadata": {},
   "source": [
    "**Question: <span style=\"color:red\">Why are periodic boundary conditions used in molecular dynamics simulations, and how does the minimum image convention help implement them?</span>**\n",
    "\n",
    "**Answer:**"
   ]
  },
  {
   "cell_type": "code",
   "execution_count": null,
   "id": "3c1d8274",
   "metadata": {},
   "outputs": [],
   "source": []
  },
  {
   "cell_type": "markdown",
   "id": "7ad59f04",
   "metadata": {},
   "source": [
    "**Question: <span style=\"color:red\">After running the simulation, plot the total energy over time. Is energy conserved in your simulation? If not, what factors might be causing energy drift?</span>**\n",
    "\n",
    "**Answer:** "
   ]
  },
  {
   "cell_type": "code",
   "execution_count": null,
   "id": "e6481714",
   "metadata": {},
   "outputs": [],
   "source": []
  },
  {
   "cell_type": "code",
   "execution_count": null,
   "id": "6e6f8ff8",
   "metadata": {},
   "outputs": [],
   "source": [
    "# Plotting total energy over time\n",
    "plt.figure(figsize=(10, 6))\n",
    "plt.plot(energies)\n",
    "plt.title('Total Energy Over Time')\n",
    "plt.xlabel('Simulation Step')\n",
    "plt.ylabel('Energy (kJ/mol)')\n",
    "plt.show()\n"
   ]
  },
  {
   "cell_type": "markdown",
   "id": "580abb24",
   "metadata": {},
   "source": [
    "**Question: <span style=\"color:red\">Plot the temperature over time. Does the system maintain the desired temperature? What could be done to control the temperature more effectively?</span>**\n",
    "\n",
    "**Answer:**"
   ]
  },
  {
   "cell_type": "code",
   "execution_count": null,
   "id": "5be8169c",
   "metadata": {},
   "outputs": [],
   "source": [
    "# Plotting temperature over time\n",
    "plt.figure(figsize=(10, 6))\n",
    "plt.plot(temperatures)\n",
    "plt.title('Temperature Over Time')\n",
    "plt.xlabel('Simulation Step')\n",
    "plt.ylabel('Temperature (K)')\n",
    "plt.show()"
   ]
  },
  {
   "cell_type": "markdown",
   "id": "e6706825",
   "metadata": {},
   "source": [
    "**Question: <span style=\"color:red\">Experiment with different time step sizes (e.g., 0.001 ps, 0.005 ps, 0.01 ps). How does the time step affect the accuracy and stability of your simulation?</span>**\n",
    "\n",
    "**Answer:**"
   ]
  },
  {
   "cell_type": "code",
   "execution_count": null,
   "id": "89e51d36",
   "metadata": {},
   "outputs": [],
   "source": []
  },
  {
   "cell_type": "markdown",
   "id": "1dc9edc3",
   "metadata": {},
   "source": [
    "### 5. Visualization of the Simulation with NGLView\n",
    "Now that you've run your simulation and collected the trajectory data, you can visualize the motion of the argon atoms using `nglview`. This will help you observe the behavior of the system over time."
   ]
  },
  {
   "cell_type": "markdown",
   "id": "1b5ee95b",
   "metadata": {},
   "source": [
    "#### Preparing the Trajectory File\n",
    "During the simulation, you need to save the positions of the particles at each time step in a format that MDAnalysis and nglview can read. The XYZ format is commonly used for this purpose.\n",
    "\n",
    "#### Modify the Simulation Loop to Save Trajectory\n",
    "Add a function to write the positions to an XYZ file:"
   ]
  },
  {
   "cell_type": "code",
   "execution_count": null,
   "id": "1f86c0ab",
   "metadata": {},
   "outputs": [],
   "source": [
    "def write_xyz(positions, step, filename='argon_simulation.xyz'):\n",
    "    with open(filename, 'a') as f:\n",
    "        f.write(f\"{len(positions)}\\n\")\n",
    "        f.write(f\"Step {step}\\n\")\n",
    "        for pos in positions:\n",
    "            f.write(f\"Ar {pos[0]} {pos[1]} {pos[2]}\\n\")"
   ]
  },
  {
   "cell_type": "markdown",
   "id": "e9b4c6db",
   "metadata": {},
   "source": [
    "Clear the file before starting the simulation with the following command:\n",
    "\n",
    "```\n",
    "# Before starting the loop, clear or create the file\n",
    "with open('argon_simulation.xyz', 'w') as f:\n",
    "    f.write('')\n",
    "```    "
   ]
  },
  {
   "cell_type": "markdown",
   "id": "e2d3bd8e",
   "metadata": {},
   "source": [
    "#### Update Simulation Loop\n",
    "In the cell below, copy the simulation loop you created from before and update it with a call to `write_xyz`."
   ]
  },
  {
   "cell_type": "code",
   "execution_count": null,
   "id": "9b3ec3e0",
   "metadata": {},
   "outputs": [],
   "source": [
    "# Add in your new simulation loop here.\n",
    "# Make sure to reinitialize your velocities\n",
    "# and forces.\n",
    "# Include your write_xyz function call during\n",
    "# the simulation loop and don't forget to\n",
    "# clear and create the file before the loop."
   ]
  },
  {
   "cell_type": "code",
   "execution_count": null,
   "id": "0056f362",
   "metadata": {},
   "outputs": [],
   "source": []
  },
  {
   "cell_type": "markdown",
   "id": "d6d1e696",
   "metadata": {},
   "source": [
    "\n",
    "Now that you have the trajectory saved in argon_simulation.xyz, you can load it using MDAnalysis and visualize it with nglview.\n"
   ]
  },
  {
   "cell_type": "code",
   "execution_count": null,
   "id": "fd5241eb",
   "metadata": {},
   "outputs": [],
   "source": [
    "import MDAnalysis as mda\n",
    "import nglview as nv\n",
    "\n",
    "# load the argon simulation trajectory\n",
    "a = mda.Universe(\"argon_simulation.xyz\", format='XYZ')\n",
    "\n",
    "# specify the dimension\n",
    "# and angles of unit cell\n",
    "a.dimensions = [L, L, L, 90, 90, 90]\n",
    "\n",
    "# load system into nglview\n",
    "# and change the representations\n",
    "view = nv.show_mdanalysis(a)\n",
    "view.remove_ball_and_stick()\n",
    "view.center()\n",
    "view.add_unitcell()\n",
    "view.add_representation('spacefill',radius='1')\n",
    "\n",
    "view"
   ]
  },
  {
   "cell_type": "markdown",
   "id": "ad918c50",
   "metadata": {},
   "source": [
    "**Question: <span style=\"color:red\">Observe how particles behave when they reach the boundaries of the simulation box. Do they appear on the opposite side as expected due to periodic boundary conditions?</span>**\n",
    "\n",
    "**Answer:** "
   ]
  },
  {
   "cell_type": "markdown",
   "id": "7254234a",
   "metadata": {},
   "source": [
    "."
   ]
  },
  {
   "cell_type": "markdown",
   "id": "48f8415e",
   "metadata": {},
   "source": [
    "**Question: <span style=\"color:red\">Describe any patterns or behaviors you notice in the motion of the argon atoms. Are there any indications of clustering or phase changes?</span>**\n",
    "\n",
    "**Answer:** "
   ]
  },
  {
   "cell_type": "markdown",
   "id": "8b0aa3f2",
   "metadata": {},
   "source": [
    "."
   ]
  },
  {
   "cell_type": "markdown",
   "id": "7995d53c",
   "metadata": {},
   "source": [
    "**Question: <span style=\"color:red\">What modifications could you make to your simulation to observe liquid or solid behavior in argon?</span>**\n",
    "\n",
    "**Answer:** "
   ]
  },
  {
   "cell_type": "markdown",
   "id": "33f321b5",
   "metadata": {},
   "source": [
    "."
   ]
  },
  {
   "cell_type": "code",
   "execution_count": null,
   "id": "e4bc82e9",
   "metadata": {},
   "outputs": [],
   "source": []
  },
  {
   "cell_type": "markdown",
   "id": "b61d907e",
   "metadata": {},
   "source": [
    "### 6. Implement a Thermostat (Optional Exercise)\n",
    "Implement a simple thermostat, such as the Berendsen thermostat, to control the temperature of your system."
   ]
  },
  {
   "cell_type": "markdown",
   "id": "f4e867dc",
   "metadata": {},
   "source": [
    "#### Berendsen Thermostat \n",
    "In molecular dynamics simulations, controlling the temperature of the system is crucial, especially when simulating processes at constant temperature (canonical ensemble). The Berendsen thermostat is a widely used method for temperature control due to its simplicity and ease of implementation. It gently adjusts the system's temperature towards a desired value by rescaling particle velocities, simulating a weak coupling to an external heat bath.\n",
    "\n",
    "The Berendsen thermostat modifies the velocities of particles to bring the system's temperature $T$ closer to a target temperature $T_0$. It does this by scaling the velocities at each time step using a scaling factor $\\lambda$:\n",
    "$${\\bf v}^{n+1} = \\lambda{\\bf v}^{n} .      \\qquad(4)  $$\n",
    "\n",
    "The scaling factor $\\lambda$ is calculated based on the current temeprature, the desired temperature, and the coupling parameter: \n",
    "\n",
    "$$\\lambda = \\sqrt{1+\\frac{\\Delta t}{\\tau_T}\\left (\\frac{T_0}{T}-1\\right )} \\qquad(5)  $$\n",
    "where $\\tau_T$ is a thermostat time constant (relaxation time)."
   ]
  },
  {
   "cell_type": "markdown",
   "id": "f30c9d1f",
   "metadata": {},
   "source": [
    "Implement the berendsen thermostat below:"
   ]
  },
  {
   "cell_type": "code",
   "execution_count": null,
   "id": "e27bffe4",
   "metadata": {},
   "outputs": [],
   "source": [
    "def apply_berendsen_thermostat(velocities, mass, desired_temperature, tau, dt):\n",
    "    \"\"\"\n",
    "    Apply the Berendsen thermostat to adjust velocities.\n",
    "\n",
    "    Parameters:\n",
    "    velocities          -- (N, 3) array of particle velocities in nm/ps\n",
    "    mass                -- Mass of a particle in atomic mass units (amu)\n",
    "    desired_temperature -- Target temperature T0 in Kelvin\n",
    "    tau                 -- Thermostat time constant in picoseconds (ps)\n",
    "    dt                  -- Time step size in picoseconds (ps)\n",
    "\n",
    "    Returns:\n",
    "    velocities_scaled   -- Adjusted velocities after applying the thermostat\n",
    "    \"\"\"\n",
    "    # **Calculate the current temperature**\n",
    "    current_temperature = ____________  # TODO: Use your temperature function to compute current temperature\n",
    "    \n",
    "    # **Calculate the scaling factor lambda**\n",
    "    lambda_factor = ____________  # TODO: Compute the scaling factor using the Berendsen thermostat formula\n",
    "    \n",
    "    # **Rescale velocities**\n",
    "    velocities_scaled = ____________  # TODO: Rescale velocities using the scaling factor\n",
    "    \n",
    "    # **Return the scaled velocities**\n",
    "    return velocities_scaled"
   ]
  },
  {
   "cell_type": "markdown",
   "id": "e7c50988",
   "metadata": {},
   "source": [
    "#### Define desired temperature and thermostat parameters\n",
    "Before entering the simulation loop, specify the target temperature and the thermostat coupling constant. Also, ensure that you have defined the time step `dt`."
   ]
  },
  {
   "cell_type": "code",
   "execution_count": null,
   "id": "456d67a9",
   "metadata": {},
   "outputs": [],
   "source": [
    "# Define the desired temperature (in Kelvin)\n",
    "desired_temperature = 100  # Adjust as needed\n",
    "\n",
    "# Define the time step (in picoseconds)\n",
    "dt = 0.005  # Example time step\n",
    "\n",
    "# Define the thermostat time constant (coupling constant)\n",
    "tau_T = 100 * dt  # Adjust as needed (e.g., tau_T = 0.5 ps)"
   ]
  },
  {
   "cell_type": "markdown",
   "id": "67479d83",
   "metadata": {},
   "source": [
    "#### Modify the Simulation Loop to Apply the Thermostat\n",
    "Inside your simulation loop, apply the Berendsen thermostat at regular intervals. For example, you can apply it every 100 steps.\n",
    "\n",
    "```\n",
    "# Apply Berendsen thermostat every 100 steps\n",
    "if step % 100 == 0:\n",
    "    velocities = apply_berendsen_thermostat(velocities, mass, desired_temperature, tau_T, dt)\n",
    "```"
   ]
  },
  {
   "cell_type": "code",
   "execution_count": null,
   "id": "5c411591",
   "metadata": {},
   "outputs": [],
   "source": [
    "# Add in your new simulation loop here.\n",
    "# Make sure to reinitialize your velocities\n",
    "# and forces.\n",
    "# Apply the Berendsen thermostat every 100 \n",
    "# steps with the code above in the simulation\n",
    "# loop."
   ]
  },
  {
   "cell_type": "code",
   "execution_count": null,
   "id": "b0abbadf",
   "metadata": {},
   "outputs": [],
   "source": []
  },
  {
   "cell_type": "code",
   "execution_count": null,
   "id": "70f3c432",
   "metadata": {},
   "outputs": [],
   "source": []
  },
  {
   "cell_type": "markdown",
   "id": "086ee723",
   "metadata": {},
   "source": []
  },
  {
   "cell_type": "markdown",
   "id": "469d8bbe",
   "metadata": {},
   "source": [
    "**Question: <span style=\"color:red\">Run simulations at different temperatures and visualize the trajectories. How does temperature affect the motion of the atoms?</span>**\n",
    "\n",
    "**Answer:** "
   ]
  },
  {
   "cell_type": "markdown",
   "id": "3e18f97a",
   "metadata": {},
   "source": [
    "."
   ]
  },
  {
   "cell_type": "markdown",
   "id": "8bd3cdc8",
   "metadata": {},
   "source": [
    "**Question: <span style=\"color:red\">How does the frequency at which you apply the thermostat (e.g., every 10 steps vs. every 100 steps) influence the temperature control and system dynamics?</span>**\n",
    "\n",
    "**Answer:** "
   ]
  },
  {
   "cell_type": "markdown",
   "id": "84de22e4",
   "metadata": {},
   "source": [
    "."
   ]
  },
  {
   "cell_type": "markdown",
   "id": "4dc98e2b",
   "metadata": {},
   "source": [
    "**Question: <span style=\"color:red\">Does the total energy of the system remain constant when using the Berendsen thermostat? Why or why not?</span>**\n",
    "\n",
    "**Answer:** "
   ]
  },
  {
   "cell_type": "markdown",
   "id": "3b0d7c0f",
   "metadata": {},
   "source": [
    "."
   ]
  },
  {
   "cell_type": "markdown",
   "id": "18bd130c",
   "metadata": {},
   "source": [
    "### 7. Analyze Radial Distribution Function (Optional Exercise)"
   ]
  },
  {
   "cell_type": "markdown",
   "id": "40432a69",
   "metadata": {},
   "source": [
    "One powerful tool for analyzing such structural properties is the Radial Distribution Function (RDF), denoted as \n",
    "$g(r)$. The RDF provides statistical information about how particle density varies as a function of distance from a reference particle. Essentially, it answers the question: What is the probability of finding a particle at a distance $r$ from another particle compared to an ideal gas at the same density?\n",
    "\n",
    "$$ g(r) = \\frac{\\left <\\rho(r)\\right>}{\\rho_0} $$\n",
    "\n",
    "where $\\left <\\rho(r)\\right>$ is the average local density at distance $r$, and $\\rho_0$ is the average density of the system. \n",
    "\n",
    "The RDF is important for phase identification and structural insight. The RDF reveals how particles are spatially arranged, indicating the presence of short-range order, clustering, or layering in the system. Different phases (gas, liquid, solid) exhibit characteristic RDF patterns. For example: the RDF for a gas is close to 1 for all $r$ indicating a random distribution, while the RDF for a solid shows sharp peaks of specific distances due to long-range order."
   ]
  },
  {
   "cell_type": "code",
   "execution_count": null,
   "id": "9c95b1e8",
   "metadata": {},
   "outputs": [],
   "source": [
    "bins = 50"
   ]
  },
  {
   "cell_type": "code",
   "execution_count": null,
   "id": "b4c3e3bd",
   "metadata": {},
   "outputs": [],
   "source": [
    "def compute_rdf(positions, L, bins=50, r_max=L/2):\n",
    "    \"\"\"\n",
    "    Compute the radial distribution function g(r) for a set of particle positions.\n",
    "\n",
    "    Parameters:\n",
    "    positions -- (N, 3) array of particle positions\n",
    "    L         -- Simulation box length (assuming cubic box)\n",
    "    bins      -- Number of bins for the histogram\n",
    "    r_max     -- Maximum distance to consider (default is L/2)\n",
    "\n",
    "    Returns:\n",
    "    r         -- Array of distance values corresponding to g(r)\n",
    "    g_r       -- Radial distribution function values\n",
    "    \"\"\"\n",
    "    N = len(positions)\n",
    "    if r_max is None:\n",
    "        r_max = L / 2.0  # Maximum distance is half the box length due to periodic boundaries\n",
    "\n",
    "    dr = r_max / bins  # Bin width\n",
    "    rdf = np.zeros(bins)\n",
    "    distances = []\n",
    "\n",
    "    # Compute pairwise distances with minimum image convention\n",
    "    for i in range(N):\n",
    "        for j in range(i + 1, N):\n",
    "            delta = positions[j] - positions[i]\n",
    "            # Apply minimum image convention\n",
    "            delta -= L * np.rint(delta / L)\n",
    "            r = np.sqrt(np.dot(delta, delta))\n",
    "            if r < r_max:\n",
    "                bin_index = int(r / dr)\n",
    "                rdf[bin_index] += 2  # Count pairs twice (i-j and j-i)\n",
    "\n",
    "    # Normalize RDF\n",
    "    r = np.linspace(dr / 2, r_max - dr / 2, bins)\n",
    "    shell_volume = (4 / 3) * np.pi * ((r + dr / 2) ** 3 - (r - dr / 2) ** 3)\n",
    "    number_density = N / L ** 3\n",
    "    ideal_gas = number_density * shell_volume * N\n",
    "    g_r = rdf / ideal_gas\n",
    "\n",
    "    return r, g_r"
   ]
  },
  {
   "cell_type": "markdown",
   "id": "c2543944",
   "metadata": {},
   "source": [
    "Add the following code within the simulation loop to compute the rdf throughout the simulation.\n",
    "```\n",
    "        r, g_r = compute_rdf(positions, L, bins, r_max)\n",
    "        total_rdf += g_r\n",
    "```"
   ]
  },
  {
   "cell_type": "code",
   "execution_count": null,
   "id": "25df0f8e",
   "metadata": {},
   "outputs": [],
   "source": [
    "total_rdf = np.zeros(bins)\n",
    "# Add in your new simulation loop here.\n",
    "# Make sure to reinitialize your velocities\n",
    "# and forces.\n",
    "# Apply compute_rdf code here. "
   ]
  },
  {
   "cell_type": "code",
   "execution_count": null,
   "id": "d87165fd",
   "metadata": {},
   "outputs": [],
   "source": [
    "# Compute average of g(r)\n",
    "g_r_avg = total_rdf / nsteps"
   ]
  },
  {
   "cell_type": "code",
   "execution_count": null,
   "id": "ff60f395",
   "metadata": {},
   "outputs": [],
   "source": [
    "# Plotting the RDF\n",
    "plt.figure(figsize=(10, 6))\n",
    "plt.plot(r, g_r_avg)\n",
    "plt.title('Radial Distribution Function g(r)')\n",
    "plt.xlabel('Distance r (nm)')\n",
    "plt.ylabel('g(r)')\n",
    "plt.grid(True)\n",
    "plt.show()\n"
   ]
  },
  {
   "cell_type": "code",
   "execution_count": null,
   "id": "e7ef0885",
   "metadata": {},
   "outputs": [],
   "source": []
  }
 ],
 "metadata": {
  "kernelspec": {
   "display_name": "Python 3 (ipykernel)",
   "language": "python",
   "name": "python3"
  },
  "language_info": {
   "codemirror_mode": {
    "name": "ipython",
    "version": 3
   },
   "file_extension": ".py",
   "mimetype": "text/x-python",
   "name": "python",
   "nbconvert_exporter": "python",
   "pygments_lexer": "ipython3",
   "version": "3.11.9"
  }
 },
 "nbformat": 4,
 "nbformat_minor": 5
}
