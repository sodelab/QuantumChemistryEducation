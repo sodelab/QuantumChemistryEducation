{
 "cells": [
  {
   "cell_type": "code",
   "execution_count": null,
   "metadata": {},
   "outputs": [],
   "source": [
    "\"\"\"Alkane Simulation and Visualization\"\"\"\n",
    "\n",
    "__authors__ = [\"Olaseni Sode\",\"Paul Nerenberg\"]\n",
    "__email__   = [\"osode@calstatela.edu\",\"pnerenb@calstatela.edu\"]\n",
    "__date__      = \"2024-9-25\""
   ]
  },
  {
   "cell_type": "markdown",
   "metadata": {},
   "source": [
    "# Alkane Simulation and Analysis"
   ]
  },
  {
   "cell_type": "markdown",
   "metadata": {},
   "source": [
    "In this exercise, you will learn how to set up and run molecular dynamics (MD) simulations using OpenMM for two simple hydrocarbon systems: ethane and halogenated butane. You will also visualize and analyze the simulation results. This notebook will guide you through key steps in MD simulations, including system setup, energy minimization, equilibration, and production runs.\n"
   ]
  },
  {
   "cell_type": "code",
   "execution_count": null,
   "metadata": {},
   "outputs": [],
   "source": [
    "#from simtk.openmm import app\n",
    "#import simtk.openmm as mm\n",
    "#from simtk import unit\n",
    "from openmm import app\n",
    "from openmm.app import Modeller\n",
    "from openmm.app import PDBFile\n",
    "import openmm as mm\n",
    "\n",
    "from openmm import unit\n",
    "from sys import stdout\n",
    "import time as time"
   ]
  },
  {
   "cell_type": "markdown",
   "metadata": {},
   "source": [
    "## 1. Gas Phase Simulation Ethane\n",
    "\n",
    "In this section, you will set up, run, and analyze a molecular dynamics (MD) simulation for ethane in the gas phase. Ethane is a simple hydrocarbon, making it a good starting point for learning how to perform and interpret MD simulations. The tasks in this section will guide you through the key stages of a simulation workflow.\n",
    "\n",
    "#### A. **Create and Load the Ethane Molecule and Force Field**\n",
    "   - First, you will create the molecular structure of ethane from a provided PDB file. The PDB file contains the atomic positions and bonding information necessary for the simulation.\n",
    "   - You will use the `PDBFile` function from OpenMM to read the ethane structure into the simulation environment.\n",
    "   - Next, you will create and assign a force field to ethane. A force field defines the potential energy function that governs the interactions between atoms (bonds, angles, torsions, and non-bonded interactions). In this case, you will use the **General Amber Force Field 2 (GAFF2)**, which is appropriate for hydrocarbons like ethane.\n",
    "   - You will load the force field into OpenMM, which will automatically assign parameters to the ethane atoms.\n",
    "\n",
    "#### B. **Energy Minimization and Equilibration**\n",
    "   - Before running the simulation, you need to perform energy minimization. This process reduces any high-energy contacts that might make the system unstable during dynamics.\n",
    "   - Energy minimization is essential for finding a stable initial configuration by relaxing the molecule to its nearest local energy minimum.\n",
    "   - You will run a minimization algorithm and track how the potential energy of the system decreases as the molecule relaxes.\n",
    "\n",
    "#### C. **Molecular Dynamics (MD) Simulation**\n",
    "   - After minimization and equilibration, you will set up and run the molecular dynamics simulation.\n",
    "   - *Integrator Setup*: You'll use a **Langevin integrator** to simulate the system under constant temperature conditions (298.15 K). The integrator will help maintain the system temperature by simulating collisions with a heat bath.\n",
    "   - *Run the Simulation*: You will run the MD simulation for a specific number of time steps, allowing the ethane molecule to evolve over time. The simulation will generate a trajectory that shows how the atoms in the molecule move throughout the simulation.\n",
    "   \n",
    "#### D. **Trajectory Analysis**\n",
    "   - Once the simulation is complete, you will analyze the trajectory of the ethane molecule to understand its motion.\n",
    "   - Using `mdtraj`, you will visualize how the ethane molecule evolves over time and compute structural properties, such as bond lengths.\n",
    "   - For example, you will calculate the **C-C bond distance** between the two carbon atoms over the course of the simulation.\n",
    "\n",
    "#### E. **Visualization of Results**\n",
    "   - Finally, you will visualize the results using matplotlib or another plotting library. This will allow you to observe how the energy and bond distances change over time during the simulation.\n",
    "   - You will generate a plot showing the **potential energy** of the ethane molecule as a function of simulation time, as well as the **C-C bond distance** variation.\n",
    "\n",
    "By the end of this section, you will have a deeper understanding of how molecular dynamics simulations are performed and how to interpret the data generated from these simulations. This foundation will prepare you for more complex systems in future exercises.\n"
   ]
  },
  {
   "cell_type": "code",
   "execution_count": null,
   "metadata": {},
   "outputs": [],
   "source": []
  },
  {
   "cell_type": "markdown",
   "metadata": {},
   "source": [
    "#### Create PDB and Force Field\n",
    "\n",
    "In the following cells, you will create the coordinates and force field needed for your simulation. The coordinates are provided in PDB format, while the force field is defined in XML format. \n",
    "\n",
    "Pay close attention to the parameters in the force field:\n",
    "- Equilibrium bond distances, angles, and dihedrals\n",
    "- Force constants for bonds, angles, and torsions\n",
    "- Atomic charges\n",
    "- Non-bonded interaction values\n",
    "\n",
    "These parameters define how the atoms in your system interact during the simulation."
   ]
  },
  {
   "cell_type": "code",
   "execution_count": null,
   "metadata": {},
   "outputs": [],
   "source": [
    "# Define the content of the ethane.pdb file\n",
    "pdb_content = \"\"\"\\\n",
    "ATOM      1  C1  ETH     1      -3.553   2.382   0.000  1.00  0.00           C  \n",
    "ATOM      2  H11 ETH     1      -3.940   1.922   0.912  1.00  0.00           H  \n",
    "ATOM      3  H12 ETH     1      -3.941   1.831  -0.859  1.00  0.00           H  \n",
    "ATOM      4  H13 ETH     1      -3.919   3.410  -0.053  1.00  0.00           H  \n",
    "ATOM      5  C2  ETH     1      -2.016   2.361   0.000  1.00  0.00           C  \n",
    "ATOM      6  H21 ETH     1      -1.649   1.333   0.053  1.00  0.00           H  \n",
    "ATOM      7  H22 ETH     1      -1.627   2.912   0.859  1.00  0.00           H  \n",
    "ATOM      8  H23 ETH     1      -1.629   2.821  -0.912  1.00  0.00           H  \n",
    "CONECT    1    2    \n",
    "CONECT    1    3  \n",
    "CONECT    1    4  \n",
    "CONECT    1    5  \n",
    "CONECT    5    6  \n",
    "CONECT    5    7\n",
    "CONECT    5    8\n",
    "\"\"\"\n",
    "\n",
    "# Create and write the content to ethane.pdb file\n",
    "with open(\"ethane.pdb\", \"w\") as f:\n",
    "    f.write(pdb_content)\n",
    "\n",
    "print(\"ethane.pdb file created successfully.\")"
   ]
  },
  {
   "cell_type": "code",
   "execution_count": null,
   "metadata": {},
   "outputs": [],
   "source": [
    "# Define the content of the ethane.gaff2.xml file\n",
    "xml_content = \"\"\"\\\n",
    "<ForceField>\n",
    "     <AtomTypes>\n",
    "      <Type name=\"0\" class=\"c3\" element=\"C\" mass=\"12.01078\"/>\n",
    "      <Type name=\"1\" class=\"hc\" element=\"H\" mass=\"1.007947\"/>\n",
    "     </AtomTypes>\n",
    "     <Residues>\n",
    "      <Residue name=\"ETH\">\n",
    "       <Atom name=\"C1\" type=\"0\"/>\n",
    "       <Atom name=\"H11\" type=\"1\"/>\n",
    "       <Atom name=\"H12\" type=\"1\"/>\n",
    "       <Atom name=\"H13\" type=\"1\"/>\n",
    "       <Atom name=\"C2\" type=\"0\"/>\n",
    "       <Atom name=\"H21\" type=\"1\"/>\n",
    "       <Atom name=\"H22\" type=\"1\"/>\n",
    "       <Atom name=\"H23\" type=\"1\"/>\n",
    "       <Bond atomName1=\"C1\" atomName2=\"H11\"/>\n",
    "       <Bond atomName1=\"C1\" atomName2=\"H12\"/>\n",
    "       <Bond atomName1=\"C1\" atomName2=\"H13\"/>\n",
    "       <Bond atomName1=\"C1\" atomName2=\"C2\"/>\n",
    "       <Bond atomName1=\"C2\" atomName2=\"H21\"/>\n",
    "       <Bond atomName1=\"C2\" atomName2=\"H22\"/>\n",
    "       <Bond atomName1=\"C2\" atomName2=\"H23\"/>\n",
    "      </Residue>\n",
    "     </Residues>\n",
    "     <HarmonicBondForce>\n",
    "      <Bond class1=\"c3\" class2=\"c3\" length=\"0.15380\" k=\"194572.74\"/>\n",
    "      <Bond class1=\"c3\" class2=\"hc\" length=\"0.10970\" k=\"314568.76\"/>\n",
    "     </HarmonicBondForce>\n",
    "     <HarmonicAngleForce>\n",
    "      <Angle class1=\"c3\" class2=\"c3\" class3=\"hc\" angle=\"1.91637152\" k=\"391.756288\"/>\n",
    "      <Angle class1=\"hc\" class2=\"c3\" class3=\"hc\" angle=\"1.87762521\" k=\"326.01728\"/>\n",
    "     </HarmonicAngleForce>\n",
    "     <PeriodicTorsionForce>\n",
    "      <Proper class1=\"hc\" class2=\"c3\" class3=\"c3\" class4=\"hc\" periodicity1=\"3\" phase1=\"0.0\" k1=\"0.50208\"/>\n",
    "     </PeriodicTorsionForce>\n",
    "     <NonbondedForce coulomb14scale=\"0.833333\" lj14scale=\"0.5\">\n",
    "      <Atom type=\"0\" charge=\"-0.094100\" sigma=\"0.3397710\" epsilon=\"0.4510352\"/>\n",
    "      <Atom type=\"1\" charge=\"0.031700\" sigma=\"0.2600177\" epsilon=\"0.0870272\"/>\n",
    "     </NonbondedForce>\n",
    "</ForceField>\n",
    "\"\"\"\n",
    "\n",
    "# Create and write the content to ethane.gaff2.xml file\n",
    "with open(\"ethane.gaff2.xml\", \"w\") as f:\n",
    "    f.write(xml_content)\n",
    "\n",
    "print(\"ethane.gaff2.xml file created successfully.\")\n"
   ]
  },
  {
   "cell_type": "markdown",
   "metadata": {},
   "source": [
    "#### Load PDB and Force Field\n",
    "\n",
    "Next, we will load the PDB file and the force field, into OpenMM. By loading both the PDB and force field, you’ll provide OpenMM with all the necessary information to compute the forces and energies during the simulation.\n"
   ]
  },
  {
   "cell_type": "code",
   "execution_count": null,
   "metadata": {},
   "outputs": [],
   "source": [
    "# read in a starting structure for ethane and the\n",
    "# corresponding force field file\n",
    "pdb = app.PDBFile('ethane.pdb')\n",
    "forcefield = app.ForceField('ethane.gaff2.xml')"
   ]
  },
  {
   "cell_type": "code",
   "execution_count": null,
   "metadata": {},
   "outputs": [],
   "source": [
    "import mdtraj as md\n",
    "import nglview as ngl\n",
    "\n",
    "eth = md.load('ethane.pdb')\n",
    "visualize = ngl.show_mdtraj(eth)\n",
    "visualize"
   ]
  },
  {
   "cell_type": "markdown",
   "metadata": {},
   "source": [
    "#### Setup simulation\n",
    "\n",
    "The following cell will setup your simulation, including adding the topology and force field files to the system, applying the proper integrator, and setting the temperature and simulation time step."
   ]
  },
  {
   "cell_type": "code",
   "execution_count": null,
   "metadata": {},
   "outputs": [],
   "source": [
    "# setup system by taking topology from pdb file;\n",
    "system = forcefield.createSystem(pdb.topology, nonbondedMethod=app.NoCutoff, \n",
    "                                 constraints=app.HBonds)\n",
    "# run gas phase simulation \n",
    "# using a Langevin thermostat (integrator)\n",
    "# at 298.15 K  \n",
    "# with coupling constant of 5.0 ps^-1\n",
    "# with 2 fs time step (using SHAKE)\n",
    "integrator = mm.LangevinIntegrator(298.15*unit.kelvin, 5.0/unit.picoseconds, \n",
    "                                   2.0*unit.femtoseconds)\n",
    "integrator.setConstraintTolerance(1e-5)\n",
    "\n",
    "platform = mm.Platform.getPlatformByName('Reference')\n",
    "\n",
    "# A simulation ties together various objects used for running a simulation\n",
    "simulation = app.Simulation(pdb.topology, system, integrator, platform)\n",
    "simulation.context.setPositions(pdb.positions)"
   ]
  },
  {
   "cell_type": "markdown",
   "metadata": {},
   "source": [
    "#### Energy Minimization\n",
    "\n",
    "This reduces the potential energy of the system before beginning dynamics. This eliminates \"bad\" (i.e., overly close) contacts and generally leads to more stable simulation behavior."
   ]
  },
  {
   "cell_type": "code",
   "execution_count": null,
   "metadata": {},
   "outputs": [],
   "source": [
    "print('Minimizing...')\n",
    "\n",
    "st = simulation.context.getState(getPositions=True,getEnergy=True)\n",
    "print(\"Potential energy before minimization is %s\" % st.getPotentialEnergy())\n",
    "\n",
    "simulation.minimizeEnergy(maxIterations=100)\n",
    "\n",
    "st = simulation.context.getState(getPositions=True,getEnergy=True)\n",
    "print(\"Potential energy after minimization is %s\" % st.getPotentialEnergy())"
   ]
  },
  {
   "cell_type": "markdown",
   "metadata": {},
   "source": [
    "#### Equilibration\n",
    "\n",
    "We will run a (very) short equilibration simulation to bring the molecule up to our desired temperature.  If this were a periodic system, we would also aim to bring the density/volume to equilibrium at the desired pressure."
   ]
  },
  {
   "cell_type": "code",
   "execution_count": null,
   "metadata": {},
   "outputs": [],
   "source": [
    "print('Equilibrating...')\n",
    "\n",
    "simulation.reporters.append(app.StateDataReporter(stdout, 100, step=True, \n",
    "    potentialEnergy=True, temperature=True, separator='\\t'))\n",
    "simulation.context.setVelocitiesToTemperature(150.0*unit.kelvin)\n",
    "simulation.step(2500)"
   ]
  },
  {
   "cell_type": "markdown",
   "metadata": {},
   "source": [
    "#### Production\n",
    "\n",
    "Now we run a long MD simulation with parameters that are identical to the equilibration phase (other than simulation length, of course!).  We will also save a trajectory file (i.e., corodinats vs. time) of this simulation that we can analyze afterward using MDTraj (or other trajectory analysis tools)."
   ]
  },
  {
   "cell_type": "code",
   "execution_count": null,
   "metadata": {},
   "outputs": [],
   "source": [
    "print('Running Production...')\n",
    "\n",
    "tinit=time.time()\n",
    "simulation.reporters.clear()\n",
    "# output basic simulation information below every 250000 steps/500 ps\n",
    "simulation.reporters.append(app.StateDataReporter(stdout, 250000, \n",
    "    step=True, time=True, potentialEnergy=True, temperature=True, \n",
    "    speed=True, separator='\\t'))\n",
    "# write out a trajectory (i.e., coordinates vs. time) to a DCD\n",
    "# file every 100 steps/0.2 ps\n",
    "simulation.reporters.append(app.DCDReporter('ethane_sim.dcd', 100))\n",
    "\n",
    "# run the simulation for 1.0x10^7 steps/20 ns\n",
    "simulation.step(10000000)\n",
    "tfinal=time.time()\n",
    "print('Done!')\n",
    "print('Time required for simulation:', tfinal-tinit, 'seconds')"
   ]
  },
  {
   "cell_type": "markdown",
   "metadata": {},
   "source": [
    "#### Trajectory Analysis\n",
    "\n",
    "Now that you have simulated your system, you can begin to anaylze the trajectory and visualize the simulation. To begin, you should load the necessary libraries. "
   ]
  },
  {
   "cell_type": "code",
   "execution_count": null,
   "metadata": {},
   "outputs": [],
   "source": [
    "import numpy as np\n",
    "import matplotlib.pyplot as plt\n",
    "import mdtraj as md\n",
    "\n",
    "\n",
    "%matplotlib inline"
   ]
  },
  {
   "cell_type": "markdown",
   "metadata": {},
   "source": [
    "#### Load Trajectory and Characterize Bonds\n",
    "\n",
    "Next, you should load the trajectory that you specified earlier. Remember it ends with `.dcd`.  You will use the `load` command from `mdtraj` library. You'll also need to specify the topology from the original PDB file (`.pdb`) that contains our solvated molecule.\n",
    "\n",
    "If you convert the trajectory file to a dataframe it will be easier to view the atoms (and bonds). Afterward you can show the first 20 lines of the atoms dataframe by the following command `atoms.head(20)`.\n",
    "\n",
    "The structure of a Topology object is similar to that of a PDB file. It consists of a set of 'Chains'. Each 'Chain' contains a set of 'Residues', and each 'Residue' contains a set of 'Atoms'. In addition, the Topology stores a list of which atom pairs are bonded to each other.\n",
    "\n",
    "**Useful links**: \n",
    "1. https://mdtraj.org/1.9.4/api/generated/mdtraj.Topology.html\n",
    "2. https://pandas.pydata.org/docs/reference/api/pandas.DataFrame.html\n"
   ]
  },
  {
   "cell_type": "code",
   "execution_count": null,
   "metadata": {},
   "outputs": [],
   "source": [
    "traj = md.load('ethane_sim.dcd', top='ethane.pdb')\n",
    "atoms, bonds = traj.topology.to_dataframe()\n",
    "atoms.head(20)"
   ]
  },
  {
   "cell_type": "code",
   "execution_count": null,
   "metadata": {},
   "outputs": [],
   "source": [
    "visualize = ngl.show_mdtraj(traj)\n",
    "visualize"
   ]
  },
  {
   "cell_type": "code",
   "execution_count": null,
   "metadata": {},
   "outputs": [],
   "source": [
    "bonds"
   ]
  },
  {
   "cell_type": "markdown",
   "metadata": {},
   "source": [
    "#### Compute carbon-carbon bond distance\n",
    "You can now compute the central carbon-carbon bond distance by specifying which atoms in the above 'Atoms' dataframe correspond to the correct atoms. Add these two values to the `bond_indices` array.\n",
    "\n",
    "You can then compute the values\n",
    "\n",
    "The `plt.hist` function will make a histogram plot with a certain number of bin given a list of bond distances. Make sure to title and correctly label the axes. "
   ]
  },
  {
   "cell_type": "code",
   "execution_count": null,
   "metadata": {},
   "outputs": [],
   "source": [
    "bond_indices = [0, 4]\n",
    "bonds = md.compute_distances(traj, [bond_indices])\n",
    "\n",
    "bondcounts, binedges, otherstuff = plt.hist(bonds, bins=200) # create a histogram with 200 bins\n",
    "plt.title(___________) # Fill in: Plot title\n",
    "plt.xlabel(___________) # Fill in: x label. note the units.\n",
    "plt.ylabel(___________) # Fill in: y label\n",
    "plt.show()"
   ]
  },
  {
   "cell_type": "markdown",
   "metadata": {},
   "source": [
    "#### Generate potential mean force for C-C bond"
   ]
  },
  {
   "cell_type": "markdown",
   "metadata": {},
   "source": [
    "You can recast the histogram counts above into a potential of mean force (pmf). Effectively, this converts the count probabilities into relative free energies. The relevant equation from statistical thermodynamics is the following:\n",
    "\n",
    "$$ { W(x) = -k_{\\rm B}T \\ln p(x) } $$\n"
   ]
  },
  {
   "cell_type": "code",
   "execution_count": null,
   "metadata": {},
   "outputs": [],
   "source": [
    "kB = 8.31446/1000 # Boltzmann constant in kJ/mol\n",
    "Temp = 298.15 # simulation temperature\n",
    "bondcounts[bondcounts==0] = 0.1 # get rid of any bins with 0 counts/infinite energy\n",
    "pmf = -kB*Temp*np.log(bondcounts) # W(x) = -kT*ln[p(x)] = -kT*ln[n(x)] + C\n",
    "pmf = pmf - np.min(pmf) # subtract off minimum value so that energies start from 0\n",
    "\n",
    "bincenters = (binedges[1:] + binedges[:-1])/2 # compute centers of histogram bins\n",
    "\n",
    "plt.plot(bincenters, pmf)\n",
    "plt.title(___________) # Fill in: Plot title\n",
    "plt.xlabel(___________) # Fill in: x label. note the units.\n",
    "plt.ylabel(___________) # Fill in: y label\n",
    "plt.show()"
   ]
  },
  {
   "cell_type": "markdown",
   "metadata": {},
   "source": [
    "#### Compute H-C-C-H torsion angle \n",
    "\n",
    "For the H-C-C-H dihedral angle, it is important to correctly define the atoms associated with the torsion. In the case of ethane, you can use the list of atoms above to specify the correct atom index and place it in the `phi_indices` array. These indices are H(1)-C(0)-C(4)-C(5). Remember that the numbering starts with 0 for python."
   ]
  },
  {
   "cell_type": "code",
   "execution_count": null,
   "metadata": {},
   "outputs": [],
   "source": [
    "phi_indices = [1, 0, 4, 5] # atoms to define the torsion angle\n",
    "phi = md.compute_dihedrals(traj, [phi_indices])"
   ]
  },
  {
   "cell_type": "code",
   "execution_count": null,
   "metadata": {},
   "outputs": [],
   "source": [
    "phicounts, binedges, otherstuff = plt.hist(phi, bins=120) # create a histogram with 120 bins\n",
    "plt.title(___________) # Fill in: Plot title\n",
    "plt.xlabel(___________) # Fill in: x label. note the units.\n",
    "plt.ylabel(___________) # Fill in: y label\n",
    "plt.show()"
   ]
  },
  {
   "cell_type": "markdown",
   "metadata": {},
   "source": [
    "#### Generate potential mean force for H-C-C-H torsion angle"
   ]
  },
  {
   "cell_type": "code",
   "execution_count": null,
   "metadata": {},
   "outputs": [],
   "source": [
    "kB = 8.31446/1000 # Boltzmann constant in kcal/mol\n",
    "Temp = 298.15 # simulation temperature\n",
    "phicounts[phicounts==0] = 0.1 # get rid of any bins with 0 counts/infinite energy\n",
    "pmf = -kB*Temp*np.log(phicounts) # W(x) = -kT*ln[p(x)] = -kT*ln[n(x)] + C\n",
    "pmf = pmf - np.min(pmf) # subtract off minimum value so that energies start from 0\n",
    "\n",
    "bincenters = (binedges[1:] + binedges[:-1])/2 # compute centers of histogram bins\n",
    "\n",
    "plt.plot(bincenters, pmf)\n",
    "plt.title(___________) # Fill in: Plot title\n",
    "plt.xlabel(___________) # Fill in: x label. note the units.\n",
    "plt.ylabel(___________) # Fill in: y label\n",
    "plt.show()"
   ]
  },
  {
   "cell_type": "markdown",
   "metadata": {},
   "source": [
    "**Question 1:**\n",
    "**<span style=\"color:red\">How does the simulated torsional angle compare to the potential energy surface scan we did for HW 1? Describe any discrepancies you see and try to explain them.</span>**\n",
    "\n",
    "**Answer:**\n"
   ]
  },
  {
   "cell_type": "code",
   "execution_count": null,
   "metadata": {},
   "outputs": [],
   "source": []
  },
  {
   "cell_type": "markdown",
   "metadata": {},
   "source": [
    "**Question 2:**\n",
    "**<span style=\"color:red\">In the force field you loaded, what are the equilibrium bond distances for the C-H and C-C bonds? How do these values compare with typical experimental bond lengths?</span>**\n",
    "\n",
    "**Answer:**\n"
   ]
  },
  {
   "cell_type": "code",
   "execution_count": null,
   "metadata": {},
   "outputs": [],
   "source": []
  },
  {
   "cell_type": "markdown",
   "metadata": {},
   "source": [
    "## 2. Gas phase Halogen Butane\n",
    "\n",
    "In this section, we will simulate the gas-phase behavior of a halogenated butane molecule using molecular dynamics. We will begin by loading the structure of halogenated butane, setting up the necessary force field parameters, and running a simulation to observe its behavior in the gas phase. By analyzing the simulation, we will investigate how the presence of the halogen atom affects the geometry, energy, and overall dynamics of the butane molecule compared to the ethane molecule.\n"
   ]
  },
  {
   "cell_type": "markdown",
   "metadata": {},
   "source": [
    "#### Load PDB and force field"
   ]
  },
  {
   "cell_type": "code",
   "execution_count": null,
   "metadata": {},
   "outputs": [],
   "source": [
    "# Define the content of the bromobutane.pdb file\n",
    "bromobutane_pdb_content = \"\"\"\\\n",
    "ATOM      1 C1   UNK     1       3.903   0.469   0.000                       C 0\n",
    "ATOM      2 C2   UNK     1       2.531   1.139   0.000                       C 0\n",
    "ATOM      3 C3   UNK     1       1.381   0.128   0.000                       C 0\n",
    "ATOM      4 C4   UNK     1       0.029   0.820   0.000                       C 0\n",
    "ATOM      5 H41  UNK     1      -0.123   1.430   0.886                       H 0\n",
    "ATOM      6 H42  UNK     1      -0.123   1.430  -0.886                       H 0\n",
    "ATOM      7 Br   UNK     1      -1.452  -0.469   0.000                      Br 0\n",
    "ATOM      8 H31  UNK     1       1.454  -0.519  -0.877                       H 0\n",
    "ATOM      9 H32  UNK     1       1.454  -0.519   0.877                       H 0\n",
    "ATOM     10 H21  UNK     1       2.444   1.790   0.876                       H 0\n",
    "ATOM     11 H22  UNK     1       2.444   1.790  -0.876                       H 0\n",
    "ATOM     12 H11  UNK     1       4.034  -0.162   0.883                       H 0\n",
    "ATOM     13 H12  UNK     1       4.034  -0.162  -0.883                       H 0\n",
    "ATOM     14 H13  UNK     1       4.702   1.214   0.000                       H 0\n",
    "CONECT    1    2\n",
    "CONECT    2    3\n",
    "CONECT    3    4\n",
    "CONECT    4    5\n",
    "CONECT    4    6\n",
    "CONECT    4    7\n",
    "CONECT    3    8\n",
    "CONECT    3    9\n",
    "CONECT    2   10\n",
    "CONECT    2   11\n",
    "CONECT    1   12\n",
    "CONECT    1   13\n",
    "CONECT    1   14\n",
    "\"\"\"\n",
    "\n",
    "# Create and write the content to bromobutane.pdb file\n",
    "with open(\"bromobutane.pdb\", \"w\") as f:\n",
    "    f.write(bromobutane_pdb_content)\n",
    "\n",
    "print(\"bromobutane.pdb file created successfully.\")\n"
   ]
  },
  {
   "cell_type": "code",
   "execution_count": null,
   "metadata": {},
   "outputs": [],
   "source": [
    "# Define the content of the bromobutane.gaff2.xml file\n",
    "bromobutane_xml_content = \"\"\"\\\n",
    "<ForceField>\n",
    "     <AtomTypes>\n",
    "      <Type name=\"0\" class=\"c3\" element=\"C\" mass=\"12.01078\"/>\n",
    "      <Type name=\"1\" class=\"c3\" element=\"C\" mass=\"12.01078\"/>\n",
    "      <Type name=\"2\" class=\"hc\" element=\"H\" mass=\"1.007947\"/>\n",
    "      <Type name=\"3\" class=\"hc\" element=\"H\" mass=\"1.007947\"/>\n",
    "      <Type name=\"4\" class=\"br\"  element=\"Br\" mass=\"79.904\"/>\n",
    "     </AtomTypes>\n",
    "     <Residues>\n",
    "      <Residue name=\"UNK\">\n",
    "       <Atom name=\"C1\" type=\"0\"/>\n",
    "       <Atom name=\"C2\" type=\"1\"/>\n",
    "       <Atom name=\"C3\" type=\"1\"/>\n",
    "       <Atom name=\"C4\" type=\"0\"/>\n",
    "       <Atom name=\"H41\" type=\"2\"/>\n",
    "       <Atom name=\"H42\" type=\"2\"/>\n",
    "       <Atom name=\"Br\" type=\"4\"/>\n",
    "       <Atom name=\"H31\" type=\"2\"/>\n",
    "       <Atom name=\"H32\" type=\"3\"/>\n",
    "       <Atom name=\"H21\" type=\"3\"/>\n",
    "       <Atom name=\"H22\" type=\"3\"/>\n",
    "       <Atom name=\"H11\" type=\"3\"/>\n",
    "       <Atom name=\"H12\" type=\"2\"/>\n",
    "       <Atom name=\"H13\" type=\"2\"/>\n",
    "       <Bond atomName1=\"C1\" atomName2=\"C2\"/>\n",
    "       <Bond atomName1=\"C2\" atomName2=\"C3\"/>\n",
    "       <Bond atomName1=\"C3\" atomName2=\"C4\"/>\n",
    "       <Bond atomName1=\"C4\" atomName2=\"H41\"/>\n",
    "       <Bond atomName1=\"C4\" atomName2=\"H42\"/>\n",
    "       <Bond atomName1=\"C4\" atomName2=\"Br\"/>\n",
    "       <Bond atomName1=\"C3\" atomName2=\"H31\"/>\n",
    "       <Bond atomName1=\"C3\" atomName2=\"H32\"/>\n",
    "       <Bond atomName1=\"C2\" atomName2=\"H21\"/>\n",
    "       <Bond atomName1=\"C2\" atomName2=\"H22\"/>\n",
    "       <Bond atomName1=\"C1\" atomName2=\"H11\"/>\n",
    "       <Bond atomName1=\"C1\" atomName2=\"H12\"/>\n",
    "       <Bond atomName1=\"C1\" atomName2=\"H13\"/>\n",
    "      </Residue>\n",
    "     </Residues>\n",
    "     <HarmonicBondForce>\n",
    "      <Bond class1=\"c3\" class2=\"c3\" length=\"0.15380\" k=\"194572.736\"/>\n",
    "      <Bond class1=\"c3\" class2=\"hc\" length=\"0.10970\" k=\"314568.56\"/>\n",
    "      <Bond class1=\"c3\" class2=\"br\"  length=\"0.1787\" k=\"189953.60\"/>\n",
    "     </HarmonicBondForce>\n",
    "     <HarmonicAngleForce>\n",
    "      <Angle class1=\"c3\" class2=\"c3\" class3=\"c3\" angle=\"1.94621665\" k=\"542.982784\"/>\n",
    "      <Angle class1=\"c3\" class2=\"c3\" class3=\"hc\" angle=\"1.91637152\" k=\"391.756288\"/>\n",
    "      <Angle class1=\"hc\" class2=\"c3\" class3=\"hc\" angle=\"1.87762521\" k=\"326.01728\"/>\n",
    "      <Angle class1=\"c3\" class2=\"c3\" class3=\"br\" angle=\"1.92003671\" k=\"534.71520\"/>\n",
    "      <Angle class1=\"br\" class2=\"c3\" class3=\"hc\" angle=\"1.85877565\" k=\"352.2928\"/>\n",
    "     </HarmonicAngleForce>\n",
    "     <PeriodicTorsionForce>\n",
    "      <Proper class1=\"hc\" class2=\"c3\" class3=\"c3\" class4=\"hc\" periodicity1=\"3\" phase1=\"0.0\" k1=\"0.50208\"/>\n",
    "      <Proper class1=\"c3\" class2=\"c3\" class3=\"c3\" class4=\"hc\" periodicity1=\"3\" phase1=\"0.0\" k1=\"0.33472\"/>\n",
    "      <Proper class1=\"c3\" class2=\"c3\" class3=\"c3\" class4=\"c3\" \n",
    "       periodicity1=\"1\" phase1=\"0.0\" k1=\"0.4602\"\n",
    "       periodicity2=\"2\" phase2=\"3.141593\" k2=\"1.2134\" \n",
    "       periodicity3=\"3\" phase3=\"0.0\" k3=\"0.5439\"/>\n",
    "     <Proper class1=\"hc\" class2=\"c3\" class3=\"c3\" class4=\"br\" \n",
    "       periodicity1=\"3\" phase1=\"0.0\" k1=\"0.87864\" \n",
    "       periodicity2=\"1\" phase2=\"0.0\" k2=\"0.33472\"/>\n",
    "     </PeriodicTorsionForce>\n",
    "     <NonbondedForce coulomb14scale=\"0.833333\" lj14scale=\"0.5\">\n",
    "      <Atom type=\"0\" charge=\"-0.05652\" sigma=\"0.3397710\" epsilon=\"0.4510352\"/>\n",
    "      <Atom type=\"1\" charge=\"-0.05652\" sigma=\"0.3397710\" epsilon=\"0.4510352\"/>\n",
    "      <Atom type=\"2\" charge=\"0.045631\" sigma=\"0.2600177\" epsilon=\"0.0870272\"/>\n",
    "      <Atom type=\"3\" charge=\"0.045631\" sigma=\"0.2600177\" epsilon=\"0.0870272\"/>\n",
    "      <Atom type=\"4\" charge=\"-0.15699\" sigma=\"0.36125943\" epsilon=\"1.6451488\"/>\n",
    "     </NonbondedForce>\n",
    "</ForceField>\n",
    "\"\"\"\n",
    "\n",
    "# Create and write the content to bromobutane.gaff2.xml file\n",
    "with open(\"bromobutane.gaff2.xml\", \"w\") as f:\n",
    "    f.write(bromobutane_xml_content)\n",
    "\n",
    "print(\"bromobutane.gaff2.xml file created successfully.\")\n"
   ]
  },
  {
   "cell_type": "code",
   "execution_count": null,
   "metadata": {},
   "outputs": [],
   "source": [
    "# read in a starting structure for ethane and the\n",
    "# corresponding force field file\n",
    "pdb = app.PDBFile('bromobutane.pdb')\n",
    "forcefield = app.ForceField('bromobutane.gaff2.xml')"
   ]
  },
  {
   "cell_type": "code",
   "execution_count": null,
   "metadata": {},
   "outputs": [],
   "source": [
    "import mdtraj as md\n",
    "import nglview as ngl\n",
    "\n",
    "but = md.load('bromobutane.pdb')\n",
    "visualize = ngl.show_mdtraj(but)\n",
    "visualize"
   ]
  },
  {
   "cell_type": "markdown",
   "metadata": {},
   "source": [
    "#### Setup simulation"
   ]
  },
  {
   "cell_type": "code",
   "execution_count": null,
   "metadata": {},
   "outputs": [],
   "source": [
    "# setup system by taking topology from pdb file;\n",
    "system = forcefield.createSystem(pdb.topology, nonbondedMethod=app.NoCutoff, \n",
    "                                 constraints=app.HBonds)\n",
    "# run gas phase simulation \n",
    "# using a Langevin thermostat (integrator)\n",
    "# at 298.15 K  \n",
    "# with coupling constant of 5.0 ps^-1\n",
    "# with 2 fs time step (using SHAKE)\n",
    "integrator = mm.LangevinIntegrator(298.15*unit.kelvin, 5.0/unit.picoseconds, \n",
    "                                   2.0*unit.femtoseconds)\n",
    "integrator.setConstraintTolerance(1e-5)\n",
    "\n",
    "platform = mm.Platform.getPlatformByName('Reference')\n",
    "\n",
    "# A simulation ties together various objects used for running a simulation\n",
    "simulation = app.Simulation(pdb.topology, system, integrator, platform)\n",
    "simulation.context.setPositions(pdb.positions)"
   ]
  },
  {
   "cell_type": "markdown",
   "metadata": {},
   "source": [
    "#### Energy Minimization"
   ]
  },
  {
   "cell_type": "code",
   "execution_count": null,
   "metadata": {},
   "outputs": [],
   "source": [
    "print('Minimizing...')\n",
    "\n",
    "st = simulation.context.getState(getPositions=True,getEnergy=True)\n",
    "print(\"Potential energy before minimization is %s\" % st.getPotentialEnergy())\n",
    "\n",
    "simulation.minimizeEnergy(maxIterations=100)\n",
    "\n",
    "st = simulation.context.getState(getPositions=True,getEnergy=True)\n",
    "print(\"Potential energy after minimization is %s\" % st.getPotentialEnergy())"
   ]
  },
  {
   "cell_type": "markdown",
   "metadata": {},
   "source": [
    "#### Equilibration"
   ]
  },
  {
   "cell_type": "code",
   "execution_count": null,
   "metadata": {},
   "outputs": [],
   "source": [
    "print('Equilibrating...')\n",
    "\n",
    "simulation.reporters.append(app.StateDataReporter(stdout, 100, step=True, \n",
    "    potentialEnergy=True, temperature=True, separator='\\t'))\n",
    "simulation.context.setVelocitiesToTemperature(150.0*unit.kelvin)\n",
    "simulation.step(10000)"
   ]
  },
  {
   "cell_type": "markdown",
   "metadata": {},
   "source": [
    "#### Production"
   ]
  },
  {
   "cell_type": "code",
   "execution_count": null,
   "metadata": {},
   "outputs": [],
   "source": [
    "print('Running Production...')\n",
    "\n",
    "tinit=time.time()\n",
    "simulation.reporters.clear()\n",
    "# output basic simulation information below every 250000 steps/500 ps\n",
    "simulation.reporters.append(app.StateDataReporter(stdout, 250000, \n",
    "    step=True, time=True, potentialEnergy=True, temperature=True, \n",
    "    speed=True, separator='\\t'))\n",
    "# write out a trajectory (i.e., coordinates vs. time) to a DCD\n",
    "# file every 100 steps/0.2 ps\n",
    "simulation.reporters.append(app.DCDReporter('bromobutane.dcd', 100))\n",
    "\n",
    "# run the simulation for 1.0x10^7 steps/20 ns\n",
    "simulation.step(5000000)\n",
    "tfinal=time.time()\n",
    "print('Done!')\n",
    "print('Time required for simulation:', tfinal-tinit, 'seconds')"
   ]
  },
  {
   "cell_type": "markdown",
   "metadata": {},
   "source": [
    "#### Trajectory Analysis"
   ]
  },
  {
   "cell_type": "markdown",
   "metadata": {},
   "source": [
    "#### Load Trajectory and Characterize Bonds"
   ]
  },
  {
   "cell_type": "code",
   "execution_count": null,
   "metadata": {},
   "outputs": [],
   "source": [
    "traj2 = md.load('bromobutane.dcd', top='bromobutane.pdb')\n",
    "atoms, bonds = traj2.topology.to_dataframe()\n",
    "atoms"
   ]
  },
  {
   "cell_type": "code",
   "execution_count": null,
   "metadata": {},
   "outputs": [],
   "source": [
    "visualize = ngl.show_mdtraj(traj2)\n",
    "visualize"
   ]
  },
  {
   "cell_type": "code",
   "execution_count": null,
   "metadata": {},
   "outputs": [],
   "source": [
    "bonds"
   ]
  },
  {
   "cell_type": "markdown",
   "metadata": {},
   "source": [
    "#### Compute carbon-halogen bond distance"
   ]
  },
  {
   "cell_type": "code",
   "execution_count": null,
   "metadata": {},
   "outputs": [],
   "source": [
    "bond_indices = [3,6]\n",
    "bonds = md.compute_distances(traj2, [bond_indices])\n",
    "\n",
    "bondcounts, binedges, otherstuff = plt.hist(bonds, bins=200) # create a histogram with 200 bins\n",
    "plt.title(___________) # Fill in: Plot title\n",
    "plt.xlabel(___________) # Fill in: x label. note the units.\n",
    "plt.ylabel(___________) # Fill in: y label\n",
    "plt.show()"
   ]
  },
  {
   "cell_type": "markdown",
   "metadata": {},
   "source": [
    "#### Generate potential mean force for carbon-halogen bond"
   ]
  },
  {
   "cell_type": "code",
   "execution_count": null,
   "metadata": {},
   "outputs": [],
   "source": [
    "kB = 8.31446/1000 # Boltzmann constant in kcal/mol\n",
    "Temp = 298.15 # simulation temperature\n",
    "bondcounts[bondcounts==0] = 0.1 # get rid of any bins with 0 counts/infinite energy\n",
    "pmf = -kB*Temp*np.log(bondcounts) # W(x) = -kT*ln[p(x)] = -kT*ln[n(x)] + C\n",
    "pmf = pmf - np.min(pmf) # subtract off minimum value so that energies start from 0\n",
    "\n",
    "bincenters = (binedges[1:] + binedges[:-1])/2 # compute centers of histogram bins\n",
    "\n",
    "plt.plot(bincenters, pmf)\n",
    "plt.title(___________) # Fill in: Plot title\n",
    "plt.xlabel(___________) # Fill in: x label. note the units.\n",
    "plt.ylabel(___________) # Fill in: y label\n",
    "plt.show()"
   ]
  },
  {
   "cell_type": "markdown",
   "metadata": {},
   "source": [
    "#### Compute C-C-C-C torsion angle"
   ]
  },
  {
   "cell_type": "code",
   "execution_count": null,
   "metadata": {},
   "outputs": [],
   "source": [
    "phi_indices = [0,1,2,3]\n",
    "phi = md.compute_dihedrals(traj2, [phi_indices])"
   ]
  },
  {
   "cell_type": "code",
   "execution_count": null,
   "metadata": {},
   "outputs": [],
   "source": [
    "phicounts, binedges, otherstuff = plt.hist(phi, bins=120) # create a histogram with 120 bins\n",
    "plt.title(___________) # Fill in: Plot title\n",
    "plt.xlabel(___________) # Fill in: x label. note the units.\n",
    "plt.ylabel(___________) # Fill in: y label\n",
    "plt.show()"
   ]
  },
  {
   "cell_type": "markdown",
   "metadata": {},
   "source": [
    "#### Generate potential mean force for C-C-C-C torsion angle"
   ]
  },
  {
   "cell_type": "code",
   "execution_count": null,
   "metadata": {},
   "outputs": [],
   "source": [
    "kB = 8.31446/1000 # Boltzmann constant in kcal/mol\n",
    "Temp = 298.15 # simulation temperature\n",
    "phicounts[phicounts==0] = 0.1 # get rid of any bins with 0 counts/infinite energy\n",
    "pmf = -kB*Temp*np.log(phicounts) # W(x) = -kT*ln[p(x)] = -kT*ln[n(x)] + C\n",
    "pmf = pmf - np.min(pmf) # subtract off minimum value so that energies start from 0\n",
    "\n",
    "bincenters = (binedges[1:] + binedges[:-1])/2 # compute centers of histogram bins\n",
    "\n",
    "plt.plot(bincenters, pmf)\n",
    "plt.title(___________) # Fill in: Plot title\n",
    "plt.xlabel(___________) # Fill in: x label. note the units.\n",
    "plt.ylabel(___________) # Fill in: y label\n",
    "plt.show()"
   ]
  },
  {
   "cell_type": "code",
   "execution_count": null,
   "metadata": {},
   "outputs": [],
   "source": []
  },
  {
   "cell_type": "markdown",
   "metadata": {},
   "source": [
    "**Question 3:**\n",
    "**<span style=\"color:red\">In all of the PMF plots the tops of the graphs are typically very jagged. Why do you think this is the case?</span>**\n",
    "\n",
    "**Answer:**\n",
    "\n"
   ]
  },
  {
   "cell_type": "code",
   "execution_count": null,
   "metadata": {},
   "outputs": [],
   "source": []
  },
  {
   "cell_type": "code",
   "execution_count": null,
   "metadata": {},
   "outputs": [],
   "source": []
  },
  {
   "cell_type": "code",
   "execution_count": null,
   "metadata": {},
   "outputs": [],
   "source": []
  },
  {
   "cell_type": "markdown",
   "metadata": {},
   "source": [
    "## 3. Condensed Phase Simulation of Halogen Butane\n",
    "\n",
    "In this section, we will simulate the behavior of halogenated butane in the condensed phase using molecular dynamics. We will begin by loading the structure of halogenated butane, setting up the force field parameters, and running a simulation to observe its behavior in a solvent environment. The goal is to analyze how the presence of solvent affects the geometry and overall dynamics of the bromobutane molecule. \n"
   ]
  },
  {
   "cell_type": "code",
   "execution_count": null,
   "metadata": {},
   "outputs": [],
   "source": [
    "# read in a starting structure and the\n",
    "# corresponding force field file\n",
    "pdb = app.PDBFile('bromobutane.pdb')\n",
    "modeller = Modeller(pdb.topology, pdb.positions)\n",
    "\n",
    "forcefield = app.ForceField('bromobutane.gaff2.xml', 'amber14/tip3pfb.xml')\n",
    "modeller.addSolvent(forcefield, model='tip3p', padding=750*unit.picometer)\n",
    "\n",
    "with open('water-box.pdb', 'w') as outfile:\n",
    "    PDBFile.writeFile(modeller.topology, modeller.positions, outfile)"
   ]
  },
  {
   "cell_type": "code",
   "execution_count": null,
   "metadata": {},
   "outputs": [],
   "source": [
    "# setup system by taking topology from pdb file;\n",
    "#system = forcefield.createSystem(modeller.topology, nonbondedMethod=app.PME, \n",
    "system = forcefield.createSystem(modeller.topology, nonbondedMethod=app.PME, \n",
    "                                 nonbondedCutoff=500*unit.picometer,\n",
    "                                 constraints=app.HBonds)\n",
    "#forcefield.createSystem()\n",
    "# run gas phase simulation \n",
    "# using a Langevin thermostat (integrator)\n",
    "# at 298.15 K  \n",
    "temperature = 298.15*unit.kelvin\n",
    "pressure = 1*unit.bar\n",
    "\n",
    "# with coupling constant of 5.0 ps^-1\n",
    "# with 2 fs time step (using SHAKE)\n",
    "integrator = mm.LangevinIntegrator(temperature, \n",
    "                                   5.0/unit.picoseconds, \n",
    "                                   2.0*unit.femtoseconds)\n",
    "\n",
    "integrator.setConstraintTolerance(1e-5)\n",
    "platform = mm.Platform.getPlatformByName('Reference')\n",
    "system.addForce(mm.MonteCarloBarostat(pressure, temperature))\n",
    "\n",
    "# A simulation ties together various objects used for running a simulation\n",
    "simulation = app.Simulation(modeller.topology, system, integrator, platform)\n",
    "simulation.context.setPositions(modeller.positions)"
   ]
  },
  {
   "cell_type": "markdown",
   "metadata": {},
   "source": [
    "#### Energy minimization"
   ]
  },
  {
   "cell_type": "code",
   "execution_count": null,
   "metadata": {},
   "outputs": [],
   "source": [
    "print('Minimizing...')\n",
    "\n",
    "st = simulation.context.getState(getPositions=True,getEnergy=True)\n",
    "print(\"Potential energy before minimization is %s\" % st.getPotentialEnergy())\n",
    "\n",
    "simulation.minimizeEnergy(maxIterations=100)\n",
    "\n",
    "st = simulation.context.getState(getPositions=True,getEnergy=True)\n",
    "print(\"Potential energy after minimization is %s\" % st.getPotentialEnergy())"
   ]
  },
  {
   "cell_type": "code",
   "execution_count": null,
   "metadata": {},
   "outputs": [],
   "source": [
    "import mdtraj as md\n",
    "import nglview as ngl\n",
    "\n",
    "trajj = md.load('water-box.pdb')\n",
    "visualize = ngl.show_mdtraj(trajj)\n",
    "visualize.add_licorice('HOH', linewidth=1.)\n",
    "visualize"
   ]
  },
  {
   "cell_type": "markdown",
   "metadata": {},
   "source": [
    "#### Equilibration"
   ]
  },
  {
   "cell_type": "code",
   "execution_count": null,
   "metadata": {},
   "outputs": [],
   "source": [
    "print('Equilibrating...')\n",
    "\n",
    "simulation.reporters.append(app.StateDataReporter(stdout, 100, step=True, \n",
    "    potentialEnergy=True, temperature=True, volume=True, separator='\\t'))\n",
    "simulation.context.setVelocitiesToTemperature(50.0*unit.kelvin)\n",
    "simulation.step(2500)"
   ]
  },
  {
   "cell_type": "markdown",
   "metadata": {},
   "source": [
    "#### Production\n",
    "Now setup a production run for 400 picosends, by changing the number of steps for the simulation. Note that the time step is 2 femtoseconds."
   ]
  },
  {
   "cell_type": "code",
   "execution_count": null,
   "metadata": {},
   "outputs": [],
   "source": [
    "print('Running Production...')\n",
    "\n",
    "tinit=time.time()\n",
    "simulation.reporters.clear()\n",
    "\n",
    "# output basic simulation information below every 2500 steps / 5 ps\n",
    "simulation.reporters.append(app.StateDataReporter(stdout, 2500, \n",
    "    step=True, time=True, potentialEnergy=True, temperature=True, \n",
    "    volume=True, speed=True, separator='\\t'))\n",
    "\n",
    "# write out a trajectory (i.e., coordinates vs. time) to a DCD\n",
    "# file every 100 steps/0.2 ps\n",
    "simulation.reporters.append(app.DCDReporter('box.dcd', 10))\n",
    "\n",
    "# run the simulation for 400 ps\n",
    "simulation.step(___________) # Fill in: number of simulation steps for 400 ps\n",
    "\n",
    "tfinal=time.time()\n",
    "print('Done!')\n",
    "print('Time required for simulation:', tfinal-tinit, 'seconds')"
   ]
  },
  {
   "cell_type": "markdown",
   "metadata": {},
   "source": [
    "#### Trajectory Analysis"
   ]
  },
  {
   "cell_type": "code",
   "execution_count": null,
   "metadata": {},
   "outputs": [],
   "source": [
    "import numpy as np\n",
    "import matplotlib.pyplot as plt\n",
    "\n",
    "%matplotlib inline"
   ]
  },
  {
   "cell_type": "markdown",
   "metadata": {},
   "source": [
    "#### Load Trajectory and Characterize Bonds\n",
    "\n",
    "If you convert the trajectory file to a dataframe it will be easier to view the atoms (and bonds). However, since your molecule is now solvated, there will be a large number of atoms present if you simply type `atoms`. Instead, request the first 20 lines of the atoms dataframe with the following command, `atoms.head(20)`."
   ]
  },
  {
   "cell_type": "code",
   "execution_count": null,
   "metadata": {},
   "outputs": [],
   "source": [
    "traj3 = md.load('box.dcd', top='water-box.pdb')\n",
    "atoms, bonds = traj3.topology.to_dataframe()\n",
    "atoms.head(20)\n"
   ]
  },
  {
   "cell_type": "code",
   "execution_count": null,
   "metadata": {},
   "outputs": [],
   "source": [
    "traj3.center_coordinates()\n",
    "traj3.image_molecules()\n",
    "visualize = ngl.show_mdtraj(traj3)\n",
    "visualize.add_licorice('HOH', linewidth=1.)\n",
    "visualize"
   ]
  },
  {
   "cell_type": "code",
   "execution_count": null,
   "metadata": {},
   "outputs": [],
   "source": []
  },
  {
   "cell_type": "markdown",
   "metadata": {},
   "source": [
    "#### Compute C-C-C-C torsion angle\n"
   ]
  },
  {
   "cell_type": "code",
   "execution_count": null,
   "metadata": {},
   "outputs": [],
   "source": []
  },
  {
   "cell_type": "markdown",
   "metadata": {},
   "source": [
    "#### Generate potential mean force for C-C-C-C torsion angle"
   ]
  },
  {
   "cell_type": "code",
   "execution_count": null,
   "metadata": {},
   "outputs": [],
   "source": []
  },
  {
   "cell_type": "code",
   "execution_count": null,
   "metadata": {},
   "outputs": [],
   "source": []
  },
  {
   "cell_type": "markdown",
   "metadata": {},
   "source": [
    "\n",
    "**Question 4:**\n",
    "**<span style=\"color:red\">After performing a geometry optimization in the condensed phase, compare the final potential energy to that obtained in the gas-phase simulation. What factors contribute to the energy differences?</span>**\n",
    "\n",
    "**Answer:**"
   ]
  },
  {
   "cell_type": "code",
   "execution_count": null,
   "metadata": {},
   "outputs": [],
   "source": []
  },
  {
   "cell_type": "markdown",
   "metadata": {},
   "source": [
    "**Question 5:**\n",
    "**<span style=\"color:red\">Observe the molecular dynamics over time. How does the presence of a solvent influence the motion of the halogenated butane molecule compared to the gas phase? Consider both rotational and vibrational motion.</span>**\n",
    "\n",
    "**Answer:**"
   ]
  },
  {
   "cell_type": "code",
   "execution_count": null,
   "metadata": {},
   "outputs": [],
   "source": []
  },
  {
   "cell_type": "markdown",
   "metadata": {},
   "source": [
    "\n",
    "**Question 6:**\n",
    "**<span style=\"color:red\">If you were to replace the halogen atom with a heavier or lighter halogen (e.g., replacing bromine with fluorine), how would you expect the dynamics of the molecule to change? What impact would this have on the bond lengths, angles, and overall stability of the molecule?</span>**\n",
    "\n",
    "**Answer:**"
   ]
  },
  {
   "cell_type": "code",
   "execution_count": null,
   "metadata": {},
   "outputs": [],
   "source": []
  },
  {
   "cell_type": "code",
   "execution_count": null,
   "metadata": {},
   "outputs": [],
   "source": []
  },
  {
   "cell_type": "code",
   "execution_count": null,
   "metadata": {},
   "outputs": [],
   "source": []
  }
 ],
 "metadata": {
  "kernelspec": {
   "display_name": "Python 3 (ipykernel)",
   "language": "python",
   "name": "python3"
  },
  "language_info": {
   "codemirror_mode": {
    "name": "ipython",
    "version": 3
   },
   "file_extension": ".py",
   "mimetype": "text/x-python",
   "name": "python",
   "nbconvert_exporter": "python",
   "pygments_lexer": "ipython3",
   "version": "3.11.9"
  }
 },
 "nbformat": 4,
 "nbformat_minor": 2
}
